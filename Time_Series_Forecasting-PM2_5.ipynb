{
 "cells": [
  {
   "cell_type": "code",
   "execution_count": 1,
   "metadata": {},
   "outputs": [],
   "source": [
    "import warnings\n",
    "import itertools\n",
    "import numpy as np\n",
    "import matplotlib.pyplot as plt\n",
    "warnings.filterwarnings(\"ignore\")\n",
    "plt.style.use('fivethirtyeight')\n",
    "import pandas as pd\n",
    "import statsmodels.api as sm\n",
    "import matplotlib\n",
    "matplotlib.rcParams['axes.labelsize'] = 14\n",
    "matplotlib.rcParams['xtick.labelsize'] = 12\n",
    "matplotlib.rcParams['ytick.labelsize'] = 12\n",
    "matplotlib.rcParams['text.color'] = 'k'"
   ]
  },
  {
   "cell_type": "code",
   "execution_count": 2,
   "metadata": {},
   "outputs": [],
   "source": [
    "df = pd.read_excel(\"data1.xls\")\n"
   ]
  },
  {
   "cell_type": "code",
   "execution_count": 3,
   "metadata": {},
   "outputs": [
    {
     "data": {
      "text/plain": [
       "time    0\n",
       "pm25    0\n",
       "dtype: int64"
      ]
     },
     "execution_count": 3,
     "metadata": {},
     "output_type": "execute_result"
    }
   ],
   "source": [
    "# Data Preprocessing\n",
    "\n",
    "cols = ['_id', 'battery', 'distance', 'location', 'name', 'source', 'ward_id']\n",
    "df.drop(cols, axis=1, inplace=True)\n",
    "df = df.sort_values('time')\n",
    "\n",
    "   \n",
    "df['time'] = pd.to_datetime(df['time'])\n",
    "\n",
    "\n",
    "df = df[['time','pm25']]\n",
    "df.isnull().sum()"
   ]
  },
  {
   "cell_type": "code",
   "execution_count": 4,
   "metadata": {},
   "outputs": [
    {
     "data": {
      "text/plain": [
       "<bound method NDFrame.describe of                         time  pm25\n",
       "0    1970-01-01 00:26:02.010    19\n",
       "99   1970-01-01 00:26:02.010    12\n",
       "100  1970-01-01 00:26:02.010    11\n",
       "101  1970-01-01 00:26:02.010     9\n",
       "102  1970-01-01 00:26:02.010     7\n",
       "...                      ...   ...\n",
       "8135 1970-01-01 00:26:02.500    14\n",
       "8134 1970-01-01 00:26:02.500    13\n",
       "8133 1970-01-01 00:26:02.500    15\n",
       "8142 1970-01-01 00:26:02.500    12\n",
       "8200 1970-01-01 00:26:02.500    13\n",
       "\n",
       "[8201 rows x 2 columns]>"
      ]
     },
     "execution_count": 4,
     "metadata": {},
     "output_type": "execute_result"
    }
   ],
   "source": [
    "df.describe\n",
    "\n"
   ]
  },
  {
   "cell_type": "code",
   "execution_count": 5,
   "metadata": {},
   "outputs": [
    {
     "data": {
      "text/html": [
       "<div>\n",
       "<style scoped>\n",
       "    .dataframe tbody tr th:only-of-type {\n",
       "        vertical-align: middle;\n",
       "    }\n",
       "\n",
       "    .dataframe tbody tr th {\n",
       "        vertical-align: top;\n",
       "    }\n",
       "\n",
       "    .dataframe thead th {\n",
       "        text-align: right;\n",
       "    }\n",
       "</style>\n",
       "<table border=\"1\" class=\"dataframe\">\n",
       "  <thead>\n",
       "    <tr style=\"text-align: right;\">\n",
       "      <th></th>\n",
       "      <th>time</th>\n",
       "      <th>pm25</th>\n",
       "    </tr>\n",
       "  </thead>\n",
       "  <tbody>\n",
       "    <tr>\n",
       "      <th>0</th>\n",
       "      <td>1970-01-01 00:26:02.010</td>\n",
       "      <td>19</td>\n",
       "    </tr>\n",
       "    <tr>\n",
       "      <th>99</th>\n",
       "      <td>1970-01-01 00:26:02.010</td>\n",
       "      <td>12</td>\n",
       "    </tr>\n",
       "    <tr>\n",
       "      <th>100</th>\n",
       "      <td>1970-01-01 00:26:02.010</td>\n",
       "      <td>11</td>\n",
       "    </tr>\n",
       "    <tr>\n",
       "      <th>101</th>\n",
       "      <td>1970-01-01 00:26:02.010</td>\n",
       "      <td>9</td>\n",
       "    </tr>\n",
       "    <tr>\n",
       "      <th>102</th>\n",
       "      <td>1970-01-01 00:26:02.010</td>\n",
       "      <td>7</td>\n",
       "    </tr>\n",
       "    <tr>\n",
       "      <th>103</th>\n",
       "      <td>1970-01-01 00:26:02.010</td>\n",
       "      <td>8</td>\n",
       "    </tr>\n",
       "    <tr>\n",
       "      <th>104</th>\n",
       "      <td>1970-01-01 00:26:02.010</td>\n",
       "      <td>10</td>\n",
       "    </tr>\n",
       "    <tr>\n",
       "      <th>105</th>\n",
       "      <td>1970-01-01 00:26:02.010</td>\n",
       "      <td>8</td>\n",
       "    </tr>\n",
       "    <tr>\n",
       "      <th>106</th>\n",
       "      <td>1970-01-01 00:26:02.010</td>\n",
       "      <td>7</td>\n",
       "    </tr>\n",
       "    <tr>\n",
       "      <th>107</th>\n",
       "      <td>1970-01-01 00:26:02.010</td>\n",
       "      <td>9</td>\n",
       "    </tr>\n",
       "    <tr>\n",
       "      <th>108</th>\n",
       "      <td>1970-01-01 00:26:02.010</td>\n",
       "      <td>8</td>\n",
       "    </tr>\n",
       "    <tr>\n",
       "      <th>109</th>\n",
       "      <td>1970-01-01 00:26:02.010</td>\n",
       "      <td>9</td>\n",
       "    </tr>\n",
       "    <tr>\n",
       "      <th>110</th>\n",
       "      <td>1970-01-01 00:26:02.010</td>\n",
       "      <td>9</td>\n",
       "    </tr>\n",
       "    <tr>\n",
       "      <th>111</th>\n",
       "      <td>1970-01-01 00:26:02.010</td>\n",
       "      <td>17</td>\n",
       "    </tr>\n",
       "    <tr>\n",
       "      <th>112</th>\n",
       "      <td>1970-01-01 00:26:02.010</td>\n",
       "      <td>11</td>\n",
       "    </tr>\n",
       "    <tr>\n",
       "      <th>113</th>\n",
       "      <td>1970-01-01 00:26:02.010</td>\n",
       "      <td>11</td>\n",
       "    </tr>\n",
       "    <tr>\n",
       "      <th>98</th>\n",
       "      <td>1970-01-01 00:26:02.010</td>\n",
       "      <td>9</td>\n",
       "    </tr>\n",
       "    <tr>\n",
       "      <th>97</th>\n",
       "      <td>1970-01-01 00:26:02.010</td>\n",
       "      <td>9</td>\n",
       "    </tr>\n",
       "    <tr>\n",
       "      <th>96</th>\n",
       "      <td>1970-01-01 00:26:02.010</td>\n",
       "      <td>9</td>\n",
       "    </tr>\n",
       "    <tr>\n",
       "      <th>95</th>\n",
       "      <td>1970-01-01 00:26:02.010</td>\n",
       "      <td>9</td>\n",
       "    </tr>\n",
       "    <tr>\n",
       "      <th>79</th>\n",
       "      <td>1970-01-01 00:26:02.010</td>\n",
       "      <td>7</td>\n",
       "    </tr>\n",
       "    <tr>\n",
       "      <th>80</th>\n",
       "      <td>1970-01-01 00:26:02.010</td>\n",
       "      <td>6</td>\n",
       "    </tr>\n",
       "    <tr>\n",
       "      <th>81</th>\n",
       "      <td>1970-01-01 00:26:02.010</td>\n",
       "      <td>7</td>\n",
       "    </tr>\n",
       "    <tr>\n",
       "      <th>82</th>\n",
       "      <td>1970-01-01 00:26:02.010</td>\n",
       "      <td>15</td>\n",
       "    </tr>\n",
       "    <tr>\n",
       "      <th>83</th>\n",
       "      <td>1970-01-01 00:26:02.010</td>\n",
       "      <td>15</td>\n",
       "    </tr>\n",
       "    <tr>\n",
       "      <th>84</th>\n",
       "      <td>1970-01-01 00:26:02.010</td>\n",
       "      <td>10</td>\n",
       "    </tr>\n",
       "    <tr>\n",
       "      <th>85</th>\n",
       "      <td>1970-01-01 00:26:02.010</td>\n",
       "      <td>8</td>\n",
       "    </tr>\n",
       "    <tr>\n",
       "      <th>114</th>\n",
       "      <td>1970-01-01 00:26:02.010</td>\n",
       "      <td>8</td>\n",
       "    </tr>\n",
       "    <tr>\n",
       "      <th>86</th>\n",
       "      <td>1970-01-01 00:26:02.010</td>\n",
       "      <td>8</td>\n",
       "    </tr>\n",
       "    <tr>\n",
       "      <th>88</th>\n",
       "      <td>1970-01-01 00:26:02.010</td>\n",
       "      <td>9</td>\n",
       "    </tr>\n",
       "    <tr>\n",
       "      <th>...</th>\n",
       "      <td>...</td>\n",
       "      <td>...</td>\n",
       "    </tr>\n",
       "    <tr>\n",
       "      <th>8112</th>\n",
       "      <td>1970-01-01 00:26:02.500</td>\n",
       "      <td>14</td>\n",
       "    </tr>\n",
       "    <tr>\n",
       "      <th>8111</th>\n",
       "      <td>1970-01-01 00:26:02.500</td>\n",
       "      <td>11</td>\n",
       "    </tr>\n",
       "    <tr>\n",
       "      <th>8110</th>\n",
       "      <td>1970-01-01 00:26:02.500</td>\n",
       "      <td>9</td>\n",
       "    </tr>\n",
       "    <tr>\n",
       "      <th>8199</th>\n",
       "      <td>1970-01-01 00:26:02.500</td>\n",
       "      <td>13</td>\n",
       "    </tr>\n",
       "    <tr>\n",
       "      <th>8129</th>\n",
       "      <td>1970-01-01 00:26:02.500</td>\n",
       "      <td>17</td>\n",
       "    </tr>\n",
       "    <tr>\n",
       "      <th>8130</th>\n",
       "      <td>1970-01-01 00:26:02.500</td>\n",
       "      <td>15</td>\n",
       "    </tr>\n",
       "    <tr>\n",
       "      <th>8131</th>\n",
       "      <td>1970-01-01 00:26:02.500</td>\n",
       "      <td>17</td>\n",
       "    </tr>\n",
       "    <tr>\n",
       "      <th>8132</th>\n",
       "      <td>1970-01-01 00:26:02.500</td>\n",
       "      <td>16</td>\n",
       "    </tr>\n",
       "    <tr>\n",
       "      <th>8152</th>\n",
       "      <td>1970-01-01 00:26:02.500</td>\n",
       "      <td>11</td>\n",
       "    </tr>\n",
       "    <tr>\n",
       "      <th>8151</th>\n",
       "      <td>1970-01-01 00:26:02.500</td>\n",
       "      <td>15</td>\n",
       "    </tr>\n",
       "    <tr>\n",
       "      <th>8150</th>\n",
       "      <td>1970-01-01 00:26:02.500</td>\n",
       "      <td>12</td>\n",
       "    </tr>\n",
       "    <tr>\n",
       "      <th>8149</th>\n",
       "      <td>1970-01-01 00:26:02.500</td>\n",
       "      <td>11</td>\n",
       "    </tr>\n",
       "    <tr>\n",
       "      <th>8148</th>\n",
       "      <td>1970-01-01 00:26:02.500</td>\n",
       "      <td>14</td>\n",
       "    </tr>\n",
       "    <tr>\n",
       "      <th>8147</th>\n",
       "      <td>1970-01-01 00:26:02.500</td>\n",
       "      <td>11</td>\n",
       "    </tr>\n",
       "    <tr>\n",
       "      <th>8146</th>\n",
       "      <td>1970-01-01 00:26:02.500</td>\n",
       "      <td>10</td>\n",
       "    </tr>\n",
       "    <tr>\n",
       "      <th>8145</th>\n",
       "      <td>1970-01-01 00:26:02.500</td>\n",
       "      <td>10</td>\n",
       "    </tr>\n",
       "    <tr>\n",
       "      <th>8144</th>\n",
       "      <td>1970-01-01 00:26:02.500</td>\n",
       "      <td>10</td>\n",
       "    </tr>\n",
       "    <tr>\n",
       "      <th>8154</th>\n",
       "      <td>1970-01-01 00:26:02.500</td>\n",
       "      <td>11</td>\n",
       "    </tr>\n",
       "    <tr>\n",
       "      <th>8143</th>\n",
       "      <td>1970-01-01 00:26:02.500</td>\n",
       "      <td>10</td>\n",
       "    </tr>\n",
       "    <tr>\n",
       "      <th>8141</th>\n",
       "      <td>1970-01-01 00:26:02.500</td>\n",
       "      <td>12</td>\n",
       "    </tr>\n",
       "    <tr>\n",
       "      <th>8140</th>\n",
       "      <td>1970-01-01 00:26:02.500</td>\n",
       "      <td>10</td>\n",
       "    </tr>\n",
       "    <tr>\n",
       "      <th>8139</th>\n",
       "      <td>1970-01-01 00:26:02.500</td>\n",
       "      <td>11</td>\n",
       "    </tr>\n",
       "    <tr>\n",
       "      <th>8138</th>\n",
       "      <td>1970-01-01 00:26:02.500</td>\n",
       "      <td>14</td>\n",
       "    </tr>\n",
       "    <tr>\n",
       "      <th>8137</th>\n",
       "      <td>1970-01-01 00:26:02.500</td>\n",
       "      <td>12</td>\n",
       "    </tr>\n",
       "    <tr>\n",
       "      <th>8136</th>\n",
       "      <td>1970-01-01 00:26:02.500</td>\n",
       "      <td>16</td>\n",
       "    </tr>\n",
       "    <tr>\n",
       "      <th>8135</th>\n",
       "      <td>1970-01-01 00:26:02.500</td>\n",
       "      <td>14</td>\n",
       "    </tr>\n",
       "    <tr>\n",
       "      <th>8134</th>\n",
       "      <td>1970-01-01 00:26:02.500</td>\n",
       "      <td>13</td>\n",
       "    </tr>\n",
       "    <tr>\n",
       "      <th>8133</th>\n",
       "      <td>1970-01-01 00:26:02.500</td>\n",
       "      <td>15</td>\n",
       "    </tr>\n",
       "    <tr>\n",
       "      <th>8142</th>\n",
       "      <td>1970-01-01 00:26:02.500</td>\n",
       "      <td>12</td>\n",
       "    </tr>\n",
       "    <tr>\n",
       "      <th>8200</th>\n",
       "      <td>1970-01-01 00:26:02.500</td>\n",
       "      <td>13</td>\n",
       "    </tr>\n",
       "  </tbody>\n",
       "</table>\n",
       "<p>8201 rows × 2 columns</p>\n",
       "</div>"
      ],
      "text/plain": [
       "                        time  pm25\n",
       "0    1970-01-01 00:26:02.010    19\n",
       "99   1970-01-01 00:26:02.010    12\n",
       "100  1970-01-01 00:26:02.010    11\n",
       "101  1970-01-01 00:26:02.010     9\n",
       "102  1970-01-01 00:26:02.010     7\n",
       "...                      ...   ...\n",
       "8135 1970-01-01 00:26:02.500    14\n",
       "8134 1970-01-01 00:26:02.500    13\n",
       "8133 1970-01-01 00:26:02.500    15\n",
       "8142 1970-01-01 00:26:02.500    12\n",
       "8200 1970-01-01 00:26:02.500    13\n",
       "\n",
       "[8201 rows x 2 columns]"
      ]
     },
     "execution_count": 5,
     "metadata": {},
     "output_type": "execute_result"
    }
   ],
   "source": [
    "df"
   ]
  },
  {
   "cell_type": "code",
   "execution_count": 6,
   "metadata": {},
   "outputs": [
    {
     "data": {
      "text/html": [
       "<div>\n",
       "<style scoped>\n",
       "    .dataframe tbody tr th:only-of-type {\n",
       "        vertical-align: middle;\n",
       "    }\n",
       "\n",
       "    .dataframe tbody tr th {\n",
       "        vertical-align: top;\n",
       "    }\n",
       "\n",
       "    .dataframe thead th {\n",
       "        text-align: right;\n",
       "    }\n",
       "</style>\n",
       "<table border=\"1\" class=\"dataframe\">\n",
       "  <thead>\n",
       "    <tr style=\"text-align: right;\">\n",
       "      <th></th>\n",
       "      <th>pm25</th>\n",
       "    </tr>\n",
       "    <tr>\n",
       "      <th>time</th>\n",
       "      <th></th>\n",
       "    </tr>\n",
       "  </thead>\n",
       "  <tbody>\n",
       "    <tr>\n",
       "      <th>1970-01-01 00:26:02.010</th>\n",
       "      <td>11.655844</td>\n",
       "    </tr>\n",
       "    <tr>\n",
       "      <th>1970-01-01 00:26:02.020</th>\n",
       "      <td>18.125749</td>\n",
       "    </tr>\n",
       "    <tr>\n",
       "      <th>1970-01-01 00:26:02.030</th>\n",
       "      <td>31.580247</td>\n",
       "    </tr>\n",
       "    <tr>\n",
       "      <th>1970-01-01 00:26:02.040</th>\n",
       "      <td>24.095808</td>\n",
       "    </tr>\n",
       "    <tr>\n",
       "      <th>1970-01-01 00:26:02.050</th>\n",
       "      <td>19.554217</td>\n",
       "    </tr>\n",
       "    <tr>\n",
       "      <th>1970-01-01 00:26:02.060</th>\n",
       "      <td>16.197605</td>\n",
       "    </tr>\n",
       "    <tr>\n",
       "      <th>1970-01-01 00:26:02.070</th>\n",
       "      <td>17.773810</td>\n",
       "    </tr>\n",
       "    <tr>\n",
       "      <th>1970-01-01 00:26:02.080</th>\n",
       "      <td>22.636364</td>\n",
       "    </tr>\n",
       "    <tr>\n",
       "      <th>1970-01-01 00:26:02.090</th>\n",
       "      <td>16.460606</td>\n",
       "    </tr>\n",
       "    <tr>\n",
       "      <th>1970-01-01 00:26:02.100</th>\n",
       "      <td>18.916667</td>\n",
       "    </tr>\n",
       "    <tr>\n",
       "      <th>1970-01-01 00:26:02.110</th>\n",
       "      <td>27.964286</td>\n",
       "    </tr>\n",
       "    <tr>\n",
       "      <th>1970-01-01 00:26:02.120</th>\n",
       "      <td>29.323353</td>\n",
       "    </tr>\n",
       "    <tr>\n",
       "      <th>1970-01-01 00:26:02.130</th>\n",
       "      <td>21.562874</td>\n",
       "    </tr>\n",
       "    <tr>\n",
       "      <th>1970-01-01 00:26:02.140</th>\n",
       "      <td>12.608434</td>\n",
       "    </tr>\n",
       "    <tr>\n",
       "      <th>1970-01-01 00:26:02.150</th>\n",
       "      <td>12.530120</td>\n",
       "    </tr>\n",
       "    <tr>\n",
       "      <th>1970-01-01 00:26:02.160</th>\n",
       "      <td>13.500000</td>\n",
       "    </tr>\n",
       "    <tr>\n",
       "      <th>1970-01-01 00:26:02.170</th>\n",
       "      <td>11.791667</td>\n",
       "    </tr>\n",
       "    <tr>\n",
       "      <th>1970-01-01 00:26:02.180</th>\n",
       "      <td>26.283133</td>\n",
       "    </tr>\n",
       "    <tr>\n",
       "      <th>1970-01-01 00:26:02.190</th>\n",
       "      <td>13.218182</td>\n",
       "    </tr>\n",
       "    <tr>\n",
       "      <th>1970-01-01 00:26:02.200</th>\n",
       "      <td>18.691824</td>\n",
       "    </tr>\n",
       "    <tr>\n",
       "      <th>1970-01-01 00:26:02.210</th>\n",
       "      <td>22.855422</td>\n",
       "    </tr>\n",
       "    <tr>\n",
       "      <th>1970-01-01 00:26:02.220</th>\n",
       "      <td>19.615854</td>\n",
       "    </tr>\n",
       "    <tr>\n",
       "      <th>1970-01-01 00:26:02.230</th>\n",
       "      <td>16.345455</td>\n",
       "    </tr>\n",
       "    <tr>\n",
       "      <th>1970-01-01 00:26:02.240</th>\n",
       "      <td>17.843373</td>\n",
       "    </tr>\n",
       "    <tr>\n",
       "      <th>1970-01-01 00:26:02.250</th>\n",
       "      <td>17.962963</td>\n",
       "    </tr>\n",
       "    <tr>\n",
       "      <th>1970-01-01 00:26:02.260</th>\n",
       "      <td>19.987805</td>\n",
       "    </tr>\n",
       "    <tr>\n",
       "      <th>1970-01-01 00:26:02.270</th>\n",
       "      <td>20.409639</td>\n",
       "    </tr>\n",
       "    <tr>\n",
       "      <th>1970-01-01 00:26:02.280</th>\n",
       "      <td>16.385093</td>\n",
       "    </tr>\n",
       "    <tr>\n",
       "      <th>1970-01-01 00:26:02.290</th>\n",
       "      <td>28.300000</td>\n",
       "    </tr>\n",
       "    <tr>\n",
       "      <th>1970-01-01 00:26:02.300</th>\n",
       "      <td>22.589286</td>\n",
       "    </tr>\n",
       "    <tr>\n",
       "      <th>1970-01-01 00:26:02.310</th>\n",
       "      <td>15.842424</td>\n",
       "    </tr>\n",
       "    <tr>\n",
       "      <th>1970-01-01 00:26:02.320</th>\n",
       "      <td>11.497006</td>\n",
       "    </tr>\n",
       "    <tr>\n",
       "      <th>1970-01-01 00:26:02.330</th>\n",
       "      <td>16.263473</td>\n",
       "    </tr>\n",
       "    <tr>\n",
       "      <th>1970-01-01 00:26:02.340</th>\n",
       "      <td>17.658683</td>\n",
       "    </tr>\n",
       "    <tr>\n",
       "      <th>1970-01-01 00:26:02.350</th>\n",
       "      <td>17.085366</td>\n",
       "    </tr>\n",
       "    <tr>\n",
       "      <th>1970-01-01 00:26:02.360</th>\n",
       "      <td>12.628743</td>\n",
       "    </tr>\n",
       "    <tr>\n",
       "      <th>1970-01-01 00:26:02.370</th>\n",
       "      <td>17.969880</td>\n",
       "    </tr>\n",
       "    <tr>\n",
       "      <th>1970-01-01 00:26:02.380</th>\n",
       "      <td>22.684524</td>\n",
       "    </tr>\n",
       "    <tr>\n",
       "      <th>1970-01-01 00:26:02.390</th>\n",
       "      <td>21.319277</td>\n",
       "    </tr>\n",
       "    <tr>\n",
       "      <th>1970-01-01 00:26:02.400</th>\n",
       "      <td>17.813253</td>\n",
       "    </tr>\n",
       "    <tr>\n",
       "      <th>1970-01-01 00:26:02.410</th>\n",
       "      <td>14.696429</td>\n",
       "    </tr>\n",
       "    <tr>\n",
       "      <th>1970-01-01 00:26:02.420</th>\n",
       "      <td>17.279762</td>\n",
       "    </tr>\n",
       "    <tr>\n",
       "      <th>1970-01-01 00:26:02.430</th>\n",
       "      <td>19.718563</td>\n",
       "    </tr>\n",
       "    <tr>\n",
       "      <th>1970-01-01 00:26:02.440</th>\n",
       "      <td>16.239521</td>\n",
       "    </tr>\n",
       "    <tr>\n",
       "      <th>1970-01-01 00:26:02.450</th>\n",
       "      <td>12.708333</td>\n",
       "    </tr>\n",
       "    <tr>\n",
       "      <th>1970-01-01 00:26:02.460</th>\n",
       "      <td>18.396341</td>\n",
       "    </tr>\n",
       "    <tr>\n",
       "      <th>1970-01-01 00:26:02.470</th>\n",
       "      <td>19.130952</td>\n",
       "    </tr>\n",
       "    <tr>\n",
       "      <th>1970-01-01 00:26:02.480</th>\n",
       "      <td>21.310976</td>\n",
       "    </tr>\n",
       "    <tr>\n",
       "      <th>1970-01-01 00:26:02.490</th>\n",
       "      <td>17.536585</td>\n",
       "    </tr>\n",
       "    <tr>\n",
       "      <th>1970-01-01 00:26:02.500</th>\n",
       "      <td>13.340659</td>\n",
       "    </tr>\n",
       "  </tbody>\n",
       "</table>\n",
       "</div>"
      ],
      "text/plain": [
       "                              pm25\n",
       "time                              \n",
       "1970-01-01 00:26:02.010  11.655844\n",
       "1970-01-01 00:26:02.020  18.125749\n",
       "1970-01-01 00:26:02.030  31.580247\n",
       "1970-01-01 00:26:02.040  24.095808\n",
       "1970-01-01 00:26:02.050  19.554217\n",
       "1970-01-01 00:26:02.060  16.197605\n",
       "1970-01-01 00:26:02.070  17.773810\n",
       "1970-01-01 00:26:02.080  22.636364\n",
       "1970-01-01 00:26:02.090  16.460606\n",
       "1970-01-01 00:26:02.100  18.916667\n",
       "1970-01-01 00:26:02.110  27.964286\n",
       "1970-01-01 00:26:02.120  29.323353\n",
       "1970-01-01 00:26:02.130  21.562874\n",
       "1970-01-01 00:26:02.140  12.608434\n",
       "1970-01-01 00:26:02.150  12.530120\n",
       "1970-01-01 00:26:02.160  13.500000\n",
       "1970-01-01 00:26:02.170  11.791667\n",
       "1970-01-01 00:26:02.180  26.283133\n",
       "1970-01-01 00:26:02.190  13.218182\n",
       "1970-01-01 00:26:02.200  18.691824\n",
       "1970-01-01 00:26:02.210  22.855422\n",
       "1970-01-01 00:26:02.220  19.615854\n",
       "1970-01-01 00:26:02.230  16.345455\n",
       "1970-01-01 00:26:02.240  17.843373\n",
       "1970-01-01 00:26:02.250  17.962963\n",
       "1970-01-01 00:26:02.260  19.987805\n",
       "1970-01-01 00:26:02.270  20.409639\n",
       "1970-01-01 00:26:02.280  16.385093\n",
       "1970-01-01 00:26:02.290  28.300000\n",
       "1970-01-01 00:26:02.300  22.589286\n",
       "1970-01-01 00:26:02.310  15.842424\n",
       "1970-01-01 00:26:02.320  11.497006\n",
       "1970-01-01 00:26:02.330  16.263473\n",
       "1970-01-01 00:26:02.340  17.658683\n",
       "1970-01-01 00:26:02.350  17.085366\n",
       "1970-01-01 00:26:02.360  12.628743\n",
       "1970-01-01 00:26:02.370  17.969880\n",
       "1970-01-01 00:26:02.380  22.684524\n",
       "1970-01-01 00:26:02.390  21.319277\n",
       "1970-01-01 00:26:02.400  17.813253\n",
       "1970-01-01 00:26:02.410  14.696429\n",
       "1970-01-01 00:26:02.420  17.279762\n",
       "1970-01-01 00:26:02.430  19.718563\n",
       "1970-01-01 00:26:02.440  16.239521\n",
       "1970-01-01 00:26:02.450  12.708333\n",
       "1970-01-01 00:26:02.460  18.396341\n",
       "1970-01-01 00:26:02.470  19.130952\n",
       "1970-01-01 00:26:02.480  21.310976\n",
       "1970-01-01 00:26:02.490  17.536585\n",
       "1970-01-01 00:26:02.500  13.340659"
      ]
     },
     "execution_count": 6,
     "metadata": {},
     "output_type": "execute_result"
    }
   ],
   "source": [
    "df = df.groupby('time')['pm25'].mean().reset_index()\n",
    "df = df.set_index('time')\n",
    "df.index\n",
    "df"
   ]
  },
  {
   "cell_type": "code",
   "execution_count": 7,
   "metadata": {},
   "outputs": [],
   "source": [
    "y = df['pm25']\n",
    "\n"
   ]
  },
  {
   "cell_type": "code",
   "execution_count": 8,
   "metadata": {},
   "outputs": [
    {
     "data": {
      "image/png": "[encoded data removed]",
      "text/plain": [
       "<Figure size 432x288 with 1 Axes>"
      ]
     },
     "metadata": {
      "needs_background": "light"
     },
     "output_type": "display_data"
    }
   ],
   "source": [
    "y.plot()\n",
    "plt.show()"
   ]
  },
  {
   "cell_type": "code",
   "execution_count": 10,
   "metadata": {},
   "outputs": [
    {
     "name": "stdout",
     "output_type": "stream",
     "text": [
      "Examples of parameter combinations for Seasonal ARIMA...\n",
      "SARIMAX: (0, 0, 1) x (0, 0, 1, 12)\n",
      "SARIMAX: (0, 0, 1) x (0, 0, 2, 12)\n",
      "SARIMAX: (0, 0, 2) x (0, 1, 0, 12)\n",
      "SARIMAX: (0, 0, 2) x (0, 1, 1, 12)\n"
     ]
    }
   ],
   "source": [
    "p = d = q = range(0, 3)\n",
    "pdq = list(itertools.product(p, d, q))\n",
    "seasonal_pdq = [(x[0], x[1], x[2], 12) for x in list(itertools.product(p, d, q))]\n",
    "print('Examples of parameter combinations for Seasonal ARIMA...')\n",
    "print('SARIMAX: {} x {}'.format(pdq[1], seasonal_pdq[1]))\n",
    "print('SARIMAX: {} x {}'.format(pdq[1], seasonal_pdq[2]))\n",
    "print('SARIMAX: {} x {}'.format(pdq[2], seasonal_pdq[3]))\n",
    "print('SARIMAX: {} x {}'.format(pdq[2], seasonal_pdq[4]))"
   ]
  },
  {
   "cell_type": "code",
   "execution_count": 11,
   "metadata": {},
   "outputs": [
    {
     "name": "stderr",
     "output_type": "stream",
     "text": [
      "C:\\Users\\t-bhchha\\AppData\\Roaming\\Python\\Python37\\site-packages\\statsmodels\\tsa\\base\\tsa_model.py:165: ValueWarning: No frequency information was provided, so inferred frequency 10L will be used.\n",
      "  % freq, ValueWarning)\n",
      "C:\\Users\\t-bhchha\\AppData\\Roaming\\Python\\Python37\\site-packages\\statsmodels\\tsa\\base\\tsa_model.py:165: ValueWarning: No frequency information was provided, so inferred frequency 10L will be used.\n",
      "  % freq, ValueWarning)\n",
      "C:\\Users\\t-bhchha\\AppData\\Roaming\\Python\\Python37\\site-packages\\statsmodels\\base\\model.py:512: ConvergenceWarning: Maximum Likelihood optimization failed to converge. Check mle_retvals\n",
      "  \"Check mle_retvals\", ConvergenceWarning)\n",
      "C:\\Users\\t-bhchha\\AppData\\Roaming\\Python\\Python37\\site-packages\\statsmodels\\tsa\\base\\tsa_model.py:165: ValueWarning: No frequency information was provided, so inferred frequency 10L will be used.\n",
      "  % freq, ValueWarning)\n",
      "C:\\Users\\t-bhchha\\AppData\\Roaming\\Python\\Python37\\site-packages\\statsmodels\\tsa\\base\\tsa_model.py:165: ValueWarning: No frequency information was provided, so inferred frequency 10L will be used.\n",
      "  % freq, ValueWarning)\n",
      "C:\\Users\\t-bhchha\\AppData\\Roaming\\Python\\Python37\\site-packages\\statsmodels\\tsa\\base\\tsa_model.py:165: ValueWarning: No frequency information was provided, so inferred frequency 10L will be used.\n",
      "  % freq, ValueWarning)\n"
     ]
    },
    {
     "name": "stdout",
     "output_type": "stream",
     "text": [
      "ARIMA(0, 0, 0)x(0, 0, 0, 12)12 - AIC:430.9291012577052\n",
      "ARIMA(0, 0, 0)x(0, 0, 1, 12)12 - AIC:323.3006412603248\n",
      "ARIMA(0, 0, 0)x(0, 1, 0, 12)12 - AIC:254.8319045061531\n"
     ]
    },
    {
     "name": "stderr",
     "output_type": "stream",
     "text": [
      "C:\\Users\\t-bhchha\\AppData\\Roaming\\Python\\Python37\\site-packages\\statsmodels\\base\\model.py:512: ConvergenceWarning: Maximum Likelihood optimization failed to converge. Check mle_retvals\n",
      "  \"Check mle_retvals\", ConvergenceWarning)\n",
      "C:\\Users\\t-bhchha\\AppData\\Roaming\\Python\\Python37\\site-packages\\statsmodels\\tsa\\base\\tsa_model.py:165: ValueWarning: No frequency information was provided, so inferred frequency 10L will be used.\n",
      "  % freq, ValueWarning)\n",
      "C:\\Users\\t-bhchha\\AppData\\Roaming\\Python\\Python37\\site-packages\\statsmodels\\tsa\\base\\tsa_model.py:165: ValueWarning: No frequency information was provided, so inferred frequency 10L will be used.\n",
      "  % freq, ValueWarning)\n",
      "C:\\Users\\t-bhchha\\AppData\\Roaming\\Python\\Python37\\site-packages\\statsmodels\\tsa\\base\\tsa_model.py:165: ValueWarning: No frequency information was provided, so inferred frequency 10L will be used.\n",
      "  % freq, ValueWarning)\n",
      "C:\\Users\\t-bhchha\\AppData\\Roaming\\Python\\Python37\\site-packages\\statsmodels\\tsa\\base\\tsa_model.py:165: ValueWarning: No frequency information was provided, so inferred frequency 10L will be used.\n",
      "  % freq, ValueWarning)\n",
      "C:\\Users\\t-bhchha\\AppData\\Roaming\\Python\\Python37\\site-packages\\statsmodels\\tsa\\base\\tsa_model.py:165: ValueWarning: No frequency information was provided, so inferred frequency 10L will be used.\n",
      "  % freq, ValueWarning)\n",
      "C:\\Users\\t-bhchha\\AppData\\Roaming\\Python\\Python37\\site-packages\\statsmodels\\tsa\\base\\tsa_model.py:165: ValueWarning: No frequency information was provided, so inferred frequency 10L will be used.\n",
      "  % freq, ValueWarning)\n",
      "C:\\Users\\t-bhchha\\AppData\\Roaming\\Python\\Python37\\site-packages\\statsmodels\\tsa\\base\\tsa_model.py:165: ValueWarning: No frequency information was provided, so inferred frequency 10L will be used.\n",
      "  % freq, ValueWarning)\n",
      "C:\\Users\\t-bhchha\\AppData\\Roaming\\Python\\Python37\\site-packages\\statsmodels\\tsa\\base\\tsa_model.py:165: ValueWarning: No frequency information was provided, so inferred frequency 10L will be used.\n",
      "  % freq, ValueWarning)\n",
      "C:\\Users\\t-bhchha\\AppData\\Roaming\\Python\\Python37\\site-packages\\statsmodels\\tsa\\base\\tsa_model.py:165: ValueWarning: No frequency information was provided, so inferred frequency 10L will be used.\n",
      "  % freq, ValueWarning)\n"
     ]
    },
    {
     "name": "stdout",
     "output_type": "stream",
     "text": [
      "ARIMA(0, 0, 0)x(0, 1, 1, 12)12 - AIC:1302.4655673050788\n",
      "ARIMA(0, 0, 0)x(0, 2, 0, 12)12 - AIC:198.39584548779075\n",
      "ARIMA(0, 0, 0)x(1, 0, 0, 12)12 - AIC:258.7215191747089\n",
      "ARIMA(0, 0, 0)x(1, 0, 1, 12)12 - AIC:240.88307439210246\n",
      "ARIMA(0, 0, 0)x(1, 1, 0, 12)12 - AIC:165.26565581480702\n"
     ]
    },
    {
     "name": "stderr",
     "output_type": "stream",
     "text": [
      "C:\\Users\\t-bhchha\\AppData\\Roaming\\Python\\Python37\\site-packages\\statsmodels\\base\\model.py:512: ConvergenceWarning: Maximum Likelihood optimization failed to converge. Check mle_retvals\n",
      "  \"Check mle_retvals\", ConvergenceWarning)\n",
      "C:\\Users\\t-bhchha\\AppData\\Roaming\\Python\\Python37\\site-packages\\statsmodels\\tsa\\base\\tsa_model.py:165: ValueWarning: No frequency information was provided, so inferred frequency 10L will be used.\n",
      "  % freq, ValueWarning)\n",
      "C:\\Users\\t-bhchha\\AppData\\Roaming\\Python\\Python37\\site-packages\\statsmodels\\tsa\\base\\tsa_model.py:165: ValueWarning: No frequency information was provided, so inferred frequency 10L will be used.\n",
      "  % freq, ValueWarning)\n",
      "C:\\Users\\t-bhchha\\AppData\\Roaming\\Python\\Python37\\site-packages\\statsmodels\\tsa\\base\\tsa_model.py:165: ValueWarning: No frequency information was provided, so inferred frequency 10L will be used.\n",
      "  % freq, ValueWarning)\n",
      "C:\\Users\\t-bhchha\\AppData\\Roaming\\Python\\Python37\\site-packages\\statsmodels\\tsa\\base\\tsa_model.py:165: ValueWarning: No frequency information was provided, so inferred frequency 10L will be used.\n",
      "  % freq, ValueWarning)\n",
      "C:\\Users\\t-bhchha\\AppData\\Roaming\\Python\\Python37\\site-packages\\statsmodels\\tsa\\base\\tsa_model.py:165: ValueWarning: No frequency information was provided, so inferred frequency 10L will be used.\n",
      "  % freq, ValueWarning)\n",
      "C:\\Users\\t-bhchha\\AppData\\Roaming\\Python\\Python37\\site-packages\\statsmodels\\tsa\\base\\tsa_model.py:165: ValueWarning: No frequency information was provided, so inferred frequency 10L will be used.\n",
      "  % freq, ValueWarning)\n"
     ]
    },
    {
     "name": "stdout",
     "output_type": "stream",
     "text": [
      "ARIMA(0, 0, 0)x(1, 1, 1, 12)12 - AIC:951.0509460764312\n",
      "ARIMA(0, 0, 0)x(1, 2, 0, 12)12 - AIC:105.31923479399993\n",
      "ARIMA(0, 0, 0)x(2, 0, 0, 12)12 - AIC:166.2349615622066\n",
      "ARIMA(0, 0, 0)x(2, 0, 1, 12)12 - AIC:164.23876684885255\n",
      "ARIMA(0, 0, 0)x(2, 1, 0, 12)12 - AIC:79.34913209065549\n"
     ]
    },
    {
     "name": "stderr",
     "output_type": "stream",
     "text": [
      "C:\\Users\\t-bhchha\\AppData\\Roaming\\Python\\Python37\\site-packages\\statsmodels\\tsa\\base\\tsa_model.py:165: ValueWarning: No frequency information was provided, so inferred frequency 10L will be used.\n",
      "  % freq, ValueWarning)\n",
      "C:\\Users\\t-bhchha\\AppData\\Roaming\\Python\\Python37\\site-packages\\statsmodels\\tsa\\base\\tsa_model.py:165: ValueWarning: No frequency information was provided, so inferred frequency 10L will be used.\n",
      "  % freq, ValueWarning)\n",
      "C:\\Users\\t-bhchha\\AppData\\Roaming\\Python\\Python37\\site-packages\\statsmodels\\tsa\\base\\tsa_model.py:165: ValueWarning: No frequency information was provided, so inferred frequency 10L will be used.\n",
      "  % freq, ValueWarning)\n",
      "C:\\Users\\t-bhchha\\AppData\\Roaming\\Python\\Python37\\site-packages\\statsmodels\\base\\model.py:512: ConvergenceWarning: Maximum Likelihood optimization failed to converge. Check mle_retvals\n",
      "  \"Check mle_retvals\", ConvergenceWarning)\n",
      "C:\\Users\\t-bhchha\\AppData\\Roaming\\Python\\Python37\\site-packages\\statsmodels\\tsa\\base\\tsa_model.py:165: ValueWarning: No frequency information was provided, so inferred frequency 10L will be used.\n",
      "  % freq, ValueWarning)\n",
      "C:\\Users\\t-bhchha\\AppData\\Roaming\\Python\\Python37\\site-packages\\statsmodels\\tsa\\base\\tsa_model.py:165: ValueWarning: No frequency information was provided, so inferred frequency 10L will be used.\n",
      "  % freq, ValueWarning)\n",
      "C:\\Users\\t-bhchha\\AppData\\Roaming\\Python\\Python37\\site-packages\\statsmodels\\tsa\\base\\tsa_model.py:165: ValueWarning: No frequency information was provided, so inferred frequency 10L will be used.\n",
      "  % freq, ValueWarning)\n",
      "C:\\Users\\t-bhchha\\AppData\\Roaming\\Python\\Python37\\site-packages\\statsmodels\\tsa\\base\\tsa_model.py:165: ValueWarning: No frequency information was provided, so inferred frequency 10L will be used.\n",
      "  % freq, ValueWarning)\n",
      "C:\\Users\\t-bhchha\\AppData\\Roaming\\Python\\Python37\\site-packages\\statsmodels\\tsa\\base\\tsa_model.py:165: ValueWarning: No frequency information was provided, so inferred frequency 10L will be used.\n",
      "  % freq, ValueWarning)\n",
      "C:\\Users\\t-bhchha\\AppData\\Roaming\\Python\\Python37\\site-packages\\statsmodels\\tsa\\base\\tsa_model.py:165: ValueWarning: No frequency information was provided, so inferred frequency 10L will be used.\n",
      "  % freq, ValueWarning)\n",
      "C:\\Users\\t-bhchha\\AppData\\Roaming\\Python\\Python37\\site-packages\\statsmodels\\tsa\\base\\tsa_model.py:165: ValueWarning: No frequency information was provided, so inferred frequency 10L will be used.\n",
      "  % freq, ValueWarning)\n"
     ]
    },
    {
     "name": "stdout",
     "output_type": "stream",
     "text": [
      "ARIMA(0, 0, 0)x(2, 1, 1, 12)12 - AIC:70369552550149.4\n",
      "ARIMA(0, 0, 0)x(2, 2, 0, 12)12 - AIC:nan\n",
      "ARIMA(0, 0, 1)x(0, 0, 0, 12)12 - AIC:376.8448892409023\n",
      "ARIMA(0, 0, 1)x(0, 0, 1, 12)12 - AIC:272.4143419260477\n",
      "ARIMA(0, 0, 1)x(0, 1, 0, 12)12 - AIC:246.6656964373125"
     ]
    },
    {
     "name": "stderr",
     "output_type": "stream",
     "text": [
      "C:\\Users\\t-bhchha\\AppData\\Roaming\\Python\\Python37\\site-packages\\statsmodels\\tsa\\base\\tsa_model.py:165: ValueWarning: No frequency information was provided, so inferred frequency 10L will be used.\n",
      "  % freq, ValueWarning)\n",
      "C:\\Users\\t-bhchha\\AppData\\Roaming\\Python\\Python37\\site-packages\\statsmodels\\tsa\\base\\tsa_model.py:165: ValueWarning: No frequency information was provided, so inferred frequency 10L will be used.\n",
      "  % freq, ValueWarning)\n"
     ]
    },
    {
     "name": "stdout",
     "output_type": "stream",
     "text": [
      "\n"
     ]
    },
    {
     "name": "stderr",
     "output_type": "stream",
     "text": [
      "C:\\Users\\t-bhchha\\AppData\\Roaming\\Python\\Python37\\site-packages\\statsmodels\\base\\model.py:512: ConvergenceWarning: Maximum Likelihood optimization failed to converge. Check mle_retvals\n",
      "  \"Check mle_retvals\", ConvergenceWarning)\n",
      "C:\\Users\\t-bhchha\\AppData\\Roaming\\Python\\Python37\\site-packages\\statsmodels\\tsa\\base\\tsa_model.py:165: ValueWarning: No frequency information was provided, so inferred frequency 10L will be used.\n",
      "  % freq, ValueWarning)\n",
      "C:\\Users\\t-bhchha\\AppData\\Roaming\\Python\\Python37\\site-packages\\statsmodels\\tsa\\base\\tsa_model.py:165: ValueWarning: No frequency information was provided, so inferred frequency 10L will be used.\n",
      "  % freq, ValueWarning)\n",
      "C:\\Users\\t-bhchha\\AppData\\Roaming\\Python\\Python37\\site-packages\\statsmodels\\tsa\\base\\tsa_model.py:165: ValueWarning: No frequency information was provided, so inferred frequency 10L will be used.\n",
      "  % freq, ValueWarning)\n",
      "C:\\Users\\t-bhchha\\AppData\\Roaming\\Python\\Python37\\site-packages\\statsmodels\\tsa\\base\\tsa_model.py:165: ValueWarning: No frequency information was provided, so inferred frequency 10L will be used.\n",
      "  % freq, ValueWarning)\n",
      "C:\\Users\\t-bhchha\\AppData\\Roaming\\Python\\Python37\\site-packages\\statsmodels\\tsa\\base\\tsa_model.py:165: ValueWarning: No frequency information was provided, so inferred frequency 10L will be used.\n",
      "  % freq, ValueWarning)\n",
      "C:\\Users\\t-bhchha\\AppData\\Roaming\\Python\\Python37\\site-packages\\statsmodels\\tsa\\base\\tsa_model.py:165: ValueWarning: No frequency information was provided, so inferred frequency 10L will be used.\n",
      "  % freq, ValueWarning)\n"
     ]
    },
    {
     "name": "stdout",
     "output_type": "stream",
     "text": [
      "ARIMA(0, 0, 1)x(0, 1, 1, 12)12 - AIC:1190.598545262672\n",
      "ARIMA(0, 0, 1)x(0, 2, 0, 12)12 - AIC:191.08770639179738\n",
      "ARIMA(0, 0, 1)x(1, 0, 0, 12)12 - AIC:257.36954845087496\n",
      "ARIMA(0, 0, 1)x(1, 0, 1, 12)12 - AIC:233.01060772961668"
     ]
    },
    {
     "name": "stderr",
     "output_type": "stream",
     "text": [
      "C:\\Users\\t-bhchha\\AppData\\Roaming\\Python\\Python37\\site-packages\\statsmodels\\tsa\\base\\tsa_model.py:165: ValueWarning: No frequency information was provided, so inferred frequency 10L will be used.\n",
      "  % freq, ValueWarning)\n",
      "C:\\Users\\t-bhchha\\AppData\\Roaming\\Python\\Python37\\site-packages\\statsmodels\\tsa\\base\\tsa_model.py:165: ValueWarning: No frequency information was provided, so inferred frequency 10L will be used.\n",
      "  % freq, ValueWarning)\n",
      "C:\\Users\\t-bhchha\\AppData\\Roaming\\Python\\Python37\\site-packages\\statsmodels\\tsa\\base\\tsa_model.py:165: ValueWarning: No frequency information was provided, so inferred frequency 10L will be used.\n",
      "  % freq, ValueWarning)\n"
     ]
    },
    {
     "name": "stdout",
     "output_type": "stream",
     "text": [
      "\n",
      "ARIMA(0, 0, 1)x(1, 1, 0, 12)12 - AIC:165.89513367990304\n"
     ]
    },
    {
     "name": "stderr",
     "output_type": "stream",
     "text": [
      "C:\\Users\\t-bhchha\\AppData\\Roaming\\Python\\Python37\\site-packages\\statsmodels\\base\\model.py:512: ConvergenceWarning: Maximum Likelihood optimization failed to converge. Check mle_retvals\n",
      "  \"Check mle_retvals\", ConvergenceWarning)\n",
      "C:\\Users\\t-bhchha\\AppData\\Roaming\\Python\\Python37\\site-packages\\statsmodels\\tsa\\base\\tsa_model.py:165: ValueWarning: No frequency information was provided, so inferred frequency 10L will be used.\n",
      "  % freq, ValueWarning)\n",
      "C:\\Users\\t-bhchha\\AppData\\Roaming\\Python\\Python37\\site-packages\\statsmodels\\tsa\\base\\tsa_model.py:165: ValueWarning: No frequency information was provided, so inferred frequency 10L will be used.\n",
      "  % freq, ValueWarning)\n",
      "C:\\Users\\t-bhchha\\AppData\\Roaming\\Python\\Python37\\site-packages\\statsmodels\\tsa\\base\\tsa_model.py:165: ValueWarning: No frequency information was provided, so inferred frequency 10L will be used.\n",
      "  % freq, ValueWarning)\n",
      "C:\\Users\\t-bhchha\\AppData\\Roaming\\Python\\Python37\\site-packages\\statsmodels\\tsa\\base\\tsa_model.py:165: ValueWarning: No frequency information was provided, so inferred frequency 10L will be used.\n",
      "  % freq, ValueWarning)\n",
      "C:\\Users\\t-bhchha\\AppData\\Roaming\\Python\\Python37\\site-packages\\statsmodels\\tsa\\base\\tsa_model.py:165: ValueWarning: No frequency information was provided, so inferred frequency 10L will be used.\n",
      "  % freq, ValueWarning)\n"
     ]
    },
    {
     "name": "stdout",
     "output_type": "stream",
     "text": [
      "ARIMA(0, 0, 1)x(1, 1, 1, 12)12 - AIC:1088.6481941800737\n",
      "ARIMA(0, 0, 1)x(1, 2, 0, 12)12 - AIC:105.62943732131335\n"
     ]
    },
    {
     "name": "stderr",
     "output_type": "stream",
     "text": [
      "C:\\Users\\t-bhchha\\AppData\\Roaming\\Python\\Python37\\site-packages\\statsmodels\\base\\model.py:512: ConvergenceWarning: Maximum Likelihood optimization failed to converge. Check mle_retvals\n",
      "  \"Check mle_retvals\", ConvergenceWarning)\n",
      "C:\\Users\\t-bhchha\\AppData\\Roaming\\Python\\Python37\\site-packages\\statsmodels\\tsa\\base\\tsa_model.py:165: ValueWarning: No frequency information was provided, so inferred frequency 10L will be used.\n",
      "  % freq, ValueWarning)\n"
     ]
    },
    {
     "name": "stdout",
     "output_type": "stream",
     "text": [
      "ARIMA(0, 0, 1)x(2, 0, 0, 12)12 - AIC:168.525946910157\n"
     ]
    },
    {
     "name": "stderr",
     "output_type": "stream",
     "text": [
      "C:\\Users\\t-bhchha\\AppData\\Roaming\\Python\\Python37\\site-packages\\statsmodels\\base\\model.py:512: ConvergenceWarning: Maximum Likelihood optimization failed to converge. Check mle_retvals\n",
      "  \"Check mle_retvals\", ConvergenceWarning)\n",
      "C:\\Users\\t-bhchha\\AppData\\Roaming\\Python\\Python37\\site-packages\\statsmodels\\tsa\\base\\tsa_model.py:165: ValueWarning: No frequency information was provided, so inferred frequency 10L will be used.\n",
      "  % freq, ValueWarning)\n",
      "C:\\Users\\t-bhchha\\AppData\\Roaming\\Python\\Python37\\site-packages\\statsmodels\\tsa\\base\\tsa_model.py:165: ValueWarning: No frequency information was provided, so inferred frequency 10L will be used.\n",
      "  % freq, ValueWarning)\n",
      "C:\\Users\\t-bhchha\\AppData\\Roaming\\Python\\Python37\\site-packages\\statsmodels\\tsa\\base\\tsa_model.py:165: ValueWarning: No frequency information was provided, so inferred frequency 10L will be used.\n",
      "  % freq, ValueWarning)\n"
     ]
    },
    {
     "name": "stdout",
     "output_type": "stream",
     "text": [
      "ARIMA(0, 0, 1)x(2, 0, 1, 12)12 - AIC:168.77565150636605\n",
      "ARIMA(0, 0, 1)x(2, 1, 0, 12)12 - AIC:80.67568065584703\n",
      "ARIMA(0, 0, 1)x(2, 1, 1, 12)12 - AIC:80.69646988137062\n"
     ]
    },
    {
     "name": "stderr",
     "output_type": "stream",
     "text": [
      "C:\\Users\\t-bhchha\\AppData\\Roaming\\Python\\Python37\\site-packages\\statsmodels\\tsa\\base\\tsa_model.py:165: ValueWarning: No frequency information was provided, so inferred frequency 10L will be used.\n",
      "  % freq, ValueWarning)\n",
      "C:\\Users\\t-bhchha\\AppData\\Roaming\\Python\\Python37\\site-packages\\statsmodels\\tsa\\base\\tsa_model.py:165: ValueWarning: No frequency information was provided, so inferred frequency 10L will be used.\n",
      "  % freq, ValueWarning)\n"
     ]
    },
    {
     "name": "stdout",
     "output_type": "stream",
     "text": [
      "ARIMA(0, 0, 1)x(2, 2, 0, 12)12 - AIC:22.672826119653912\n",
      "ARIMA(0, 0, 2)x(0, 0, 0, 12)12 - AIC:345.3467125311544\n"
     ]
    },
    {
     "name": "stderr",
     "output_type": "stream",
     "text": [
      "C:\\Users\\t-bhchha\\AppData\\Roaming\\Python\\Python37\\site-packages\\statsmodels\\tsa\\base\\tsa_model.py:165: ValueWarning: No frequency information was provided, so inferred frequency 10L will be used.\n",
      "  % freq, ValueWarning)\n",
      "C:\\Users\\t-bhchha\\AppData\\Roaming\\Python\\Python37\\site-packages\\statsmodels\\tsa\\base\\tsa_model.py:165: ValueWarning: No frequency information was provided, so inferred frequency 10L will be used.\n",
      "  % freq, ValueWarning)\n",
      "C:\\Users\\t-bhchha\\AppData\\Roaming\\Python\\Python37\\site-packages\\statsmodels\\tsa\\base\\tsa_model.py:165: ValueWarning: No frequency information was provided, so inferred frequency 10L will be used.\n",
      "  % freq, ValueWarning)\n",
      "C:\\Users\\t-bhchha\\AppData\\Roaming\\Python\\Python37\\site-packages\\statsmodels\\tsa\\base\\tsa_model.py:165: ValueWarning: No frequency information was provided, so inferred frequency 10L will be used.\n",
      "  % freq, ValueWarning)\n",
      "C:\\Users\\t-bhchha\\AppData\\Roaming\\Python\\Python37\\site-packages\\statsmodels\\base\\model.py:512: ConvergenceWarning: Maximum Likelihood optimization failed to converge. Check mle_retvals\n",
      "  \"Check mle_retvals\", ConvergenceWarning)\n",
      "C:\\Users\\t-bhchha\\AppData\\Roaming\\Python\\Python37\\site-packages\\statsmodels\\tsa\\base\\tsa_model.py:165: ValueWarning: No frequency information was provided, so inferred frequency 10L will be used.\n",
      "  % freq, ValueWarning)\n",
      "C:\\Users\\t-bhchha\\AppData\\Roaming\\Python\\Python37\\site-packages\\statsmodels\\tsa\\base\\tsa_model.py:165: ValueWarning: No frequency information was provided, so inferred frequency 10L will be used.\n",
      "  % freq, ValueWarning)\n",
      "C:\\Users\\t-bhchha\\AppData\\Roaming\\Python\\Python37\\site-packages\\statsmodels\\tsa\\base\\tsa_model.py:165: ValueWarning: No frequency information was provided, so inferred frequency 10L will be used.\n",
      "  % freq, ValueWarning)\n"
     ]
    },
    {
     "name": "stdout",
     "output_type": "stream",
     "text": [
      "ARIMA(0, 0, 2)x(0, 0, 1, 12)12 - AIC:268.3588799917949\n",
      "ARIMA(0, 0, 2)x(0, 1, 0, 12)12 - AIC:236.8710560290533\n"
     ]
    },
    {
     "name": "stderr",
     "output_type": "stream",
     "text": [
      "C:\\Users\\t-bhchha\\AppData\\Roaming\\Python\\Python37\\site-packages\\statsmodels\\base\\model.py:512: ConvergenceWarning: Maximum Likelihood optimization failed to converge. Check mle_retvals\n",
      "  \"Check mle_retvals\", ConvergenceWarning)\n",
      "C:\\Users\\t-bhchha\\AppData\\Roaming\\Python\\Python37\\site-packages\\statsmodels\\tsa\\base\\tsa_model.py:165: ValueWarning: No frequency information was provided, so inferred frequency 10L will be used.\n",
      "  % freq, ValueWarning)\n",
      "C:\\Users\\t-bhchha\\AppData\\Roaming\\Python\\Python37\\site-packages\\statsmodels\\tsa\\base\\tsa_model.py:165: ValueWarning: No frequency information was provided, so inferred frequency 10L will be used.\n",
      "  % freq, ValueWarning)\n",
      "C:\\Users\\t-bhchha\\AppData\\Roaming\\Python\\Python37\\site-packages\\statsmodels\\tsa\\base\\tsa_model.py:165: ValueWarning: No frequency information was provided, so inferred frequency 10L will be used.\n",
      "  % freq, ValueWarning)\n",
      "C:\\Users\\t-bhchha\\AppData\\Roaming\\Python\\Python37\\site-packages\\statsmodels\\tsa\\base\\tsa_model.py:165: ValueWarning: No frequency information was provided, so inferred frequency 10L will be used.\n",
      "  % freq, ValueWarning)\n",
      "C:\\Users\\t-bhchha\\AppData\\Roaming\\Python\\Python37\\site-packages\\statsmodels\\tsa\\base\\tsa_model.py:165: ValueWarning: No frequency information was provided, so inferred frequency 10L will be used.\n",
      "  % freq, ValueWarning)\n"
     ]
    },
    {
     "name": "stdout",
     "output_type": "stream",
     "text": [
      "ARIMA(0, 0, 2)x(0, 1, 1, 12)12 - AIC:972.9317468922104\n",
      "ARIMA(0, 0, 2)x(0, 2, 0, 12)12 - AIC:180.17751353900965\n"
     ]
    },
    {
     "name": "stderr",
     "output_type": "stream",
     "text": [
      "C:\\Users\\t-bhchha\\AppData\\Roaming\\Python\\Python37\\site-packages\\statsmodels\\base\\model.py:512: ConvergenceWarning: Maximum Likelihood optimization failed to converge. Check mle_retvals\n",
      "  \"Check mle_retvals\", ConvergenceWarning)\n",
      "C:\\Users\\t-bhchha\\AppData\\Roaming\\Python\\Python37\\site-packages\\statsmodels\\tsa\\base\\tsa_model.py:165: ValueWarning: No frequency information was provided, so inferred frequency 10L will be used.\n",
      "  % freq, ValueWarning)\n"
     ]
    },
    {
     "name": "stdout",
     "output_type": "stream",
     "text": [
      "ARIMA(0, 0, 2)x(1, 0, 0, 12)12 - AIC:259.50217075318824\n",
      "ARIMA(0, 0, 2)x(1, 0, 1, 12)12 - AIC:227.2231636724534\n",
      "ARIMA(0, 0, 2)x(1, 1, 0, 12)12 - AIC:166.8449011192081\n"
     ]
    },
    {
     "name": "stderr",
     "output_type": "stream",
     "text": [
      "C:\\Users\\t-bhchha\\AppData\\Roaming\\Python\\Python37\\site-packages\\statsmodels\\tsa\\base\\tsa_model.py:165: ValueWarning: No frequency information was provided, so inferred frequency 10L will be used.\n",
      "  % freq, ValueWarning)\n",
      "C:\\Users\\t-bhchha\\AppData\\Roaming\\Python\\Python37\\site-packages\\statsmodels\\tsa\\base\\tsa_model.py:165: ValueWarning: No frequency information was provided, so inferred frequency 10L will be used.\n",
      "  % freq, ValueWarning)\n",
      "C:\\Users\\t-bhchha\\AppData\\Roaming\\Python\\Python37\\site-packages\\statsmodels\\tsa\\base\\tsa_model.py:165: ValueWarning: No frequency information was provided, so inferred frequency 10L will be used.\n",
      "  % freq, ValueWarning)\n",
      "C:\\Users\\t-bhchha\\AppData\\Roaming\\Python\\Python37\\site-packages\\statsmodels\\base\\model.py:512: ConvergenceWarning: Maximum Likelihood optimization failed to converge. Check mle_retvals\n",
      "  \"Check mle_retvals\", ConvergenceWarning)\n",
      "C:\\Users\\t-bhchha\\AppData\\Roaming\\Python\\Python37\\site-packages\\statsmodels\\tsa\\base\\tsa_model.py:165: ValueWarning: No frequency information was provided, so inferred frequency 10L will be used.\n",
      "  % freq, ValueWarning)\n",
      "C:\\Users\\t-bhchha\\AppData\\Roaming\\Python\\Python37\\site-packages\\statsmodels\\tsa\\base\\tsa_model.py:165: ValueWarning: No frequency information was provided, so inferred frequency 10L will be used.\n",
      "  % freq, ValueWarning)\n"
     ]
    },
    {
     "name": "stdout",
     "output_type": "stream",
     "text": [
      "ARIMA(0, 0, 2)x(1, 1, 1, 12)12 - AIC:875.1556269597856\n",
      "ARIMA(0, 0, 2)x(1, 2, 0, 12)12 - AIC:106.31109018416524\n"
     ]
    },
    {
     "name": "stderr",
     "output_type": "stream",
     "text": [
      "C:\\Users\\t-bhchha\\AppData\\Roaming\\Python\\Python37\\site-packages\\statsmodels\\tsa\\base\\tsa_model.py:165: ValueWarning: No frequency information was provided, so inferred frequency 10L will be used.\n",
      "  % freq, ValueWarning)\n",
      "C:\\Users\\t-bhchha\\AppData\\Roaming\\Python\\Python37\\site-packages\\statsmodels\\tsa\\base\\tsa_model.py:165: ValueWarning: No frequency information was provided, so inferred frequency 10L will be used.\n",
      "  % freq, ValueWarning)\n",
      "C:\\Users\\t-bhchha\\AppData\\Roaming\\Python\\Python37\\site-packages\\statsmodels\\tsa\\base\\tsa_model.py:165: ValueWarning: No frequency information was provided, so inferred frequency 10L will be used.\n",
      "  % freq, ValueWarning)\n"
     ]
    },
    {
     "name": "stdout",
     "output_type": "stream",
     "text": [
      "ARIMA(0, 0, 2)x(2, 0, 0, 12)12 - AIC:167.92603008930718\n"
     ]
    },
    {
     "name": "stderr",
     "output_type": "stream",
     "text": [
      "C:\\Users\\t-bhchha\\AppData\\Roaming\\Python\\Python37\\site-packages\\statsmodels\\tsa\\base\\tsa_model.py:165: ValueWarning: No frequency information was provided, so inferred frequency 10L will be used.\n",
      "  % freq, ValueWarning)\n"
     ]
    },
    {
     "name": "stdout",
     "output_type": "stream",
     "text": [
      "ARIMA(0, 0, 2)x(2, 0, 1, 12)12 - AIC:169.8494128991483\n"
     ]
    },
    {
     "name": "stderr",
     "output_type": "stream",
     "text": [
      "C:\\Users\\t-bhchha\\AppData\\Roaming\\Python\\Python37\\site-packages\\statsmodels\\tsa\\base\\tsa_model.py:165: ValueWarning: No frequency information was provided, so inferred frequency 10L will be used.\n",
      "  % freq, ValueWarning)\n",
      "C:\\Users\\t-bhchha\\AppData\\Roaming\\Python\\Python37\\site-packages\\statsmodels\\tsa\\base\\tsa_model.py:165: ValueWarning: No frequency information was provided, so inferred frequency 10L will be used.\n",
      "  % freq, ValueWarning)\n"
     ]
    },
    {
     "name": "stdout",
     "output_type": "stream",
     "text": [
      "ARIMA(0, 0, 2)x(2, 1, 0, 12)12 - AIC:81.30316784002237\n"
     ]
    },
    {
     "name": "stderr",
     "output_type": "stream",
     "text": [
      "C:\\Users\\t-bhchha\\AppData\\Roaming\\Python\\Python37\\site-packages\\statsmodels\\tsa\\base\\tsa_model.py:165: ValueWarning: No frequency information was provided, so inferred frequency 10L will be used.\n",
      "  % freq, ValueWarning)\n"
     ]
    },
    {
     "name": "stdout",
     "output_type": "stream",
     "text": [
      "ARIMA(0, 0, 2)x(2, 1, 1, 12)12 - AIC:80.90654328249678\n"
     ]
    },
    {
     "name": "stderr",
     "output_type": "stream",
     "text": [
      "C:\\Users\\t-bhchha\\AppData\\Roaming\\Python\\Python37\\site-packages\\statsmodels\\tsa\\base\\tsa_model.py:165: ValueWarning: No frequency information was provided, so inferred frequency 10L will be used.\n",
      "  % freq, ValueWarning)\n",
      "C:\\Users\\t-bhchha\\AppData\\Roaming\\Python\\Python37\\site-packages\\statsmodels\\tsa\\base\\tsa_model.py:165: ValueWarning: No frequency information was provided, so inferred frequency 10L will be used.\n",
      "  % freq, ValueWarning)\n"
     ]
    },
    {
     "name": "stdout",
     "output_type": "stream",
     "text": [
      "ARIMA(0, 0, 2)x(2, 2, 0, 12)12 - AIC:10.896063184634585\n",
      "ARIMA(0, 1, 0)x(0, 0, 0, 12)12 - AIC:303.57186727145984\n",
      "ARIMA(0, 1, 0)x(0, 0, 1, 12)12 - AIC:222.23247087094242\n",
      "ARIMA(0, 1, 0)x(0, 1, 0, 12)12 - AIC:260.93898238582415\n",
      "ARIMA(0, 1, 0)x(0, 1, 1, 12)12 - AIC:nan\n",
      "ARIMA(0, 1, 0)x(0, 2, 0, 12)12 - AIC:200.10030802178875\n",
      "ARIMA(0, 1, 0)x(1, 0, 0, 12)12 - AIC:229.34562189745026\n",
      "ARIMA(0, 1, 0)x(1, 0, 1, 12)12 - AIC:223.8708370066111\n",
      "ARIMA(0, 1, 0)x(1, 1, 0, 12)12 - AIC:171.61497506199836\n",
      "ARIMA(0, 1, 0)x(1, 1, 1, 12)12 - AIC:nan\n",
      "ARIMA(0, 1, 0)x(1, 2, 0, 12)12 - AIC:104.31764288388987"
     ]
    },
    {
     "name": "stderr",
     "output_type": "stream",
     "text": [
      "C:\\Users\\t-bhchha\\AppData\\Roaming\\Python\\Python37\\site-packages\\statsmodels\\tsa\\base\\tsa_model.py:165: ValueWarning: No frequency information was provided, so inferred frequency 10L will be used.\n",
      "  % freq, ValueWarning)\n",
      "C:\\Users\\t-bhchha\\AppData\\Roaming\\Python\\Python37\\site-packages\\statsmodels\\tsa\\base\\tsa_model.py:165: ValueWarning: No frequency information was provided, so inferred frequency 10L will be used.\n",
      "  % freq, ValueWarning)\n",
      "C:\\Users\\t-bhchha\\AppData\\Roaming\\Python\\Python37\\site-packages\\statsmodels\\tsa\\base\\tsa_model.py:165: ValueWarning: No frequency information was provided, so inferred frequency 10L will be used.\n",
      "  % freq, ValueWarning)\n",
      "C:\\Users\\t-bhchha\\AppData\\Roaming\\Python\\Python37\\site-packages\\statsmodels\\tsa\\base\\tsa_model.py:165: ValueWarning: No frequency information was provided, so inferred frequency 10L will be used.\n",
      "  % freq, ValueWarning)\n",
      "C:\\Users\\t-bhchha\\AppData\\Roaming\\Python\\Python37\\site-packages\\statsmodels\\tsa\\base\\tsa_model.py:165: ValueWarning: No frequency information was provided, so inferred frequency 10L will be used.\n",
      "  % freq, ValueWarning)\n",
      "C:\\Users\\t-bhchha\\AppData\\Roaming\\Python\\Python37\\site-packages\\statsmodels\\tsa\\base\\tsa_model.py:165: ValueWarning: No frequency information was provided, so inferred frequency 10L will be used.\n",
      "  % freq, ValueWarning)\n",
      "C:\\Users\\t-bhchha\\AppData\\Roaming\\Python\\Python37\\site-packages\\statsmodels\\tsa\\base\\tsa_model.py:165: ValueWarning: No frequency information was provided, so inferred frequency 10L will be used.\n",
      "  % freq, ValueWarning)\n",
      "C:\\Users\\t-bhchha\\AppData\\Roaming\\Python\\Python37\\site-packages\\statsmodels\\tsa\\base\\tsa_model.py:165: ValueWarning: No frequency information was provided, so inferred frequency 10L will be used.\n",
      "  % freq, ValueWarning)\n",
      "C:\\Users\\t-bhchha\\AppData\\Roaming\\Python\\Python37\\site-packages\\statsmodels\\tsa\\base\\tsa_model.py:165: ValueWarning: No frequency information was provided, so inferred frequency 10L will be used.\n",
      "  % freq, ValueWarning)\n",
      "C:\\Users\\t-bhchha\\AppData\\Roaming\\Python\\Python37\\site-packages\\statsmodels\\tsa\\base\\tsa_model.py:165: ValueWarning: No frequency information was provided, so inferred frequency 10L will be used.\n",
      "  % freq, ValueWarning)\n",
      "C:\\Users\\t-bhchha\\AppData\\Roaming\\Python\\Python37\\site-packages\\statsmodels\\tsa\\base\\tsa_model.py:165: ValueWarning: No frequency information was provided, so inferred frequency 10L will be used.\n",
      "  % freq, ValueWarning)\n",
      "C:\\Users\\t-bhchha\\AppData\\Roaming\\Python\\Python37\\site-packages\\statsmodels\\tsa\\base\\tsa_model.py:165: ValueWarning: No frequency information was provided, so inferred frequency 10L will be used.\n",
      "  % freq, ValueWarning)\n",
      "C:\\Users\\t-bhchha\\AppData\\Roaming\\Python\\Python37\\site-packages\\statsmodels\\tsa\\base\\tsa_model.py:165: ValueWarning: No frequency information was provided, so inferred frequency 10L will be used.\n",
      "  % freq, ValueWarning)\n",
      "C:\\Users\\t-bhchha\\AppData\\Roaming\\Python\\Python37\\site-packages\\statsmodels\\tsa\\base\\tsa_model.py:165: ValueWarning: No frequency information was provided, so inferred frequency 10L will be used.\n",
      "  % freq, ValueWarning)\n",
      "C:\\Users\\t-bhchha\\AppData\\Roaming\\Python\\Python37\\site-packages\\statsmodels\\tsa\\base\\tsa_model.py:165: ValueWarning: No frequency information was provided, so inferred frequency 10L will be used.\n",
      "  % freq, ValueWarning)\n",
      "C:\\Users\\t-bhchha\\AppData\\Roaming\\Python\\Python37\\site-packages\\statsmodels\\tsa\\base\\tsa_model.py:165: ValueWarning: No frequency information was provided, so inferred frequency 10L will be used.\n",
      "  % freq, ValueWarning)\n",
      "C:\\Users\\t-bhchha\\AppData\\Roaming\\Python\\Python37\\site-packages\\statsmodels\\tsa\\base\\tsa_model.py:165: ValueWarning: No frequency information was provided, so inferred frequency 10L will be used.\n",
      "  % freq, ValueWarning)\n",
      "C:\\Users\\t-bhchha\\AppData\\Roaming\\Python\\Python37\\site-packages\\statsmodels\\tsa\\base\\tsa_model.py:165: ValueWarning: No frequency information was provided, so inferred frequency 10L will be used.\n",
      "  % freq, ValueWarning)\n"
     ]
    },
    {
     "name": "stdout",
     "output_type": "stream",
     "text": [
      "\n",
      "ARIMA(0, 1, 0)x(2, 0, 0, 12)12 - AIC:147.1898985898119\n",
      "ARIMA(0, 1, 0)x(2, 0, 1, 12)12 - AIC:149.15245693912667\n",
      "ARIMA(0, 1, 0)x(2, 1, 0, 12)12 - AIC:79.7918415143859\n",
      "ARIMA(0, 1, 0)x(2, 1, 1, 12)12 - AIC:nan"
     ]
    },
    {
     "name": "stderr",
     "output_type": "stream",
     "text": [
      "C:\\Users\\t-bhchha\\AppData\\Roaming\\Python\\Python37\\site-packages\\statsmodels\\tsa\\base\\tsa_model.py:165: ValueWarning: No frequency information was provided, so inferred frequency 10L will be used.\n",
      "  % freq, ValueWarning)\n",
      "C:\\Users\\t-bhchha\\AppData\\Roaming\\Python\\Python37\\site-packages\\statsmodels\\tsa\\base\\tsa_model.py:165: ValueWarning: No frequency information was provided, so inferred frequency 10L will be used.\n",
      "  % freq, ValueWarning)\n",
      "C:\\Users\\t-bhchha\\AppData\\Roaming\\Python\\Python37\\site-packages\\statsmodels\\tsa\\base\\tsa_model.py:165: ValueWarning: No frequency information was provided, so inferred frequency 10L will be used.\n",
      "  % freq, ValueWarning)\n",
      "C:\\Users\\t-bhchha\\AppData\\Roaming\\Python\\Python37\\site-packages\\statsmodels\\tsa\\base\\tsa_model.py:165: ValueWarning: No frequency information was provided, so inferred frequency 10L will be used.\n",
      "  % freq, ValueWarning)\n",
      "C:\\Users\\t-bhchha\\AppData\\Roaming\\Python\\Python37\\site-packages\\statsmodels\\tsa\\base\\tsa_model.py:165: ValueWarning: No frequency information was provided, so inferred frequency 10L will be used.\n",
      "  % freq, ValueWarning)\n",
      "C:\\Users\\t-bhchha\\AppData\\Roaming\\Python\\Python37\\site-packages\\statsmodels\\tsa\\base\\tsa_model.py:165: ValueWarning: No frequency information was provided, so inferred frequency 10L will be used.\n",
      "  % freq, ValueWarning)\n",
      "C:\\Users\\t-bhchha\\AppData\\Roaming\\Python\\Python37\\site-packages\\statsmodels\\tsa\\base\\tsa_model.py:165: ValueWarning: No frequency information was provided, so inferred frequency 10L will be used.\n",
      "  % freq, ValueWarning)\n"
     ]
    },
    {
     "name": "stdout",
     "output_type": "stream",
     "text": [
      "\n",
      "ARIMA(0, 1, 0)x(2, 2, 0, 12)12 - AIC:nan\n",
      "ARIMA(0, 1, 1)x(0, 0, 0, 12)12 - AIC:280.8038667274964\n",
      "ARIMA(0, 1, 1)x(0, 0, 1, 12)12 - AIC:204.27923630720557\n",
      "ARIMA(0, 1, 1)x(0, 1, 0, 12)12 - AIC:240.43577910566162\n"
     ]
    },
    {
     "name": "stderr",
     "output_type": "stream",
     "text": [
      "C:\\Users\\t-bhchha\\AppData\\Roaming\\Python\\Python37\\site-packages\\statsmodels\\tsa\\base\\tsa_model.py:165: ValueWarning: No frequency information was provided, so inferred frequency 10L will be used.\n",
      "  % freq, ValueWarning)\n",
      "C:\\Users\\t-bhchha\\AppData\\Roaming\\Python\\Python37\\site-packages\\statsmodels\\tsa\\base\\tsa_model.py:165: ValueWarning: No frequency information was provided, so inferred frequency 10L will be used.\n",
      "  % freq, ValueWarning)\n",
      "C:\\Users\\t-bhchha\\AppData\\Roaming\\Python\\Python37\\site-packages\\statsmodels\\tsa\\base\\tsa_model.py:165: ValueWarning: No frequency information was provided, so inferred frequency 10L will be used.\n",
      "  % freq, ValueWarning)\n",
      "C:\\Users\\t-bhchha\\AppData\\Roaming\\Python\\Python37\\site-packages\\statsmodels\\tsa\\base\\tsa_model.py:165: ValueWarning: No frequency information was provided, so inferred frequency 10L will be used.\n",
      "  % freq, ValueWarning)\n",
      "C:\\Users\\t-bhchha\\AppData\\Roaming\\Python\\Python37\\site-packages\\statsmodels\\tsa\\base\\tsa_model.py:165: ValueWarning: No frequency information was provided, so inferred frequency 10L will be used.\n",
      "  % freq, ValueWarning)\n",
      "C:\\Users\\t-bhchha\\AppData\\Roaming\\Python\\Python37\\site-packages\\statsmodels\\tsa\\base\\tsa_model.py:165: ValueWarning: No frequency information was provided, so inferred frequency 10L will be used.\n",
      "  % freq, ValueWarning)\n",
      "C:\\Users\\t-bhchha\\AppData\\Roaming\\Python\\Python37\\site-packages\\statsmodels\\tsa\\base\\tsa_model.py:165: ValueWarning: No frequency information was provided, so inferred frequency 10L will be used.\n",
      "  % freq, ValueWarning)\n",
      "C:\\Users\\t-bhchha\\AppData\\Roaming\\Python\\Python37\\site-packages\\statsmodels\\tsa\\base\\tsa_model.py:165: ValueWarning: No frequency information was provided, so inferred frequency 10L will be used.\n",
      "  % freq, ValueWarning)\n",
      "C:\\Users\\t-bhchha\\AppData\\Roaming\\Python\\Python37\\site-packages\\statsmodels\\tsa\\base\\tsa_model.py:165: ValueWarning: No frequency information was provided, so inferred frequency 10L will be used.\n",
      "  % freq, ValueWarning)\n",
      "C:\\Users\\t-bhchha\\AppData\\Roaming\\Python\\Python37\\site-packages\\statsmodels\\base\\model.py:512: ConvergenceWarning: Maximum Likelihood optimization failed to converge. Check mle_retvals\n",
      "  \"Check mle_retvals\", ConvergenceWarning)\n",
      "C:\\Users\\t-bhchha\\AppData\\Roaming\\Python\\Python37\\site-packages\\statsmodels\\tsa\\base\\tsa_model.py:165: ValueWarning: No frequency information was provided, so inferred frequency 10L will be used.\n",
      "  % freq, ValueWarning)\n",
      "C:\\Users\\t-bhchha\\AppData\\Roaming\\Python\\Python37\\site-packages\\statsmodels\\tsa\\base\\tsa_model.py:165: ValueWarning: No frequency information was provided, so inferred frequency 10L will be used.\n",
      "  % freq, ValueWarning)\n",
      "C:\\Users\\t-bhchha\\AppData\\Roaming\\Python\\Python37\\site-packages\\statsmodels\\tsa\\base\\tsa_model.py:165: ValueWarning: No frequency information was provided, so inferred frequency 10L will be used.\n",
      "  % freq, ValueWarning)\n",
      "C:\\Users\\t-bhchha\\AppData\\Roaming\\Python\\Python37\\site-packages\\statsmodels\\tsa\\base\\tsa_model.py:165: ValueWarning: No frequency information was provided, so inferred frequency 10L will be used.\n",
      "  % freq, ValueWarning)\n",
      "C:\\Users\\t-bhchha\\AppData\\Roaming\\Python\\Python37\\site-packages\\statsmodels\\tsa\\base\\tsa_model.py:165: ValueWarning: No frequency information was provided, so inferred frequency 10L will be used.\n",
      "  % freq, ValueWarning)\n",
      "C:\\Users\\t-bhchha\\AppData\\Roaming\\Python\\Python37\\site-packages\\statsmodels\\tsa\\base\\tsa_model.py:165: ValueWarning: No frequency information was provided, so inferred frequency 10L will be used.\n",
      "  % freq, ValueWarning)\n",
      "C:\\Users\\t-bhchha\\AppData\\Roaming\\Python\\Python37\\site-packages\\statsmodels\\tsa\\base\\tsa_model.py:165: ValueWarning: No frequency information was provided, so inferred frequency 10L will be used.\n",
      "  % freq, ValueWarning)\n",
      "C:\\Users\\t-bhchha\\AppData\\Roaming\\Python\\Python37\\site-packages\\statsmodels\\tsa\\base\\tsa_model.py:165: ValueWarning: No frequency information was provided, so inferred frequency 10L will be used.\n",
      "  % freq, ValueWarning)\n"
     ]
    },
    {
     "name": "stdout",
     "output_type": "stream",
     "text": [
      "ARIMA(0, 1, 1)x(0, 1, 1, 12)12 - AIC:1056.5211782750046\n",
      "ARIMA(0, 1, 1)x(0, 2, 0, 12)12 - AIC:183.79167883873487\n",
      "ARIMA(0, 1, 1)x(1, 0, 0, 12)12 - AIC:212.30991851565844\n",
      "ARIMA(0, 1, 1)x(1, 0, 1, 12)12 - AIC:203.9181707246688\n",
      "ARIMA(0, 1, 1)x(1, 1, 0, 12)12 - AIC:165.14593760770563\n",
      "ARIMA(0, 1, 1)x(1, 1, 1, 12)12 - AIC:151.40175458695882\n"
     ]
    },
    {
     "name": "stderr",
     "output_type": "stream",
     "text": [
      "C:\\Users\\t-bhchha\\AppData\\Roaming\\Python\\Python37\\site-packages\\statsmodels\\tsa\\base\\tsa_model.py:165: ValueWarning: No frequency information was provided, so inferred frequency 10L will be used.\n",
      "  % freq, ValueWarning)\n",
      "C:\\Users\\t-bhchha\\AppData\\Roaming\\Python\\Python37\\site-packages\\statsmodels\\tsa\\base\\tsa_model.py:165: ValueWarning: No frequency information was provided, so inferred frequency 10L will be used.\n",
      "  % freq, ValueWarning)\n",
      "C:\\Users\\t-bhchha\\AppData\\Roaming\\Python\\Python37\\site-packages\\statsmodels\\tsa\\base\\tsa_model.py:165: ValueWarning: No frequency information was provided, so inferred frequency 10L will be used.\n",
      "  % freq, ValueWarning)\n"
     ]
    },
    {
     "name": "stdout",
     "output_type": "stream",
     "text": [
      "ARIMA(0, 1, 1)x(1, 2, 0, 12)12 - AIC:103.63494979234669\n",
      "ARIMA(0, 1, 1)x(2, 0, 0, 12)12 - AIC:141.65861430127234\n"
     ]
    },
    {
     "name": "stderr",
     "output_type": "stream",
     "text": [
      "C:\\Users\\t-bhchha\\AppData\\Roaming\\Python\\Python37\\site-packages\\statsmodels\\tsa\\base\\tsa_model.py:165: ValueWarning: No frequency information was provided, so inferred frequency 10L will be used.\n",
      "  % freq, ValueWarning)\n",
      "C:\\Users\\t-bhchha\\AppData\\Roaming\\Python\\Python37\\site-packages\\statsmodels\\tsa\\base\\tsa_model.py:165: ValueWarning: No frequency information was provided, so inferred frequency 10L will be used.\n",
      "  % freq, ValueWarning)\n",
      "C:\\Users\\t-bhchha\\AppData\\Roaming\\Python\\Python37\\site-packages\\statsmodels\\tsa\\base\\tsa_model.py:165: ValueWarning: No frequency information was provided, so inferred frequency 10L will be used.\n",
      "  % freq, ValueWarning)\n",
      "C:\\Users\\t-bhchha\\AppData\\Roaming\\Python\\Python37\\site-packages\\statsmodels\\tsa\\base\\tsa_model.py:165: ValueWarning: No frequency information was provided, so inferred frequency 10L will be used.\n",
      "  % freq, ValueWarning)\n"
     ]
    },
    {
     "name": "stdout",
     "output_type": "stream",
     "text": [
      "ARIMA(0, 1, 1)x(2, 0, 1, 12)12 - AIC:142.6589743124107\n"
     ]
    },
    {
     "name": "stderr",
     "output_type": "stream",
     "text": [
      "C:\\Users\\t-bhchha\\AppData\\Roaming\\Python\\Python37\\site-packages\\statsmodels\\tsa\\base\\tsa_model.py:165: ValueWarning: No frequency information was provided, so inferred frequency 10L will be used.\n",
      "  % freq, ValueWarning)\n",
      "C:\\Users\\t-bhchha\\AppData\\Roaming\\Python\\Python37\\site-packages\\statsmodels\\tsa\\base\\tsa_model.py:165: ValueWarning: No frequency information was provided, so inferred frequency 10L will be used.\n",
      "  % freq, ValueWarning)\n"
     ]
    },
    {
     "name": "stdout",
     "output_type": "stream",
     "text": [
      "ARIMA(0, 1, 1)x(2, 1, 0, 12)12 - AIC:77.13734369979481\n"
     ]
    },
    {
     "name": "stderr",
     "output_type": "stream",
     "text": [
      "C:\\Users\\t-bhchha\\AppData\\Roaming\\Python\\Python37\\site-packages\\statsmodels\\tsa\\base\\tsa_model.py:165: ValueWarning: No frequency information was provided, so inferred frequency 10L will be used.\n",
      "  % freq, ValueWarning)\n"
     ]
    },
    {
     "name": "stdout",
     "output_type": "stream",
     "text": [
      "ARIMA(0, 1, 1)x(2, 1, 1, 12)12 - AIC:78.3606996564929\n"
     ]
    },
    {
     "name": "stderr",
     "output_type": "stream",
     "text": [
      "C:\\Users\\t-bhchha\\AppData\\Roaming\\Python\\Python37\\site-packages\\statsmodels\\tsa\\base\\tsa_model.py:165: ValueWarning: No frequency information was provided, so inferred frequency 10L will be used.\n",
      "  % freq, ValueWarning)\n",
      "C:\\Users\\t-bhchha\\AppData\\Roaming\\Python\\Python37\\site-packages\\statsmodels\\tsa\\base\\tsa_model.py:165: ValueWarning: No frequency information was provided, so inferred frequency 10L will be used.\n",
      "  % freq, ValueWarning)\n"
     ]
    },
    {
     "name": "stdout",
     "output_type": "stream",
     "text": [
      "ARIMA(0, 1, 1)x(2, 2, 0, 12)12 - AIC:nan\n",
      "ARIMA(0, 1, 2)x(0, 0, 0, 12)12 - AIC:274.74917551436806\n",
      "ARIMA(0, 1, 2)x(0, 0, 1, 12)12 - AIC:199.6691213077727\n",
      "ARIMA(0, 1, 2)x(0, 1, 0, 12)12 - AIC:233.7890568423151\n"
     ]
    },
    {
     "name": "stderr",
     "output_type": "stream",
     "text": [
      "C:\\Users\\t-bhchha\\AppData\\Roaming\\Python\\Python37\\site-packages\\statsmodels\\tsa\\base\\tsa_model.py:165: ValueWarning: No frequency information was provided, so inferred frequency 10L will be used.\n",
      "  % freq, ValueWarning)\n",
      "C:\\Users\\t-bhchha\\AppData\\Roaming\\Python\\Python37\\site-packages\\statsmodels\\tsa\\base\\tsa_model.py:165: ValueWarning: No frequency information was provided, so inferred frequency 10L will be used.\n",
      "  % freq, ValueWarning)\n",
      "C:\\Users\\t-bhchha\\AppData\\Roaming\\Python\\Python37\\site-packages\\statsmodels\\tsa\\base\\tsa_model.py:165: ValueWarning: No frequency information was provided, so inferred frequency 10L will be used.\n",
      "  % freq, ValueWarning)\n",
      "C:\\Users\\t-bhchha\\AppData\\Roaming\\Python\\Python37\\site-packages\\statsmodels\\tsa\\base\\tsa_model.py:165: ValueWarning: No frequency information was provided, so inferred frequency 10L will be used.\n",
      "  % freq, ValueWarning)\n",
      "C:\\Users\\t-bhchha\\AppData\\Roaming\\Python\\Python37\\site-packages\\statsmodels\\tsa\\base\\tsa_model.py:165: ValueWarning: No frequency information was provided, so inferred frequency 10L will be used.\n",
      "  % freq, ValueWarning)\n",
      "C:\\Users\\t-bhchha\\AppData\\Roaming\\Python\\Python37\\site-packages\\statsmodels\\tsa\\base\\tsa_model.py:165: ValueWarning: No frequency information was provided, so inferred frequency 10L will be used.\n",
      "  % freq, ValueWarning)\n",
      "C:\\Users\\t-bhchha\\AppData\\Roaming\\Python\\Python37\\site-packages\\statsmodels\\tsa\\base\\tsa_model.py:165: ValueWarning: No frequency information was provided, so inferred frequency 10L will be used.\n",
      "  % freq, ValueWarning)\n",
      "C:\\Users\\t-bhchha\\AppData\\Roaming\\Python\\Python37\\site-packages\\statsmodels\\base\\model.py:512: ConvergenceWarning: Maximum Likelihood optimization failed to converge. Check mle_retvals\n",
      "  \"Check mle_retvals\", ConvergenceWarning)\n",
      "C:\\Users\\t-bhchha\\AppData\\Roaming\\Python\\Python37\\site-packages\\statsmodels\\tsa\\base\\tsa_model.py:165: ValueWarning: No frequency information was provided, so inferred frequency 10L will be used.\n",
      "  % freq, ValueWarning)\n",
      "C:\\Users\\t-bhchha\\AppData\\Roaming\\Python\\Python37\\site-packages\\statsmodels\\tsa\\base\\tsa_model.py:165: ValueWarning: No frequency information was provided, so inferred frequency 10L will be used.\n",
      "  % freq, ValueWarning)\n",
      "C:\\Users\\t-bhchha\\AppData\\Roaming\\Python\\Python37\\site-packages\\statsmodels\\tsa\\base\\tsa_model.py:165: ValueWarning: No frequency information was provided, so inferred frequency 10L will be used.\n",
      "  % freq, ValueWarning)\n",
      "C:\\Users\\t-bhchha\\AppData\\Roaming\\Python\\Python37\\site-packages\\statsmodels\\tsa\\base\\tsa_model.py:165: ValueWarning: No frequency information was provided, so inferred frequency 10L will be used.\n",
      "  % freq, ValueWarning)\n",
      "C:\\Users\\t-bhchha\\AppData\\Roaming\\Python\\Python37\\site-packages\\statsmodels\\tsa\\base\\tsa_model.py:165: ValueWarning: No frequency information was provided, so inferred frequency 10L will be used.\n",
      "  % freq, ValueWarning)\n",
      "C:\\Users\\t-bhchha\\AppData\\Roaming\\Python\\Python37\\site-packages\\statsmodels\\tsa\\base\\tsa_model.py:165: ValueWarning: No frequency information was provided, so inferred frequency 10L will be used.\n",
      "  % freq, ValueWarning)\n"
     ]
    },
    {
     "name": "stdout",
     "output_type": "stream",
     "text": [
      "ARIMA(0, 1, 2)x(0, 1, 1, 12)12 - AIC:876.1009355703497\n",
      "ARIMA(0, 1, 2)x(0, 2, 0, 12)12 - AIC:178.10614906939122\n",
      "ARIMA(0, 1, 2)x(1, 0, 0, 12)12 - AIC:213.87520217232833\n",
      "ARIMA(0, 1, 2)x(1, 0, 1, 12)12 - AIC:199.41057834306764\n",
      "ARIMA(0, 1, 2)x(1, 1, 0, 12)12 - AIC:165.242113226799\n"
     ]
    },
    {
     "name": "stderr",
     "output_type": "stream",
     "text": [
      "C:\\Users\\t-bhchha\\AppData\\Roaming\\Python\\Python37\\site-packages\\statsmodels\\tsa\\base\\tsa_model.py:165: ValueWarning: No frequency information was provided, so inferred frequency 10L will be used.\n",
      "  % freq, ValueWarning)\n",
      "C:\\Users\\t-bhchha\\AppData\\Roaming\\Python\\Python37\\site-packages\\statsmodels\\tsa\\base\\tsa_model.py:165: ValueWarning: No frequency information was provided, so inferred frequency 10L will be used.\n",
      "  % freq, ValueWarning)\n",
      "C:\\Users\\t-bhchha\\AppData\\Roaming\\Python\\Python37\\site-packages\\statsmodels\\tsa\\base\\tsa_model.py:165: ValueWarning: No frequency information was provided, so inferred frequency 10L will be used.\n",
      "  % freq, ValueWarning)\n"
     ]
    },
    {
     "name": "stdout",
     "output_type": "stream",
     "text": [
      "ARIMA(0, 1, 2)x(1, 1, 1, 12)12 - AIC:144.39611599480142\n"
     ]
    },
    {
     "name": "stderr",
     "output_type": "stream",
     "text": [
      "C:\\Users\\t-bhchha\\AppData\\Roaming\\Python\\Python37\\site-packages\\statsmodels\\tsa\\base\\tsa_model.py:165: ValueWarning: No frequency information was provided, so inferred frequency 10L will be used.\n",
      "  % freq, ValueWarning)\n",
      "C:\\Users\\t-bhchha\\AppData\\Roaming\\Python\\Python37\\site-packages\\statsmodels\\tsa\\base\\tsa_model.py:165: ValueWarning: No frequency information was provided, so inferred frequency 10L will be used.\n",
      "  % freq, ValueWarning)\n"
     ]
    },
    {
     "name": "stdout",
     "output_type": "stream",
     "text": [
      "ARIMA(0, 1, 2)x(1, 2, 0, 12)12 - AIC:103.27389915267044\n",
      "ARIMA(0, 1, 2)x(2, 0, 0, 12)12 - AIC:140.3584328097383\n"
     ]
    },
    {
     "name": "stderr",
     "output_type": "stream",
     "text": [
      "C:\\Users\\t-bhchha\\AppData\\Roaming\\Python\\Python37\\site-packages\\statsmodels\\tsa\\base\\tsa_model.py:165: ValueWarning: No frequency information was provided, so inferred frequency 10L will be used.\n",
      "  % freq, ValueWarning)\n",
      "C:\\Users\\t-bhchha\\AppData\\Roaming\\Python\\Python37\\site-packages\\statsmodels\\tsa\\base\\tsa_model.py:165: ValueWarning: No frequency information was provided, so inferred frequency 10L will be used.\n",
      "  % freq, ValueWarning)\n",
      "C:\\Users\\t-bhchha\\AppData\\Roaming\\Python\\Python37\\site-packages\\statsmodels\\tsa\\base\\tsa_model.py:165: ValueWarning: No frequency information was provided, so inferred frequency 10L will be used.\n",
      "  % freq, ValueWarning)\n",
      "C:\\Users\\t-bhchha\\AppData\\Roaming\\Python\\Python37\\site-packages\\statsmodels\\tsa\\base\\tsa_model.py:165: ValueWarning: No frequency information was provided, so inferred frequency 10L will be used.\n",
      "  % freq, ValueWarning)\n"
     ]
    },
    {
     "name": "stdout",
     "output_type": "stream",
     "text": [
      "ARIMA(0, 1, 2)x(2, 0, 1, 12)12 - AIC:142.12579667618098\n"
     ]
    },
    {
     "name": "stderr",
     "output_type": "stream",
     "text": [
      "C:\\Users\\t-bhchha\\AppData\\Roaming\\Python\\Python37\\site-packages\\statsmodels\\tsa\\base\\tsa_model.py:165: ValueWarning: No frequency information was provided, so inferred frequency 10L will be used.\n",
      "  % freq, ValueWarning)\n",
      "C:\\Users\\t-bhchha\\AppData\\Roaming\\Python\\Python37\\site-packages\\statsmodels\\tsa\\base\\tsa_model.py:165: ValueWarning: No frequency information was provided, so inferred frequency 10L will be used.\n",
      "  % freq, ValueWarning)\n"
     ]
    },
    {
     "name": "stdout",
     "output_type": "stream",
     "text": [
      "ARIMA(0, 1, 2)x(2, 1, 0, 12)12 - AIC:79.00609057816965\n"
     ]
    },
    {
     "name": "stderr",
     "output_type": "stream",
     "text": [
      "C:\\Users\\t-bhchha\\AppData\\Roaming\\Python\\Python37\\site-packages\\statsmodels\\tsa\\base\\tsa_model.py:165: ValueWarning: No frequency information was provided, so inferred frequency 10L will be used.\n",
      "  % freq, ValueWarning)\n"
     ]
    },
    {
     "name": "stdout",
     "output_type": "stream",
     "text": [
      "ARIMA(0, 1, 2)x(2, 1, 1, 12)12 - AIC:80.05567379482034\n"
     ]
    },
    {
     "name": "stderr",
     "output_type": "stream",
     "text": [
      "C:\\Users\\t-bhchha\\AppData\\Roaming\\Python\\Python37\\site-packages\\statsmodels\\tsa\\base\\tsa_model.py:165: ValueWarning: No frequency information was provided, so inferred frequency 10L will be used.\n",
      "  % freq, ValueWarning)\n",
      "C:\\Users\\t-bhchha\\AppData\\Roaming\\Python\\Python37\\site-packages\\statsmodels\\tsa\\base\\tsa_model.py:165: ValueWarning: No frequency information was provided, so inferred frequency 10L will be used.\n",
      "  % freq, ValueWarning)\n",
      "C:\\Users\\t-bhchha\\AppData\\Roaming\\Python\\Python37\\site-packages\\statsmodels\\base\\model.py:512: ConvergenceWarning: Maximum Likelihood optimization failed to converge. Check mle_retvals\n",
      "  \"Check mle_retvals\", ConvergenceWarning)\n",
      "C:\\Users\\t-bhchha\\AppData\\Roaming\\Python\\Python37\\site-packages\\statsmodels\\tsa\\base\\tsa_model.py:165: ValueWarning: No frequency information was provided, so inferred frequency 10L will be used.\n",
      "  % freq, ValueWarning)\n",
      "C:\\Users\\t-bhchha\\AppData\\Roaming\\Python\\Python37\\site-packages\\statsmodels\\tsa\\base\\tsa_model.py:165: ValueWarning: No frequency information was provided, so inferred frequency 10L will be used.\n",
      "  % freq, ValueWarning)\n",
      "C:\\Users\\t-bhchha\\AppData\\Roaming\\Python\\Python37\\site-packages\\statsmodels\\tsa\\base\\tsa_model.py:165: ValueWarning: No frequency information was provided, so inferred frequency 10L will be used.\n",
      "  % freq, ValueWarning)\n",
      "C:\\Users\\t-bhchha\\AppData\\Roaming\\Python\\Python37\\site-packages\\statsmodels\\tsa\\base\\tsa_model.py:165: ValueWarning: No frequency information was provided, so inferred frequency 10L will be used.\n",
      "  % freq, ValueWarning)\n",
      "C:\\Users\\t-bhchha\\AppData\\Roaming\\Python\\Python37\\site-packages\\statsmodels\\base\\model.py:512: ConvergenceWarning: Maximum Likelihood optimization failed to converge. Check mle_retvals\n",
      "  \"Check mle_retvals\", ConvergenceWarning)\n"
     ]
    },
    {
     "name": "stdout",
     "output_type": "stream",
     "text": [
      "ARIMA(0, 1, 2)x(2, 2, 0, 12)12 - AIC:-4.748052159629776\n",
      "ARIMA(0, 2, 0)x(0, 0, 0, 12)12 - AIC:337.48974349717736\n",
      "ARIMA(0, 2, 0)x(0, 0, 1, 12)12 - AIC:1144.4452320353566\n",
      "ARIMA(0, 2, 0)x(0, 1, 0, 12)12 - AIC:286.70437134607175\n"
     ]
    },
    {
     "name": "stderr",
     "output_type": "stream",
     "text": [
      "C:\\Users\\t-bhchha\\AppData\\Roaming\\Python\\Python37\\site-packages\\statsmodels\\tsa\\base\\tsa_model.py:165: ValueWarning: No frequency information was provided, so inferred frequency 10L will be used.\n",
      "  % freq, ValueWarning)\n",
      "C:\\Users\\t-bhchha\\AppData\\Roaming\\Python\\Python37\\site-packages\\statsmodels\\tsa\\base\\tsa_model.py:165: ValueWarning: No frequency information was provided, so inferred frequency 10L will be used.\n",
      "  % freq, ValueWarning)\n",
      "C:\\Users\\t-bhchha\\AppData\\Roaming\\Python\\Python37\\site-packages\\statsmodels\\tsa\\base\\tsa_model.py:165: ValueWarning: No frequency information was provided, so inferred frequency 10L will be used.\n",
      "  % freq, ValueWarning)\n",
      "C:\\Users\\t-bhchha\\AppData\\Roaming\\Python\\Python37\\site-packages\\statsmodels\\tsa\\base\\tsa_model.py:165: ValueWarning: No frequency information was provided, so inferred frequency 10L will be used.\n",
      "  % freq, ValueWarning)\n",
      "C:\\Users\\t-bhchha\\AppData\\Roaming\\Python\\Python37\\site-packages\\statsmodels\\tsa\\base\\tsa_model.py:165: ValueWarning: No frequency information was provided, so inferred frequency 10L will be used.\n",
      "  % freq, ValueWarning)\n",
      "C:\\Users\\t-bhchha\\AppData\\Roaming\\Python\\Python37\\site-packages\\statsmodels\\tsa\\base\\tsa_model.py:165: ValueWarning: No frequency information was provided, so inferred frequency 10L will be used.\n",
      "  % freq, ValueWarning)\n",
      "C:\\Users\\t-bhchha\\AppData\\Roaming\\Python\\Python37\\site-packages\\statsmodels\\tsa\\base\\tsa_model.py:165: ValueWarning: No frequency information was provided, so inferred frequency 10L will be used.\n",
      "  % freq, ValueWarning)\n",
      "C:\\Users\\t-bhchha\\AppData\\Roaming\\Python\\Python37\\site-packages\\statsmodels\\tsa\\base\\tsa_model.py:165: ValueWarning: No frequency information was provided, so inferred frequency 10L will be used.\n",
      "  % freq, ValueWarning)\n",
      "C:\\Users\\t-bhchha\\AppData\\Roaming\\Python\\Python37\\site-packages\\statsmodels\\tsa\\base\\tsa_model.py:165: ValueWarning: No frequency information was provided, so inferred frequency 10L will be used.\n",
      "  % freq, ValueWarning)\n"
     ]
    },
    {
     "name": "stdout",
     "output_type": "stream",
     "text": [
      "ARIMA(0, 2, 0)x(0, 2, 0, 12)12 - AIC:217.43214400978707\n",
      "ARIMA(0, 2, 0)x(1, 0, 0, 12)12 - AIC:258.79743712991944\n"
     ]
    },
    {
     "name": "stderr",
     "output_type": "stream",
     "text": [
      "C:\\Users\\t-bhchha\\AppData\\Roaming\\Python\\Python37\\site-packages\\statsmodels\\base\\model.py:512: ConvergenceWarning: Maximum Likelihood optimization failed to converge. Check mle_retvals\n",
      "  \"Check mle_retvals\", ConvergenceWarning)\n",
      "C:\\Users\\t-bhchha\\AppData\\Roaming\\Python\\Python37\\site-packages\\statsmodels\\tsa\\base\\tsa_model.py:165: ValueWarning: No frequency information was provided, so inferred frequency 10L will be used.\n",
      "  % freq, ValueWarning)\n",
      "C:\\Users\\t-bhchha\\AppData\\Roaming\\Python\\Python37\\site-packages\\statsmodels\\tsa\\base\\tsa_model.py:165: ValueWarning: No frequency information was provided, so inferred frequency 10L will be used.\n",
      "  % freq, ValueWarning)\n",
      "C:\\Users\\t-bhchha\\AppData\\Roaming\\Python\\Python37\\site-packages\\statsmodels\\tsa\\base\\tsa_model.py:165: ValueWarning: No frequency information was provided, so inferred frequency 10L will be used.\n",
      "  % freq, ValueWarning)\n",
      "C:\\Users\\t-bhchha\\AppData\\Roaming\\Python\\Python37\\site-packages\\statsmodels\\tsa\\base\\tsa_model.py:165: ValueWarning: No frequency information was provided, so inferred frequency 10L will be used.\n",
      "  % freq, ValueWarning)\n",
      "C:\\Users\\t-bhchha\\AppData\\Roaming\\Python\\Python37\\site-packages\\statsmodels\\tsa\\base\\tsa_model.py:165: ValueWarning: No frequency information was provided, so inferred frequency 10L will be used.\n",
      "  % freq, ValueWarning)\n",
      "C:\\Users\\t-bhchha\\AppData\\Roaming\\Python\\Python37\\site-packages\\statsmodels\\tsa\\base\\tsa_model.py:165: ValueWarning: No frequency information was provided, so inferred frequency 10L will be used.\n",
      "  % freq, ValueWarning)\n",
      "C:\\Users\\t-bhchha\\AppData\\Roaming\\Python\\Python37\\site-packages\\statsmodels\\tsa\\base\\tsa_model.py:165: ValueWarning: No frequency information was provided, so inferred frequency 10L will be used.\n",
      "  % freq, ValueWarning)\n",
      "C:\\Users\\t-bhchha\\AppData\\Roaming\\Python\\Python37\\site-packages\\statsmodels\\tsa\\base\\tsa_model.py:165: ValueWarning: No frequency information was provided, so inferred frequency 10L will be used.\n",
      "  % freq, ValueWarning)\n",
      "C:\\Users\\t-bhchha\\AppData\\Roaming\\Python\\Python37\\site-packages\\statsmodels\\tsa\\base\\tsa_model.py:165: ValueWarning: No frequency information was provided, so inferred frequency 10L will be used.\n",
      "  % freq, ValueWarning)\n"
     ]
    },
    {
     "name": "stdout",
     "output_type": "stream",
     "text": [
      "ARIMA(0, 2, 0)x(1, 0, 1, 12)12 - AIC:1413.636989622959\n",
      "ARIMA(0, 2, 0)x(1, 1, 0, 12)12 - AIC:185.80035673350366\n",
      "ARIMA(0, 2, 0)x(1, 2, 0, 12)12 - AIC:103.72441982195315\n",
      "ARIMA(0, 2, 0)x(2, 0, 0, 12)12 - AIC:161.88246941770564\n"
     ]
    },
    {
     "name": "stderr",
     "output_type": "stream",
     "text": [
      "C:\\Users\\t-bhchha\\AppData\\Roaming\\Python\\Python37\\site-packages\\statsmodels\\base\\model.py:512: ConvergenceWarning: Maximum Likelihood optimization failed to converge. Check mle_retvals\n",
      "  \"Check mle_retvals\", ConvergenceWarning)\n",
      "C:\\Users\\t-bhchha\\AppData\\Roaming\\Python\\Python37\\site-packages\\statsmodels\\tsa\\base\\tsa_model.py:165: ValueWarning: No frequency information was provided, so inferred frequency 10L will be used.\n",
      "  % freq, ValueWarning)\n",
      "C:\\Users\\t-bhchha\\AppData\\Roaming\\Python\\Python37\\site-packages\\statsmodels\\tsa\\base\\tsa_model.py:165: ValueWarning: No frequency information was provided, so inferred frequency 10L will be used.\n",
      "  % freq, ValueWarning)\n",
      "C:\\Users\\t-bhchha\\AppData\\Roaming\\Python\\Python37\\site-packages\\statsmodels\\tsa\\base\\tsa_model.py:165: ValueWarning: No frequency information was provided, so inferred frequency 10L will be used.\n",
      "  % freq, ValueWarning)\n",
      "C:\\Users\\t-bhchha\\AppData\\Roaming\\Python\\Python37\\site-packages\\statsmodels\\tsa\\base\\tsa_model.py:165: ValueWarning: No frequency information was provided, so inferred frequency 10L will be used.\n",
      "  % freq, ValueWarning)\n",
      "C:\\Users\\t-bhchha\\AppData\\Roaming\\Python\\Python37\\site-packages\\statsmodels\\tsa\\base\\tsa_model.py:165: ValueWarning: No frequency information was provided, so inferred frequency 10L will be used.\n",
      "  % freq, ValueWarning)\n",
      "C:\\Users\\t-bhchha\\AppData\\Roaming\\Python\\Python37\\site-packages\\statsmodels\\tsa\\base\\tsa_model.py:165: ValueWarning: No frequency information was provided, so inferred frequency 10L will be used.\n",
      "  % freq, ValueWarning)\n",
      "C:\\Users\\t-bhchha\\AppData\\Roaming\\Python\\Python37\\site-packages\\statsmodels\\tsa\\base\\tsa_model.py:165: ValueWarning: No frequency information was provided, so inferred frequency 10L will be used.\n",
      "  % freq, ValueWarning)\n",
      "C:\\Users\\t-bhchha\\AppData\\Roaming\\Python\\Python37\\site-packages\\statsmodels\\tsa\\base\\tsa_model.py:165: ValueWarning: No frequency information was provided, so inferred frequency 10L will be used.\n",
      "  % freq, ValueWarning)\n",
      "C:\\Users\\t-bhchha\\AppData\\Roaming\\Python\\Python37\\site-packages\\statsmodels\\tsa\\base\\tsa_model.py:165: ValueWarning: No frequency information was provided, so inferred frequency 10L will be used.\n",
      "  % freq, ValueWarning)\n"
     ]
    },
    {
     "name": "stdout",
     "output_type": "stream",
     "text": [
      "ARIMA(0, 2, 0)x(2, 0, 1, 12)12 - AIC:913.8250465932492\n",
      "ARIMA(0, 2, 0)x(2, 1, 0, 12)12 - AIC:87.1877968622417\n",
      "ARIMA(0, 2, 1)x(0, 0, 0, 12)12 - AIC:291.70292945785866\n"
     ]
    },
    {
     "name": "stderr",
     "output_type": "stream",
     "text": [
      "C:\\Users\\t-bhchha\\AppData\\Roaming\\Python\\Python37\\site-packages\\statsmodels\\base\\model.py:512: ConvergenceWarning: Maximum Likelihood optimization failed to converge. Check mle_retvals\n",
      "  \"Check mle_retvals\", ConvergenceWarning)\n",
      "C:\\Users\\t-bhchha\\AppData\\Roaming\\Python\\Python37\\site-packages\\statsmodels\\tsa\\base\\tsa_model.py:165: ValueWarning: No frequency information was provided, so inferred frequency 10L will be used.\n",
      "  % freq, ValueWarning)\n",
      "C:\\Users\\t-bhchha\\AppData\\Roaming\\Python\\Python37\\site-packages\\statsmodels\\tsa\\base\\tsa_model.py:165: ValueWarning: No frequency information was provided, so inferred frequency 10L will be used.\n",
      "  % freq, ValueWarning)\n",
      "C:\\Users\\t-bhchha\\AppData\\Roaming\\Python\\Python37\\site-packages\\statsmodels\\tsa\\base\\tsa_model.py:165: ValueWarning: No frequency information was provided, so inferred frequency 10L will be used.\n",
      "  % freq, ValueWarning)\n",
      "C:\\Users\\t-bhchha\\AppData\\Roaming\\Python\\Python37\\site-packages\\statsmodels\\tsa\\base\\tsa_model.py:165: ValueWarning: No frequency information was provided, so inferred frequency 10L will be used.\n",
      "  % freq, ValueWarning)\n",
      "C:\\Users\\t-bhchha\\AppData\\Roaming\\Python\\Python37\\site-packages\\statsmodels\\tsa\\base\\tsa_model.py:165: ValueWarning: No frequency information was provided, so inferred frequency 10L will be used.\n",
      "  % freq, ValueWarning)\n",
      "C:\\Users\\t-bhchha\\AppData\\Roaming\\Python\\Python37\\site-packages\\statsmodels\\tsa\\base\\tsa_model.py:165: ValueWarning: No frequency information was provided, so inferred frequency 10L will be used.\n",
      "  % freq, ValueWarning)\n",
      "C:\\Users\\t-bhchha\\AppData\\Roaming\\Python\\Python37\\site-packages\\statsmodels\\tsa\\base\\tsa_model.py:165: ValueWarning: No frequency information was provided, so inferred frequency 10L will be used.\n",
      "  % freq, ValueWarning)\n",
      "C:\\Users\\t-bhchha\\AppData\\Roaming\\Python\\Python37\\site-packages\\statsmodels\\tsa\\base\\tsa_model.py:165: ValueWarning: No frequency information was provided, so inferred frequency 10L will be used.\n",
      "  % freq, ValueWarning)\n",
      "C:\\Users\\t-bhchha\\AppData\\Roaming\\Python\\Python37\\site-packages\\statsmodels\\tsa\\base\\tsa_model.py:165: ValueWarning: No frequency information was provided, so inferred frequency 10L will be used.\n",
      "  % freq, ValueWarning)\n"
     ]
    },
    {
     "name": "stdout",
     "output_type": "stream",
     "text": [
      "ARIMA(0, 2, 1)x(0, 0, 1, 12)12 - AIC:1155.0716615097156\n",
      "ARIMA(0, 2, 1)x(0, 1, 0, 12)12 - AIC:251.46441508258712\n",
      "ARIMA(0, 2, 1)x(0, 2, 0, 12)12 - AIC:189.07048988770356\n",
      "ARIMA(0, 2, 1)x(1, 0, 0, 12)12 - AIC:229.81520068724257\n"
     ]
    },
    {
     "name": "stderr",
     "output_type": "stream",
     "text": [
      "C:\\Users\\t-bhchha\\AppData\\Roaming\\Python\\Python37\\site-packages\\statsmodels\\base\\model.py:512: ConvergenceWarning: Maximum Likelihood optimization failed to converge. Check mle_retvals\n",
      "  \"Check mle_retvals\", ConvergenceWarning)\n",
      "C:\\Users\\t-bhchha\\AppData\\Roaming\\Python\\Python37\\site-packages\\statsmodels\\tsa\\base\\tsa_model.py:165: ValueWarning: No frequency information was provided, so inferred frequency 10L will be used.\n",
      "  % freq, ValueWarning)\n",
      "C:\\Users\\t-bhchha\\AppData\\Roaming\\Python\\Python37\\site-packages\\statsmodels\\tsa\\base\\tsa_model.py:165: ValueWarning: No frequency information was provided, so inferred frequency 10L will be used.\n",
      "  % freq, ValueWarning)\n",
      "C:\\Users\\t-bhchha\\AppData\\Roaming\\Python\\Python37\\site-packages\\statsmodels\\tsa\\base\\tsa_model.py:165: ValueWarning: No frequency information was provided, so inferred frequency 10L will be used.\n",
      "  % freq, ValueWarning)\n",
      "C:\\Users\\t-bhchha\\AppData\\Roaming\\Python\\Python37\\site-packages\\statsmodels\\tsa\\base\\tsa_model.py:165: ValueWarning: No frequency information was provided, so inferred frequency 10L will be used.\n",
      "  % freq, ValueWarning)\n",
      "C:\\Users\\t-bhchha\\AppData\\Roaming\\Python\\Python37\\site-packages\\statsmodels\\tsa\\base\\tsa_model.py:165: ValueWarning: No frequency information was provided, so inferred frequency 10L will be used.\n",
      "  % freq, ValueWarning)\n"
     ]
    },
    {
     "name": "stdout",
     "output_type": "stream",
     "text": [
      "ARIMA(0, 2, 1)x(1, 0, 1, 12)12 - AIC:1188.888171990185\n",
      "ARIMA(0, 2, 1)x(1, 1, 0, 12)12 - AIC:171.04226853185804\n",
      "ARIMA(0, 2, 1)x(1, 2, 0, 12)12 - AIC:102.03618084037878\n",
      "ARIMA(0, 2, 1)x(2, 0, 0, 12)12 - AIC:147.72460387160925\n"
     ]
    },
    {
     "name": "stderr",
     "output_type": "stream",
     "text": [
      "C:\\Users\\t-bhchha\\AppData\\Roaming\\Python\\Python37\\site-packages\\statsmodels\\tsa\\base\\tsa_model.py:165: ValueWarning: No frequency information was provided, so inferred frequency 10L will be used.\n",
      "  % freq, ValueWarning)\n",
      "C:\\Users\\t-bhchha\\AppData\\Roaming\\Python\\Python37\\site-packages\\statsmodels\\tsa\\base\\tsa_model.py:165: ValueWarning: No frequency information was provided, so inferred frequency 10L will be used.\n",
      "  % freq, ValueWarning)\n",
      "C:\\Users\\t-bhchha\\AppData\\Roaming\\Python\\Python37\\site-packages\\statsmodels\\tsa\\base\\tsa_model.py:165: ValueWarning: No frequency information was provided, so inferred frequency 10L will be used.\n",
      "  % freq, ValueWarning)\n",
      "C:\\Users\\t-bhchha\\AppData\\Roaming\\Python\\Python37\\site-packages\\statsmodels\\tsa\\base\\tsa_model.py:165: ValueWarning: No frequency information was provided, so inferred frequency 10L will be used.\n",
      "  % freq, ValueWarning)\n",
      "C:\\Users\\t-bhchha\\AppData\\Roaming\\Python\\Python37\\site-packages\\statsmodels\\base\\model.py:512: ConvergenceWarning: Maximum Likelihood optimization failed to converge. Check mle_retvals\n",
      "  \"Check mle_retvals\", ConvergenceWarning)\n",
      "C:\\Users\\t-bhchha\\AppData\\Roaming\\Python\\Python37\\site-packages\\statsmodels\\tsa\\base\\tsa_model.py:165: ValueWarning: No frequency information was provided, so inferred frequency 10L will be used.\n",
      "  % freq, ValueWarning)\n",
      "C:\\Users\\t-bhchha\\AppData\\Roaming\\Python\\Python37\\site-packages\\statsmodels\\tsa\\base\\tsa_model.py:165: ValueWarning: No frequency information was provided, so inferred frequency 10L will be used.\n",
      "  % freq, ValueWarning)\n"
     ]
    },
    {
     "name": "stdout",
     "output_type": "stream",
     "text": [
      "ARIMA(0, 2, 1)x(2, 0, 1, 12)12 - AIC:886.0333407610294\n",
      "ARIMA(0, 2, 1)x(2, 1, 0, 12)12 - AIC:79.48729226039063\n",
      "ARIMA(0, 2, 2)x(0, 0, 0, 12)12 - AIC:275.9063137692917\n"
     ]
    },
    {
     "name": "stderr",
     "output_type": "stream",
     "text": [
      "C:\\Users\\t-bhchha\\AppData\\Roaming\\Python\\Python37\\site-packages\\statsmodels\\tsa\\base\\tsa_model.py:165: ValueWarning: No frequency information was provided, so inferred frequency 10L will be used.\n",
      "  % freq, ValueWarning)\n",
      "C:\\Users\\t-bhchha\\AppData\\Roaming\\Python\\Python37\\site-packages\\statsmodels\\tsa\\base\\tsa_model.py:165: ValueWarning: No frequency information was provided, so inferred frequency 10L will be used.\n",
      "  % freq, ValueWarning)\n",
      "C:\\Users\\t-bhchha\\AppData\\Roaming\\Python\\Python37\\site-packages\\statsmodels\\tsa\\base\\tsa_model.py:165: ValueWarning: No frequency information was provided, so inferred frequency 10L will be used.\n",
      "  % freq, ValueWarning)\n",
      "C:\\Users\\t-bhchha\\AppData\\Roaming\\Python\\Python37\\site-packages\\statsmodels\\tsa\\base\\tsa_model.py:165: ValueWarning: No frequency information was provided, so inferred frequency 10L will be used.\n",
      "  % freq, ValueWarning)\n",
      "C:\\Users\\t-bhchha\\AppData\\Roaming\\Python\\Python37\\site-packages\\statsmodels\\tsa\\base\\tsa_model.py:165: ValueWarning: No frequency information was provided, so inferred frequency 10L will be used.\n",
      "  % freq, ValueWarning)\n",
      "C:\\Users\\t-bhchha\\AppData\\Roaming\\Python\\Python37\\site-packages\\statsmodels\\tsa\\base\\tsa_model.py:165: ValueWarning: No frequency information was provided, so inferred frequency 10L will be used.\n",
      "  % freq, ValueWarning)\n",
      "C:\\Users\\t-bhchha\\AppData\\Roaming\\Python\\Python37\\site-packages\\statsmodels\\base\\model.py:512: ConvergenceWarning: Maximum Likelihood optimization failed to converge. Check mle_retvals\n",
      "  \"Check mle_retvals\", ConvergenceWarning)\n",
      "C:\\Users\\t-bhchha\\AppData\\Roaming\\Python\\Python37\\site-packages\\statsmodels\\tsa\\base\\tsa_model.py:165: ValueWarning: No frequency information was provided, so inferred frequency 10L will be used.\n",
      "  % freq, ValueWarning)\n",
      "C:\\Users\\t-bhchha\\AppData\\Roaming\\Python\\Python37\\site-packages\\statsmodels\\base\\model.py:512: ConvergenceWarning: Maximum Likelihood optimization failed to converge. Check mle_retvals\n",
      "  \"Check mle_retvals\", ConvergenceWarning)\n",
      "C:\\Users\\t-bhchha\\AppData\\Roaming\\Python\\Python37\\site-packages\\statsmodels\\tsa\\base\\tsa_model.py:165: ValueWarning: No frequency information was provided, so inferred frequency 10L will be used.\n",
      "  % freq, ValueWarning)\n",
      "C:\\Users\\t-bhchha\\AppData\\Roaming\\Python\\Python37\\site-packages\\statsmodels\\tsa\\base\\tsa_model.py:165: ValueWarning: No frequency information was provided, so inferred frequency 10L will be used.\n",
      "  % freq, ValueWarning)\n",
      "C:\\Users\\t-bhchha\\AppData\\Roaming\\Python\\Python37\\site-packages\\statsmodels\\tsa\\base\\tsa_model.py:165: ValueWarning: No frequency information was provided, so inferred frequency 10L will be used.\n",
      "  % freq, ValueWarning)\n",
      "C:\\Users\\t-bhchha\\AppData\\Roaming\\Python\\Python37\\site-packages\\statsmodels\\tsa\\base\\tsa_model.py:165: ValueWarning: No frequency information was provided, so inferred frequency 10L will be used.\n",
      "  % freq, ValueWarning)\n",
      "C:\\Users\\t-bhchha\\AppData\\Roaming\\Python\\Python37\\site-packages\\statsmodels\\tsa\\base\\tsa_model.py:165: ValueWarning: No frequency information was provided, so inferred frequency 10L will be used.\n",
      "  % freq, ValueWarning)\n"
     ]
    },
    {
     "name": "stdout",
     "output_type": "stream",
     "text": [
      "ARIMA(0, 2, 2)x(0, 0, 1, 12)12 - AIC:1246.3169229463256\n",
      "ARIMA(0, 2, 2)x(0, 1, 0, 12)12 - AIC:238.70844222417134\n",
      "ARIMA(0, 2, 2)x(0, 2, 0, 12)12 - AIC:178.26957171421986\n",
      "ARIMA(0, 2, 2)x(1, 0, 0, 12)12 - AIC:218.13510222532344\n"
     ]
    },
    {
     "name": "stderr",
     "output_type": "stream",
     "text": [
      "C:\\Users\\t-bhchha\\AppData\\Roaming\\Python\\Python37\\site-packages\\statsmodels\\tsa\\base\\tsa_model.py:165: ValueWarning: No frequency information was provided, so inferred frequency 10L will be used.\n",
      "  % freq, ValueWarning)\n",
      "C:\\Users\\t-bhchha\\AppData\\Roaming\\Python\\Python37\\site-packages\\statsmodels\\tsa\\base\\tsa_model.py:165: ValueWarning: No frequency information was provided, so inferred frequency 10L will be used.\n",
      "  % freq, ValueWarning)\n",
      "C:\\Users\\t-bhchha\\AppData\\Roaming\\Python\\Python37\\site-packages\\statsmodels\\tsa\\base\\tsa_model.py:165: ValueWarning: No frequency information was provided, so inferred frequency 10L will be used.\n",
      "  % freq, ValueWarning)\n",
      "C:\\Users\\t-bhchha\\AppData\\Roaming\\Python\\Python37\\site-packages\\statsmodels\\tsa\\base\\tsa_model.py:165: ValueWarning: No frequency information was provided, so inferred frequency 10L will be used.\n",
      "  % freq, ValueWarning)\n",
      "C:\\Users\\t-bhchha\\AppData\\Roaming\\Python\\Python37\\site-packages\\statsmodels\\base\\model.py:512: ConvergenceWarning: Maximum Likelihood optimization failed to converge. Check mle_retvals\n",
      "  \"Check mle_retvals\", ConvergenceWarning)\n",
      "C:\\Users\\t-bhchha\\AppData\\Roaming\\Python\\Python37\\site-packages\\statsmodels\\tsa\\base\\tsa_model.py:165: ValueWarning: No frequency information was provided, so inferred frequency 10L will be used.\n",
      "  % freq, ValueWarning)\n",
      "C:\\Users\\t-bhchha\\AppData\\Roaming\\Python\\Python37\\site-packages\\statsmodels\\tsa\\base\\tsa_model.py:165: ValueWarning: No frequency information was provided, so inferred frequency 10L will be used.\n",
      "  % freq, ValueWarning)\n"
     ]
    },
    {
     "name": "stdout",
     "output_type": "stream",
     "text": [
      "ARIMA(0, 2, 2)x(1, 0, 1, 12)12 - AIC:1278.950264345474\n",
      "ARIMA(0, 2, 2)x(1, 1, 0, 12)12 - AIC:168.64085082621318\n"
     ]
    },
    {
     "name": "stderr",
     "output_type": "stream",
     "text": [
      "C:\\Users\\t-bhchha\\AppData\\Roaming\\Python\\Python37\\site-packages\\statsmodels\\tsa\\base\\tsa_model.py:165: ValueWarning: No frequency information was provided, so inferred frequency 10L will be used.\n",
      "  % freq, ValueWarning)\n",
      "C:\\Users\\t-bhchha\\AppData\\Roaming\\Python\\Python37\\site-packages\\statsmodels\\tsa\\base\\tsa_model.py:165: ValueWarning: No frequency information was provided, so inferred frequency 10L will be used.\n",
      "  % freq, ValueWarning)\n",
      "C:\\Users\\t-bhchha\\AppData\\Roaming\\Python\\Python37\\site-packages\\statsmodels\\tsa\\base\\tsa_model.py:165: ValueWarning: No frequency information was provided, so inferred frequency 10L will be used.\n",
      "  % freq, ValueWarning)\n"
     ]
    },
    {
     "name": "stdout",
     "output_type": "stream",
     "text": [
      "ARIMA(0, 2, 2)x(1, 2, 0, 12)12 - AIC:102.61502447090874\n"
     ]
    },
    {
     "name": "stderr",
     "output_type": "stream",
     "text": [
      "C:\\Users\\t-bhchha\\AppData\\Roaming\\Python\\Python37\\site-packages\\statsmodels\\tsa\\base\\tsa_model.py:165: ValueWarning: No frequency information was provided, so inferred frequency 10L will be used.\n",
      "  % freq, ValueWarning)\n",
      "C:\\Users\\t-bhchha\\AppData\\Roaming\\Python\\Python37\\site-packages\\statsmodels\\tsa\\base\\tsa_model.py:165: ValueWarning: No frequency information was provided, so inferred frequency 10L will be used.\n",
      "  % freq, ValueWarning)\n",
      "C:\\Users\\t-bhchha\\AppData\\Roaming\\Python\\Python37\\site-packages\\statsmodels\\tsa\\base\\tsa_model.py:165: ValueWarning: No frequency information was provided, so inferred frequency 10L will be used.\n",
      "  % freq, ValueWarning)\n"
     ]
    },
    {
     "name": "stdout",
     "output_type": "stream",
     "text": [
      "ARIMA(0, 2, 2)x(2, 0, 0, 12)12 - AIC:144.6049239457996\n"
     ]
    },
    {
     "name": "stderr",
     "output_type": "stream",
     "text": [
      "C:\\Users\\t-bhchha\\AppData\\Roaming\\Python\\Python37\\site-packages\\statsmodels\\tsa\\base\\tsa_model.py:165: ValueWarning: No frequency information was provided, so inferred frequency 10L will be used.\n",
      "  % freq, ValueWarning)\n",
      "C:\\Users\\t-bhchha\\AppData\\Roaming\\Python\\Python37\\site-packages\\statsmodels\\base\\model.py:512: ConvergenceWarning: Maximum Likelihood optimization failed to converge. Check mle_retvals\n",
      "  \"Check mle_retvals\", ConvergenceWarning)\n",
      "C:\\Users\\t-bhchha\\AppData\\Roaming\\Python\\Python37\\site-packages\\statsmodels\\tsa\\base\\tsa_model.py:165: ValueWarning: No frequency information was provided, so inferred frequency 10L will be used.\n",
      "  % freq, ValueWarning)\n",
      "C:\\Users\\t-bhchha\\AppData\\Roaming\\Python\\Python37\\site-packages\\statsmodels\\tsa\\base\\tsa_model.py:165: ValueWarning: No frequency information was provided, so inferred frequency 10L will be used.\n",
      "  % freq, ValueWarning)\n"
     ]
    },
    {
     "name": "stdout",
     "output_type": "stream",
     "text": [
      "ARIMA(0, 2, 2)x(2, 0, 1, 12)12 - AIC:811.7478454230263\n",
      "ARIMA(0, 2, 2)x(2, 1, 0, 12)12 - AIC:77.53189386490507\n",
      "ARIMA(1, 0, 0)x(0, 0, 0, 12)12 - AIC:311.1904579669382\n",
      "ARIMA(1, 0, 0)x(0, 0, 1, 12)12 - AIC:231.3856422622479\n",
      "ARIMA(1, 0, 0)x(0, 1, 0, 12)12 - AIC:254.52291768382747\n"
     ]
    },
    {
     "name": "stderr",
     "output_type": "stream",
     "text": [
      "C:\\Users\\t-bhchha\\AppData\\Roaming\\Python\\Python37\\site-packages\\statsmodels\\tsa\\base\\tsa_model.py:165: ValueWarning: No frequency information was provided, so inferred frequency 10L will be used.\n",
      "  % freq, ValueWarning)\n",
      "C:\\Users\\t-bhchha\\AppData\\Roaming\\Python\\Python37\\site-packages\\statsmodels\\tsa\\base\\tsa_model.py:165: ValueWarning: No frequency information was provided, so inferred frequency 10L will be used.\n",
      "  % freq, ValueWarning)\n",
      "C:\\Users\\t-bhchha\\AppData\\Roaming\\Python\\Python37\\site-packages\\statsmodels\\tsa\\base\\tsa_model.py:165: ValueWarning: No frequency information was provided, so inferred frequency 10L will be used.\n",
      "  % freq, ValueWarning)\n",
      "C:\\Users\\t-bhchha\\AppData\\Roaming\\Python\\Python37\\site-packages\\statsmodels\\tsa\\base\\tsa_model.py:165: ValueWarning: No frequency information was provided, so inferred frequency 10L will be used.\n",
      "  % freq, ValueWarning)\n",
      "C:\\Users\\t-bhchha\\AppData\\Roaming\\Python\\Python37\\site-packages\\statsmodels\\tsa\\base\\tsa_model.py:165: ValueWarning: No frequency information was provided, so inferred frequency 10L will be used.\n",
      "  % freq, ValueWarning)\n",
      "C:\\Users\\t-bhchha\\AppData\\Roaming\\Python\\Python37\\site-packages\\statsmodels\\tsa\\base\\tsa_model.py:165: ValueWarning: No frequency information was provided, so inferred frequency 10L will be used.\n",
      "  % freq, ValueWarning)\n",
      "C:\\Users\\t-bhchha\\AppData\\Roaming\\Python\\Python37\\site-packages\\statsmodels\\tsa\\base\\tsa_model.py:165: ValueWarning: No frequency information was provided, so inferred frequency 10L will be used.\n",
      "  % freq, ValueWarning)\n",
      "C:\\Users\\t-bhchha\\AppData\\Roaming\\Python\\Python37\\site-packages\\statsmodels\\tsa\\base\\tsa_model.py:165: ValueWarning: No frequency information was provided, so inferred frequency 10L will be used.\n",
      "  % freq, ValueWarning)\n",
      "C:\\Users\\t-bhchha\\AppData\\Roaming\\Python\\Python37\\site-packages\\statsmodels\\tsa\\base\\tsa_model.py:165: ValueWarning: No frequency information was provided, so inferred frequency 10L will be used.\n",
      "  % freq, ValueWarning)\n",
      "C:\\Users\\t-bhchha\\AppData\\Roaming\\Python\\Python37\\site-packages\\statsmodels\\tsa\\base\\tsa_model.py:165: ValueWarning: No frequency information was provided, so inferred frequency 10L will be used.\n",
      "  % freq, ValueWarning)\n",
      "C:\\Users\\t-bhchha\\AppData\\Roaming\\Python\\Python37\\site-packages\\statsmodels\\base\\model.py:512: ConvergenceWarning: Maximum Likelihood optimization failed to converge. Check mle_retvals\n",
      "  \"Check mle_retvals\", ConvergenceWarning)\n",
      "C:\\Users\\t-bhchha\\AppData\\Roaming\\Python\\Python37\\site-packages\\statsmodels\\tsa\\base\\tsa_model.py:165: ValueWarning: No frequency information was provided, so inferred frequency 10L will be used.\n",
      "  % freq, ValueWarning)\n",
      "C:\\Users\\t-bhchha\\AppData\\Roaming\\Python\\Python37\\site-packages\\statsmodels\\tsa\\base\\tsa_model.py:165: ValueWarning: No frequency information was provided, so inferred frequency 10L will be used.\n",
      "  % freq, ValueWarning)\n",
      "C:\\Users\\t-bhchha\\AppData\\Roaming\\Python\\Python37\\site-packages\\statsmodels\\tsa\\base\\tsa_model.py:165: ValueWarning: No frequency information was provided, so inferred frequency 10L will be used.\n",
      "  % freq, ValueWarning)\n",
      "C:\\Users\\t-bhchha\\AppData\\Roaming\\Python\\Python37\\site-packages\\statsmodels\\tsa\\base\\tsa_model.py:165: ValueWarning: No frequency information was provided, so inferred frequency 10L will be used.\n",
      "  % freq, ValueWarning)\n",
      "C:\\Users\\t-bhchha\\AppData\\Roaming\\Python\\Python37\\site-packages\\statsmodels\\tsa\\base\\tsa_model.py:165: ValueWarning: No frequency information was provided, so inferred frequency 10L will be used.\n",
      "  % freq, ValueWarning)\n",
      "C:\\Users\\t-bhchha\\AppData\\Roaming\\Python\\Python37\\site-packages\\statsmodels\\tsa\\base\\tsa_model.py:165: ValueWarning: No frequency information was provided, so inferred frequency 10L will be used.\n",
      "  % freq, ValueWarning)\n"
     ]
    },
    {
     "name": "stdout",
     "output_type": "stream",
     "text": [
      "ARIMA(1, 0, 0)x(0, 1, 1, 12)12 - AIC:1127.1533842794317\n",
      "ARIMA(1, 0, 0)x(0, 2, 0, 12)12 - AIC:199.40816349999196\n",
      "ARIMA(1, 0, 0)x(1, 0, 0, 12)12 - AIC:230.55270370077898\n"
     ]
    },
    {
     "name": "stderr",
     "output_type": "stream",
     "text": [
      "C:\\Users\\t-bhchha\\AppData\\Roaming\\Python\\Python37\\site-packages\\statsmodels\\base\\model.py:512: ConvergenceWarning: Maximum Likelihood optimization failed to converge. Check mle_retvals\n",
      "  \"Check mle_retvals\", ConvergenceWarning)\n",
      "C:\\Users\\t-bhchha\\AppData\\Roaming\\Python\\Python37\\site-packages\\statsmodels\\tsa\\base\\tsa_model.py:165: ValueWarning: No frequency information was provided, so inferred frequency 10L will be used.\n",
      "  % freq, ValueWarning)\n",
      "C:\\Users\\t-bhchha\\AppData\\Roaming\\Python\\Python37\\site-packages\\statsmodels\\tsa\\base\\tsa_model.py:165: ValueWarning: No frequency information was provided, so inferred frequency 10L will be used.\n",
      "  % freq, ValueWarning)\n",
      "C:\\Users\\t-bhchha\\AppData\\Roaming\\Python\\Python37\\site-packages\\statsmodels\\tsa\\base\\tsa_model.py:165: ValueWarning: No frequency information was provided, so inferred frequency 10L will be used.\n",
      "  % freq, ValueWarning)\n"
     ]
    },
    {
     "name": "stdout",
     "output_type": "stream",
     "text": [
      "ARIMA(1, 0, 0)x(1, 0, 1, 12)12 - AIC:232.62568897188103\n",
      "ARIMA(1, 0, 0)x(1, 1, 0, 12)12 - AIC:161.35667392494224\n"
     ]
    },
    {
     "name": "stderr",
     "output_type": "stream",
     "text": [
      "C:\\Users\\t-bhchha\\AppData\\Roaming\\Python\\Python37\\site-packages\\statsmodels\\base\\model.py:512: ConvergenceWarning: Maximum Likelihood optimization failed to converge. Check mle_retvals\n",
      "  \"Check mle_retvals\", ConvergenceWarning)\n",
      "C:\\Users\\t-bhchha\\AppData\\Roaming\\Python\\Python37\\site-packages\\statsmodels\\tsa\\base\\tsa_model.py:165: ValueWarning: No frequency information was provided, so inferred frequency 10L will be used.\n",
      "  % freq, ValueWarning)\n",
      "C:\\Users\\t-bhchha\\AppData\\Roaming\\Python\\Python37\\site-packages\\statsmodels\\tsa\\base\\tsa_model.py:165: ValueWarning: No frequency information was provided, so inferred frequency 10L will be used.\n",
      "  % freq, ValueWarning)\n",
      "C:\\Users\\t-bhchha\\AppData\\Roaming\\Python\\Python37\\site-packages\\statsmodels\\tsa\\base\\tsa_model.py:165: ValueWarning: No frequency information was provided, so inferred frequency 10L will be used.\n",
      "  % freq, ValueWarning)\n",
      "C:\\Users\\t-bhchha\\AppData\\Roaming\\Python\\Python37\\site-packages\\statsmodels\\tsa\\base\\tsa_model.py:165: ValueWarning: No frequency information was provided, so inferred frequency 10L will be used.\n",
      "  % freq, ValueWarning)\n",
      "C:\\Users\\t-bhchha\\AppData\\Roaming\\Python\\Python37\\site-packages\\statsmodels\\tsa\\base\\tsa_model.py:165: ValueWarning: No frequency information was provided, so inferred frequency 10L will be used.\n",
      "  % freq, ValueWarning)\n"
     ]
    },
    {
     "name": "stdout",
     "output_type": "stream",
     "text": [
      "ARIMA(1, 0, 0)x(1, 1, 1, 12)12 - AIC:1021.2990241364621\n",
      "ARIMA(1, 0, 0)x(1, 2, 0, 12)12 - AIC:100.6069037028942\n",
      "ARIMA(1, 0, 0)x(2, 0, 0, 12)12 - AIC:148.9327713845151\n",
      "ARIMA(1, 0, 0)x(2, 0, 1, 12)12 - AIC:150.90045668192283\n"
     ]
    },
    {
     "name": "stderr",
     "output_type": "stream",
     "text": [
      "C:\\Users\\t-bhchha\\AppData\\Roaming\\Python\\Python37\\site-packages\\statsmodels\\tsa\\base\\tsa_model.py:165: ValueWarning: No frequency information was provided, so inferred frequency 10L will be used.\n",
      "  % freq, ValueWarning)\n",
      "C:\\Users\\t-bhchha\\AppData\\Roaming\\Python\\Python37\\site-packages\\statsmodels\\tsa\\base\\tsa_model.py:165: ValueWarning: No frequency information was provided, so inferred frequency 10L will be used.\n",
      "  % freq, ValueWarning)\n",
      "C:\\Users\\t-bhchha\\AppData\\Roaming\\Python\\Python37\\site-packages\\statsmodels\\tsa\\base\\tsa_model.py:165: ValueWarning: No frequency information was provided, so inferred frequency 10L will be used.\n",
      "  % freq, ValueWarning)\n"
     ]
    },
    {
     "name": "stdout",
     "output_type": "stream",
     "text": [
      "ARIMA(1, 0, 0)x(2, 1, 0, 12)12 - AIC:76.0929673391104\n"
     ]
    },
    {
     "name": "stderr",
     "output_type": "stream",
     "text": [
      "C:\\Users\\t-bhchha\\AppData\\Roaming\\Python\\Python37\\site-packages\\statsmodels\\tsa\\base\\tsa_model.py:165: ValueWarning: No frequency information was provided, so inferred frequency 10L will be used.\n",
      "  % freq, ValueWarning)\n"
     ]
    },
    {
     "name": "stdout",
     "output_type": "stream",
     "text": [
      "ARIMA(1, 0, 0)x(2, 1, 1, 12)12 - AIC:76.26170898813128\n"
     ]
    },
    {
     "name": "stderr",
     "output_type": "stream",
     "text": [
      "C:\\Users\\t-bhchha\\AppData\\Roaming\\Python\\Python37\\site-packages\\statsmodels\\tsa\\base\\tsa_model.py:165: ValueWarning: No frequency information was provided, so inferred frequency 10L will be used.\n",
      "  % freq, ValueWarning)\n",
      "C:\\Users\\t-bhchha\\AppData\\Roaming\\Python\\Python37\\site-packages\\statsmodels\\tsa\\base\\tsa_model.py:165: ValueWarning: No frequency information was provided, so inferred frequency 10L will be used.\n",
      "  % freq, ValueWarning)\n",
      "C:\\Users\\t-bhchha\\AppData\\Roaming\\Python\\Python37\\site-packages\\statsmodels\\base\\model.py:512: ConvergenceWarning: Maximum Likelihood optimization failed to converge. Check mle_retvals\n",
      "  \"Check mle_retvals\", ConvergenceWarning)\n",
      "C:\\Users\\t-bhchha\\AppData\\Roaming\\Python\\Python37\\site-packages\\statsmodels\\tsa\\base\\tsa_model.py:165: ValueWarning: No frequency information was provided, so inferred frequency 10L will be used.\n",
      "  % freq, ValueWarning)\n",
      "C:\\Users\\t-bhchha\\AppData\\Roaming\\Python\\Python37\\site-packages\\statsmodels\\tsa\\base\\tsa_model.py:165: ValueWarning: No frequency information was provided, so inferred frequency 10L will be used.\n",
      "  % freq, ValueWarning)\n",
      "C:\\Users\\t-bhchha\\AppData\\Roaming\\Python\\Python37\\site-packages\\statsmodels\\tsa\\base\\tsa_model.py:165: ValueWarning: No frequency information was provided, so inferred frequency 10L will be used.\n",
      "  % freq, ValueWarning)\n",
      "C:\\Users\\t-bhchha\\AppData\\Roaming\\Python\\Python37\\site-packages\\statsmodels\\tsa\\base\\tsa_model.py:165: ValueWarning: No frequency information was provided, so inferred frequency 10L will be used.\n",
      "  % freq, ValueWarning)\n"
     ]
    },
    {
     "name": "stdout",
     "output_type": "stream",
     "text": [
      "ARIMA(1, 0, 0)x(2, 2, 0, 12)12 - AIC:2.572018585834485\n",
      "ARIMA(1, 0, 1)x(0, 0, 0, 12)12 - AIC:289.6835088178273\n"
     ]
    },
    {
     "name": "stderr",
     "output_type": "stream",
     "text": [
      "C:\\Users\\t-bhchha\\AppData\\Roaming\\Python\\Python37\\site-packages\\statsmodels\\base\\model.py:512: ConvergenceWarning: Maximum Likelihood optimization failed to converge. Check mle_retvals\n",
      "  \"Check mle_retvals\", ConvergenceWarning)\n",
      "C:\\Users\\t-bhchha\\AppData\\Roaming\\Python\\Python37\\site-packages\\statsmodels\\tsa\\base\\tsa_model.py:165: ValueWarning: No frequency information was provided, so inferred frequency 10L will be used.\n",
      "  % freq, ValueWarning)\n",
      "C:\\Users\\t-bhchha\\AppData\\Roaming\\Python\\Python37\\site-packages\\statsmodels\\tsa\\base\\tsa_model.py:165: ValueWarning: No frequency information was provided, so inferred frequency 10L will be used.\n",
      "  % freq, ValueWarning)\n",
      "C:\\Users\\t-bhchha\\AppData\\Roaming\\Python\\Python37\\site-packages\\statsmodels\\tsa\\base\\tsa_model.py:165: ValueWarning: No frequency information was provided, so inferred frequency 10L will be used.\n",
      "  % freq, ValueWarning)\n"
     ]
    },
    {
     "name": "stdout",
     "output_type": "stream",
     "text": [
      "ARIMA(1, 0, 1)x(0, 0, 1, 12)12 - AIC:213.2514883588893\n",
      "ARIMA(1, 0, 1)x(0, 1, 0, 12)12 - AIC:248.66292160935177\n"
     ]
    },
    {
     "name": "stderr",
     "output_type": "stream",
     "text": [
      "C:\\Users\\t-bhchha\\AppData\\Roaming\\Python\\Python37\\site-packages\\statsmodels\\base\\model.py:512: ConvergenceWarning: Maximum Likelihood optimization failed to converge. Check mle_retvals\n",
      "  \"Check mle_retvals\", ConvergenceWarning)\n",
      "C:\\Users\\t-bhchha\\AppData\\Roaming\\Python\\Python37\\site-packages\\statsmodels\\tsa\\base\\tsa_model.py:165: ValueWarning: No frequency information was provided, so inferred frequency 10L will be used.\n",
      "  % freq, ValueWarning)\n",
      "C:\\Users\\t-bhchha\\AppData\\Roaming\\Python\\Python37\\site-packages\\statsmodels\\tsa\\base\\tsa_model.py:165: ValueWarning: No frequency information was provided, so inferred frequency 10L will be used.\n",
      "  % freq, ValueWarning)\n",
      "C:\\Users\\t-bhchha\\AppData\\Roaming\\Python\\Python37\\site-packages\\statsmodels\\tsa\\base\\tsa_model.py:165: ValueWarning: No frequency information was provided, so inferred frequency 10L will be used.\n",
      "  % freq, ValueWarning)\n",
      "C:\\Users\\t-bhchha\\AppData\\Roaming\\Python\\Python37\\site-packages\\statsmodels\\tsa\\base\\tsa_model.py:165: ValueWarning: No frequency information was provided, so inferred frequency 10L will be used.\n",
      "  % freq, ValueWarning)\n",
      "C:\\Users\\t-bhchha\\AppData\\Roaming\\Python\\Python37\\site-packages\\statsmodels\\tsa\\base\\tsa_model.py:165: ValueWarning: No frequency information was provided, so inferred frequency 10L will be used.\n",
      "  % freq, ValueWarning)\n"
     ]
    },
    {
     "name": "stdout",
     "output_type": "stream",
     "text": [
      "ARIMA(1, 0, 1)x(0, 1, 1, 12)12 - AIC:1011.2371867805982\n",
      "ARIMA(1, 0, 1)x(0, 2, 0, 12)12 - AIC:192.82438115978368\n",
      "ARIMA(1, 0, 1)x(1, 0, 0, 12)12 - AIC:214.18903667001396\n"
     ]
    },
    {
     "name": "stderr",
     "output_type": "stream",
     "text": [
      "C:\\Users\\t-bhchha\\AppData\\Roaming\\Python\\Python37\\site-packages\\statsmodels\\tsa\\base\\tsa_model.py:165: ValueWarning: No frequency information was provided, so inferred frequency 10L will be used.\n",
      "  % freq, ValueWarning)\n",
      "C:\\Users\\t-bhchha\\AppData\\Roaming\\Python\\Python37\\site-packages\\statsmodels\\base\\model.py:512: ConvergenceWarning: Maximum Likelihood optimization failed to converge. Check mle_retvals\n",
      "  \"Check mle_retvals\", ConvergenceWarning)\n",
      "C:\\Users\\t-bhchha\\AppData\\Roaming\\Python\\Python37\\site-packages\\statsmodels\\tsa\\base\\tsa_model.py:165: ValueWarning: No frequency information was provided, so inferred frequency 10L will be used.\n",
      "  % freq, ValueWarning)\n",
      "C:\\Users\\t-bhchha\\AppData\\Roaming\\Python\\Python37\\site-packages\\statsmodels\\tsa\\base\\tsa_model.py:165: ValueWarning: No frequency information was provided, so inferred frequency 10L will be used.\n",
      "  % freq, ValueWarning)\n",
      "C:\\Users\\t-bhchha\\AppData\\Roaming\\Python\\Python37\\site-packages\\statsmodels\\tsa\\base\\tsa_model.py:165: ValueWarning: No frequency information was provided, so inferred frequency 10L will be used.\n",
      "  % freq, ValueWarning)\n"
     ]
    },
    {
     "name": "stdout",
     "output_type": "stream",
     "text": [
      "ARIMA(1, 0, 1)x(1, 0, 1, 12)12 - AIC:211.73694760328425\n",
      "ARIMA(1, 0, 1)x(1, 1, 0, 12)12 - AIC:162.3122218616757\n"
     ]
    },
    {
     "name": "stderr",
     "output_type": "stream",
     "text": [
      "C:\\Users\\t-bhchha\\AppData\\Roaming\\Python\\Python37\\site-packages\\statsmodels\\base\\model.py:512: ConvergenceWarning: Maximum Likelihood optimization failed to converge. Check mle_retvals\n",
      "  \"Check mle_retvals\", ConvergenceWarning)\n",
      "C:\\Users\\t-bhchha\\AppData\\Roaming\\Python\\Python37\\site-packages\\statsmodels\\tsa\\base\\tsa_model.py:165: ValueWarning: No frequency information was provided, so inferred frequency 10L will be used.\n",
      "  % freq, ValueWarning)\n",
      "C:\\Users\\t-bhchha\\AppData\\Roaming\\Python\\Python37\\site-packages\\statsmodels\\tsa\\base\\tsa_model.py:165: ValueWarning: No frequency information was provided, so inferred frequency 10L will be used.\n",
      "  % freq, ValueWarning)\n"
     ]
    },
    {
     "name": "stdout",
     "output_type": "stream",
     "text": [
      "ARIMA(1, 0, 1)x(1, 1, 1, 12)12 - AIC:914.6415073746646\n",
      "ARIMA(1, 0, 1)x(1, 2, 0, 12)12 - AIC:101.70207606550068\n"
     ]
    },
    {
     "name": "stderr",
     "output_type": "stream",
     "text": [
      "C:\\Users\\t-bhchha\\AppData\\Roaming\\Python\\Python37\\site-packages\\statsmodels\\tsa\\base\\tsa_model.py:165: ValueWarning: No frequency information was provided, so inferred frequency 10L will be used.\n",
      "  % freq, ValueWarning)\n",
      "C:\\Users\\t-bhchha\\AppData\\Roaming\\Python\\Python37\\site-packages\\statsmodels\\tsa\\base\\tsa_model.py:165: ValueWarning: No frequency information was provided, so inferred frequency 10L will be used.\n",
      "  % freq, ValueWarning)\n",
      "C:\\Users\\t-bhchha\\AppData\\Roaming\\Python\\Python37\\site-packages\\statsmodels\\tsa\\base\\tsa_model.py:165: ValueWarning: No frequency information was provided, so inferred frequency 10L will be used.\n",
      "  % freq, ValueWarning)\n"
     ]
    },
    {
     "name": "stdout",
     "output_type": "stream",
     "text": [
      "ARIMA(1, 0, 1)x(2, 0, 0, 12)12 - AIC:141.79079769896165\n"
     ]
    },
    {
     "name": "stderr",
     "output_type": "stream",
     "text": [
      "C:\\Users\\t-bhchha\\AppData\\Roaming\\Python\\Python37\\site-packages\\statsmodels\\tsa\\base\\tsa_model.py:165: ValueWarning: No frequency information was provided, so inferred frequency 10L will be used.\n",
      "  % freq, ValueWarning)\n"
     ]
    },
    {
     "name": "stdout",
     "output_type": "stream",
     "text": [
      "ARIMA(1, 0, 1)x(2, 0, 1, 12)12 - AIC:142.76676969185883\n"
     ]
    },
    {
     "name": "stderr",
     "output_type": "stream",
     "text": [
      "C:\\Users\\t-bhchha\\AppData\\Roaming\\Python\\Python37\\site-packages\\statsmodels\\tsa\\base\\tsa_model.py:165: ValueWarning: No frequency information was provided, so inferred frequency 10L will be used.\n",
      "  % freq, ValueWarning)\n",
      "C:\\Users\\t-bhchha\\AppData\\Roaming\\Python\\Python37\\site-packages\\statsmodels\\tsa\\base\\tsa_model.py:165: ValueWarning: No frequency information was provided, so inferred frequency 10L will be used.\n",
      "  % freq, ValueWarning)\n"
     ]
    },
    {
     "name": "stdout",
     "output_type": "stream",
     "text": [
      "ARIMA(1, 0, 1)x(2, 1, 0, 12)12 - AIC:76.61632486175361\n"
     ]
    },
    {
     "name": "stderr",
     "output_type": "stream",
     "text": [
      "C:\\Users\\t-bhchha\\AppData\\Roaming\\Python\\Python37\\site-packages\\statsmodels\\tsa\\base\\tsa_model.py:165: ValueWarning: No frequency information was provided, so inferred frequency 10L will be used.\n",
      "  % freq, ValueWarning)\n"
     ]
    },
    {
     "name": "stdout",
     "output_type": "stream",
     "text": [
      "ARIMA(1, 0, 1)x(2, 1, 1, 12)12 - AIC:78.29298569168927\n"
     ]
    },
    {
     "name": "stderr",
     "output_type": "stream",
     "text": [
      "C:\\Users\\t-bhchha\\AppData\\Roaming\\Python\\Python37\\site-packages\\statsmodels\\tsa\\base\\tsa_model.py:165: ValueWarning: No frequency information was provided, so inferred frequency 10L will be used.\n",
      "  % freq, ValueWarning)\n",
      "C:\\Users\\t-bhchha\\AppData\\Roaming\\Python\\Python37\\site-packages\\statsmodels\\tsa\\base\\tsa_model.py:165: ValueWarning: No frequency information was provided, so inferred frequency 10L will be used.\n",
      "  % freq, ValueWarning)\n",
      "C:\\Users\\t-bhchha\\AppData\\Roaming\\Python\\Python37\\site-packages\\statsmodels\\base\\model.py:512: ConvergenceWarning: Maximum Likelihood optimization failed to converge. Check mle_retvals\n",
      "  \"Check mle_retvals\", ConvergenceWarning)\n",
      "C:\\Users\\t-bhchha\\AppData\\Roaming\\Python\\Python37\\site-packages\\statsmodels\\tsa\\base\\tsa_model.py:165: ValueWarning: No frequency information was provided, so inferred frequency 10L will be used.\n",
      "  % freq, ValueWarning)\n",
      "C:\\Users\\t-bhchha\\AppData\\Roaming\\Python\\Python37\\site-packages\\statsmodels\\tsa\\base\\tsa_model.py:165: ValueWarning: No frequency information was provided, so inferred frequency 10L will be used.\n",
      "  % freq, ValueWarning)\n",
      "C:\\Users\\t-bhchha\\AppData\\Roaming\\Python\\Python37\\site-packages\\statsmodels\\tsa\\base\\tsa_model.py:165: ValueWarning: No frequency information was provided, so inferred frequency 10L will be used.\n",
      "  % freq, ValueWarning)\n",
      "C:\\Users\\t-bhchha\\AppData\\Roaming\\Python\\Python37\\site-packages\\statsmodels\\tsa\\base\\tsa_model.py:165: ValueWarning: No frequency information was provided, so inferred frequency 10L will be used.\n",
      "  % freq, ValueWarning)\n"
     ]
    },
    {
     "name": "stdout",
     "output_type": "stream",
     "text": [
      "ARIMA(1, 0, 1)x(2, 2, 0, 12)12 - AIC:6.078437055433543\n",
      "ARIMA(1, 0, 2)x(0, 0, 0, 12)12 - AIC:280.8209181576359\n"
     ]
    },
    {
     "name": "stderr",
     "output_type": "stream",
     "text": [
      "C:\\Users\\t-bhchha\\AppData\\Roaming\\Python\\Python37\\site-packages\\statsmodels\\base\\model.py:512: ConvergenceWarning: Maximum Likelihood optimization failed to converge. Check mle_retvals\n",
      "  \"Check mle_retvals\", ConvergenceWarning)\n",
      "C:\\Users\\t-bhchha\\AppData\\Roaming\\Python\\Python37\\site-packages\\statsmodels\\tsa\\base\\tsa_model.py:165: ValueWarning: No frequency information was provided, so inferred frequency 10L will be used.\n",
      "  % freq, ValueWarning)\n",
      "C:\\Users\\t-bhchha\\AppData\\Roaming\\Python\\Python37\\site-packages\\statsmodels\\tsa\\base\\tsa_model.py:165: ValueWarning: No frequency information was provided, so inferred frequency 10L will be used.\n",
      "  % freq, ValueWarning)\n",
      "C:\\Users\\t-bhchha\\AppData\\Roaming\\Python\\Python37\\site-packages\\statsmodels\\tsa\\base\\tsa_model.py:165: ValueWarning: No frequency information was provided, so inferred frequency 10L will be used.\n",
      "  % freq, ValueWarning)\n"
     ]
    },
    {
     "name": "stdout",
     "output_type": "stream",
     "text": [
      "ARIMA(1, 0, 2)x(0, 0, 1, 12)12 - AIC:208.44056370573716\n",
      "ARIMA(1, 0, 2)x(0, 1, 0, 12)12 - AIC:236.1634692008621\n"
     ]
    },
    {
     "name": "stderr",
     "output_type": "stream",
     "text": [
      "C:\\Users\\t-bhchha\\AppData\\Roaming\\Python\\Python37\\site-packages\\statsmodels\\base\\model.py:512: ConvergenceWarning: Maximum Likelihood optimization failed to converge. Check mle_retvals\n",
      "  \"Check mle_retvals\", ConvergenceWarning)\n",
      "C:\\Users\\t-bhchha\\AppData\\Roaming\\Python\\Python37\\site-packages\\statsmodels\\tsa\\base\\tsa_model.py:165: ValueWarning: No frequency information was provided, so inferred frequency 10L will be used.\n",
      "  % freq, ValueWarning)\n",
      "C:\\Users\\t-bhchha\\AppData\\Roaming\\Python\\Python37\\site-packages\\statsmodels\\tsa\\base\\tsa_model.py:165: ValueWarning: No frequency information was provided, so inferred frequency 10L will be used.\n",
      "  % freq, ValueWarning)\n",
      "C:\\Users\\t-bhchha\\AppData\\Roaming\\Python\\Python37\\site-packages\\statsmodels\\tsa\\base\\tsa_model.py:165: ValueWarning: No frequency information was provided, so inferred frequency 10L will be used.\n",
      "  % freq, ValueWarning)\n",
      "C:\\Users\\t-bhchha\\AppData\\Roaming\\Python\\Python37\\site-packages\\statsmodels\\tsa\\base\\tsa_model.py:165: ValueWarning: No frequency information was provided, so inferred frequency 10L will be used.\n",
      "  % freq, ValueWarning)\n",
      "C:\\Users\\t-bhchha\\AppData\\Roaming\\Python\\Python37\\site-packages\\statsmodels\\tsa\\base\\tsa_model.py:165: ValueWarning: No frequency information was provided, so inferred frequency 10L will be used.\n",
      "  % freq, ValueWarning)\n"
     ]
    },
    {
     "name": "stdout",
     "output_type": "stream",
     "text": [
      "ARIMA(1, 0, 2)x(0, 1, 1, 12)12 - AIC:1053.423642021572\n",
      "ARIMA(1, 0, 2)x(0, 2, 0, 12)12 - AIC:181.83740049078955\n",
      "ARIMA(1, 0, 2)x(1, 0, 0, 12)12 - AIC:215.74127358956395\n",
      "ARIMA(1, 0, 2)x(1, 0, 1, 12)12 - AIC:225.15710194298023\n"
     ]
    },
    {
     "name": "stderr",
     "output_type": "stream",
     "text": [
      "C:\\Users\\t-bhchha\\AppData\\Roaming\\Python\\Python37\\site-packages\\statsmodels\\tsa\\base\\tsa_model.py:165: ValueWarning: No frequency information was provided, so inferred frequency 10L will be used.\n",
      "  % freq, ValueWarning)\n",
      "C:\\Users\\t-bhchha\\AppData\\Roaming\\Python\\Python37\\site-packages\\statsmodels\\tsa\\base\\tsa_model.py:165: ValueWarning: No frequency information was provided, so inferred frequency 10L will be used.\n",
      "  % freq, ValueWarning)\n",
      "C:\\Users\\t-bhchha\\AppData\\Roaming\\Python\\Python37\\site-packages\\statsmodels\\tsa\\base\\tsa_model.py:165: ValueWarning: No frequency information was provided, so inferred frequency 10L will be used.\n",
      "  % freq, ValueWarning)\n",
      "C:\\Users\\t-bhchha\\AppData\\Roaming\\Python\\Python37\\site-packages\\statsmodels\\tsa\\base\\tsa_model.py:165: ValueWarning: No frequency information was provided, so inferred frequency 10L will be used.\n",
      "  % freq, ValueWarning)\n"
     ]
    },
    {
     "name": "stdout",
     "output_type": "stream",
     "text": [
      "ARIMA(1, 0, 2)x(1, 1, 0, 12)12 - AIC:162.69022794033262\n"
     ]
    },
    {
     "name": "stderr",
     "output_type": "stream",
     "text": [
      "C:\\Users\\t-bhchha\\AppData\\Roaming\\Python\\Python37\\site-packages\\statsmodels\\base\\model.py:512: ConvergenceWarning: Maximum Likelihood optimization failed to converge. Check mle_retvals\n",
      "  \"Check mle_retvals\", ConvergenceWarning)\n",
      "C:\\Users\\t-bhchha\\AppData\\Roaming\\Python\\Python37\\site-packages\\statsmodels\\tsa\\base\\tsa_model.py:165: ValueWarning: No frequency information was provided, so inferred frequency 10L will be used.\n",
      "  % freq, ValueWarning)\n",
      "C:\\Users\\t-bhchha\\AppData\\Roaming\\Python\\Python37\\site-packages\\statsmodels\\tsa\\base\\tsa_model.py:165: ValueWarning: No frequency information was provided, so inferred frequency 10L will be used.\n",
      "  % freq, ValueWarning)\n"
     ]
    },
    {
     "name": "stdout",
     "output_type": "stream",
     "text": [
      "ARIMA(1, 0, 2)x(1, 1, 1, 12)12 - AIC:955.8361635019486\n",
      "ARIMA(1, 0, 2)x(1, 2, 0, 12)12 - AIC:100.40661942536428\n"
     ]
    },
    {
     "name": "stderr",
     "output_type": "stream",
     "text": [
      "C:\\Users\\t-bhchha\\AppData\\Roaming\\Python\\Python37\\site-packages\\statsmodels\\tsa\\base\\tsa_model.py:165: ValueWarning: No frequency information was provided, so inferred frequency 10L will be used.\n",
      "  % freq, ValueWarning)\n",
      "C:\\Users\\t-bhchha\\AppData\\Roaming\\Python\\Python37\\site-packages\\statsmodels\\tsa\\base\\tsa_model.py:165: ValueWarning: No frequency information was provided, so inferred frequency 10L will be used.\n",
      "  % freq, ValueWarning)\n",
      "C:\\Users\\t-bhchha\\AppData\\Roaming\\Python\\Python37\\site-packages\\statsmodels\\tsa\\base\\tsa_model.py:165: ValueWarning: No frequency information was provided, so inferred frequency 10L will be used.\n",
      "  % freq, ValueWarning)\n"
     ]
    },
    {
     "name": "stdout",
     "output_type": "stream",
     "text": [
      "ARIMA(1, 0, 2)x(2, 0, 0, 12)12 - AIC:141.33585735773656\n"
     ]
    },
    {
     "name": "stderr",
     "output_type": "stream",
     "text": [
      "C:\\Users\\t-bhchha\\AppData\\Roaming\\Python\\Python37\\site-packages\\statsmodels\\tsa\\base\\tsa_model.py:165: ValueWarning: No frequency information was provided, so inferred frequency 10L will be used.\n",
      "  % freq, ValueWarning)\n"
     ]
    },
    {
     "name": "stdout",
     "output_type": "stream",
     "text": [
      "ARIMA(1, 0, 2)x(2, 0, 1, 12)12 - AIC:143.11454257607699\n"
     ]
    },
    {
     "name": "stderr",
     "output_type": "stream",
     "text": [
      "C:\\Users\\t-bhchha\\AppData\\Roaming\\Python\\Python37\\site-packages\\statsmodels\\tsa\\base\\tsa_model.py:165: ValueWarning: No frequency information was provided, so inferred frequency 10L will be used.\n",
      "  % freq, ValueWarning)\n",
      "C:\\Users\\t-bhchha\\AppData\\Roaming\\Python\\Python37\\site-packages\\statsmodels\\tsa\\base\\tsa_model.py:165: ValueWarning: No frequency information was provided, so inferred frequency 10L will be used.\n",
      "  % freq, ValueWarning)\n"
     ]
    },
    {
     "name": "stdout",
     "output_type": "stream",
     "text": [
      "ARIMA(1, 0, 2)x(2, 1, 0, 12)12 - AIC:78.46520158047483\n"
     ]
    },
    {
     "name": "stderr",
     "output_type": "stream",
     "text": [
      "C:\\Users\\t-bhchha\\AppData\\Roaming\\Python\\Python37\\site-packages\\statsmodels\\tsa\\base\\tsa_model.py:165: ValueWarning: No frequency information was provided, so inferred frequency 10L will be used.\n",
      "  % freq, ValueWarning)\n"
     ]
    },
    {
     "name": "stdout",
     "output_type": "stream",
     "text": [
      "ARIMA(1, 0, 2)x(2, 1, 1, 12)12 - AIC:78.29524773634557\n"
     ]
    },
    {
     "name": "stderr",
     "output_type": "stream",
     "text": [
      "C:\\Users\\t-bhchha\\AppData\\Roaming\\Python\\Python37\\site-packages\\statsmodels\\tsa\\base\\tsa_model.py:165: ValueWarning: No frequency information was provided, so inferred frequency 10L will be used.\n",
      "  % freq, ValueWarning)\n",
      "C:\\Users\\t-bhchha\\AppData\\Roaming\\Python\\Python37\\site-packages\\statsmodels\\tsa\\base\\tsa_model.py:165: ValueWarning: No frequency information was provided, so inferred frequency 10L will be used.\n",
      "  % freq, ValueWarning)\n"
     ]
    },
    {
     "name": "stdout",
     "output_type": "stream",
     "text": [
      "ARIMA(1, 0, 2)x(2, 2, 0, 12)12 - AIC:6.148396974545347\n",
      "ARIMA(1, 1, 0)x(0, 0, 0, 12)12 - AIC:304.35125307192783\n",
      "ARIMA(1, 1, 0)x(0, 0, 1, 12)12 - AIC:220.6816860890531\n",
      "ARIMA(1, 1, 0)x(0, 1, 0, 12)12 - AIC:261.26865402650935\n"
     ]
    },
    {
     "name": "stderr",
     "output_type": "stream",
     "text": [
      "C:\\Users\\t-bhchha\\AppData\\Roaming\\Python\\Python37\\site-packages\\statsmodels\\tsa\\base\\tsa_model.py:165: ValueWarning: No frequency information was provided, so inferred frequency 10L will be used.\n",
      "  % freq, ValueWarning)\n",
      "C:\\Users\\t-bhchha\\AppData\\Roaming\\Python\\Python37\\site-packages\\statsmodels\\tsa\\base\\tsa_model.py:165: ValueWarning: No frequency information was provided, so inferred frequency 10L will be used.\n",
      "  % freq, ValueWarning)\n",
      "C:\\Users\\t-bhchha\\AppData\\Roaming\\Python\\Python37\\site-packages\\statsmodels\\tsa\\base\\tsa_model.py:165: ValueWarning: No frequency information was provided, so inferred frequency 10L will be used.\n",
      "  % freq, ValueWarning)\n",
      "C:\\Users\\t-bhchha\\AppData\\Roaming\\Python\\Python37\\site-packages\\statsmodels\\tsa\\base\\tsa_model.py:165: ValueWarning: No frequency information was provided, so inferred frequency 10L will be used.\n",
      "  % freq, ValueWarning)\n",
      "C:\\Users\\t-bhchha\\AppData\\Roaming\\Python\\Python37\\site-packages\\statsmodels\\tsa\\base\\tsa_model.py:165: ValueWarning: No frequency information was provided, so inferred frequency 10L will be used.\n",
      "  % freq, ValueWarning)\n",
      "C:\\Users\\t-bhchha\\AppData\\Roaming\\Python\\Python37\\site-packages\\statsmodels\\tsa\\base\\tsa_model.py:165: ValueWarning: No frequency information was provided, so inferred frequency 10L will be used.\n",
      "  % freq, ValueWarning)\n",
      "C:\\Users\\t-bhchha\\AppData\\Roaming\\Python\\Python37\\site-packages\\statsmodels\\tsa\\base\\tsa_model.py:165: ValueWarning: No frequency information was provided, so inferred frequency 10L will be used.\n",
      "  % freq, ValueWarning)\n",
      "C:\\Users\\t-bhchha\\AppData\\Roaming\\Python\\Python37\\site-packages\\statsmodels\\base\\model.py:512: ConvergenceWarning: Maximum Likelihood optimization failed to converge. Check mle_retvals\n",
      "  \"Check mle_retvals\", ConvergenceWarning)\n",
      "C:\\Users\\t-bhchha\\AppData\\Roaming\\Python\\Python37\\site-packages\\statsmodels\\tsa\\base\\tsa_model.py:165: ValueWarning: No frequency information was provided, so inferred frequency 10L will be used.\n",
      "  % freq, ValueWarning)\n",
      "C:\\Users\\t-bhchha\\AppData\\Roaming\\Python\\Python37\\site-packages\\statsmodels\\tsa\\base\\tsa_model.py:165: ValueWarning: No frequency information was provided, so inferred frequency 10L will be used.\n",
      "  % freq, ValueWarning)\n",
      "C:\\Users\\t-bhchha\\AppData\\Roaming\\Python\\Python37\\site-packages\\statsmodels\\tsa\\base\\tsa_model.py:165: ValueWarning: No frequency information was provided, so inferred frequency 10L will be used.\n",
      "  % freq, ValueWarning)\n",
      "C:\\Users\\t-bhchha\\AppData\\Roaming\\Python\\Python37\\site-packages\\statsmodels\\tsa\\base\\tsa_model.py:165: ValueWarning: No frequency information was provided, so inferred frequency 10L will be used.\n",
      "  % freq, ValueWarning)\n",
      "C:\\Users\\t-bhchha\\AppData\\Roaming\\Python\\Python37\\site-packages\\statsmodels\\tsa\\base\\tsa_model.py:165: ValueWarning: No frequency information was provided, so inferred frequency 10L will be used.\n",
      "  % freq, ValueWarning)\n",
      "C:\\Users\\t-bhchha\\AppData\\Roaming\\Python\\Python37\\site-packages\\statsmodels\\tsa\\base\\tsa_model.py:165: ValueWarning: No frequency information was provided, so inferred frequency 10L will be used.\n",
      "  % freq, ValueWarning)\n",
      "C:\\Users\\t-bhchha\\AppData\\Roaming\\Python\\Python37\\site-packages\\statsmodels\\tsa\\base\\tsa_model.py:165: ValueWarning: No frequency information was provided, so inferred frequency 10L will be used.\n",
      "  % freq, ValueWarning)\n",
      "C:\\Users\\t-bhchha\\AppData\\Roaming\\Python\\Python37\\site-packages\\statsmodels\\tsa\\base\\tsa_model.py:165: ValueWarning: No frequency information was provided, so inferred frequency 10L will be used.\n",
      "  % freq, ValueWarning)\n",
      "C:\\Users\\t-bhchha\\AppData\\Roaming\\Python\\Python37\\site-packages\\statsmodels\\tsa\\base\\tsa_model.py:165: ValueWarning: No frequency information was provided, so inferred frequency 10L will be used.\n",
      "  % freq, ValueWarning)\n"
     ]
    },
    {
     "name": "stdout",
     "output_type": "stream",
     "text": [
      "ARIMA(1, 1, 0)x(0, 1, 1, 12)12 - AIC:1116.024614050117\n",
      "ARIMA(1, 1, 0)x(0, 2, 0, 12)12 - AIC:197.93149293609724\n",
      "ARIMA(1, 1, 0)x(1, 0, 0, 12)12 - AIC:219.1008801842879\n",
      "ARIMA(1, 1, 0)x(1, 0, 1, 12)12 - AIC:221.07903125875458\n",
      "ARIMA(1, 1, 0)x(1, 1, 0, 12)12 - AIC:166.00726191997575\n",
      "ARIMA(1, 1, 0)x(1, 1, 1, 12)12 - AIC:163.31635509952602\n",
      "ARIMA(1, 1, 0)x(1, 2, 0, 12)12 - AIC:99.45407367508244\n"
     ]
    },
    {
     "name": "stderr",
     "output_type": "stream",
     "text": [
      "C:\\Users\\t-bhchha\\AppData\\Roaming\\Python\\Python37\\site-packages\\statsmodels\\tsa\\base\\tsa_model.py:165: ValueWarning: No frequency information was provided, so inferred frequency 10L will be used.\n",
      "  % freq, ValueWarning)\n",
      "C:\\Users\\t-bhchha\\AppData\\Roaming\\Python\\Python37\\site-packages\\statsmodels\\tsa\\base\\tsa_model.py:165: ValueWarning: No frequency information was provided, so inferred frequency 10L will be used.\n",
      "  % freq, ValueWarning)\n",
      "C:\\Users\\t-bhchha\\AppData\\Roaming\\Python\\Python37\\site-packages\\statsmodels\\tsa\\base\\tsa_model.py:165: ValueWarning: No frequency information was provided, so inferred frequency 10L will be used.\n",
      "  % freq, ValueWarning)\n",
      "C:\\Users\\t-bhchha\\AppData\\Roaming\\Python\\Python37\\site-packages\\statsmodels\\tsa\\base\\tsa_model.py:165: ValueWarning: No frequency information was provided, so inferred frequency 10L will be used.\n",
      "  % freq, ValueWarning)\n",
      "C:\\Users\\t-bhchha\\AppData\\Roaming\\Python\\Python37\\site-packages\\statsmodels\\tsa\\base\\tsa_model.py:165: ValueWarning: No frequency information was provided, so inferred frequency 10L will be used.\n",
      "  % freq, ValueWarning)\n"
     ]
    },
    {
     "name": "stdout",
     "output_type": "stream",
     "text": [
      "ARIMA(1, 1, 0)x(2, 0, 0, 12)12 - AIC:143.4759383347352\n",
      "ARIMA(1, 1, 0)x(2, 0, 1, 12)12 - AIC:145.1561133828352\n"
     ]
    },
    {
     "name": "stderr",
     "output_type": "stream",
     "text": [
      "C:\\Users\\t-bhchha\\AppData\\Roaming\\Python\\Python37\\site-packages\\statsmodels\\tsa\\base\\tsa_model.py:165: ValueWarning: No frequency information was provided, so inferred frequency 10L will be used.\n",
      "  % freq, ValueWarning)\n",
      "C:\\Users\\t-bhchha\\AppData\\Roaming\\Python\\Python37\\site-packages\\statsmodels\\tsa\\base\\tsa_model.py:165: ValueWarning: No frequency information was provided, so inferred frequency 10L will be used.\n",
      "  % freq, ValueWarning)\n",
      "C:\\Users\\t-bhchha\\AppData\\Roaming\\Python\\Python37\\site-packages\\statsmodels\\tsa\\base\\tsa_model.py:165: ValueWarning: No frequency information was provided, so inferred frequency 10L will be used.\n",
      "  % freq, ValueWarning)\n"
     ]
    },
    {
     "name": "stdout",
     "output_type": "stream",
     "text": [
      "ARIMA(1, 1, 0)x(2, 1, 0, 12)12 - AIC:74.14664569158171\n"
     ]
    },
    {
     "name": "stderr",
     "output_type": "stream",
     "text": [
      "C:\\Users\\t-bhchha\\AppData\\Roaming\\Python\\Python37\\site-packages\\statsmodels\\tsa\\base\\tsa_model.py:165: ValueWarning: No frequency information was provided, so inferred frequency 10L will be used.\n",
      "  % freq, ValueWarning)\n"
     ]
    },
    {
     "name": "stdout",
     "output_type": "stream",
     "text": [
      "ARIMA(1, 1, 0)x(2, 1, 1, 12)12 - AIC:75.82635420509055\n",
      "ARIMA(1, 1, 0)x(2, 2, 0, 12)12 - AIC:8.0\n",
      "ARIMA(1, 1, 1)x(0, 0, 0, 12)12 - AIC:280.72181364737804\n",
      "ARIMA(1, 1, 1)x(0, 0, 1, 12)12 - AIC:205.94391752273043\n",
      "ARIMA(1, 1, 1)x(0, 1, 0, 12)12 - AIC:239.95156804150696\n"
     ]
    },
    {
     "name": "stderr",
     "output_type": "stream",
     "text": [
      "C:\\Users\\t-bhchha\\AppData\\Roaming\\Python\\Python37\\site-packages\\statsmodels\\tsa\\base\\tsa_model.py:165: ValueWarning: No frequency information was provided, so inferred frequency 10L will be used.\n",
      "  % freq, ValueWarning)\n",
      "C:\\Users\\t-bhchha\\AppData\\Roaming\\Python\\Python37\\site-packages\\statsmodels\\tsa\\base\\tsa_model.py:165: ValueWarning: No frequency information was provided, so inferred frequency 10L will be used.\n",
      "  % freq, ValueWarning)\n",
      "C:\\Users\\t-bhchha\\AppData\\Roaming\\Python\\Python37\\site-packages\\statsmodels\\tsa\\base\\tsa_model.py:165: ValueWarning: No frequency information was provided, so inferred frequency 10L will be used.\n",
      "  % freq, ValueWarning)\n",
      "C:\\Users\\t-bhchha\\AppData\\Roaming\\Python\\Python37\\site-packages\\statsmodels\\tsa\\base\\tsa_model.py:165: ValueWarning: No frequency information was provided, so inferred frequency 10L will be used.\n",
      "  % freq, ValueWarning)\n",
      "C:\\Users\\t-bhchha\\AppData\\Roaming\\Python\\Python37\\site-packages\\statsmodels\\tsa\\base\\tsa_model.py:165: ValueWarning: No frequency information was provided, so inferred frequency 10L will be used.\n",
      "  % freq, ValueWarning)\n",
      "C:\\Users\\t-bhchha\\AppData\\Roaming\\Python\\Python37\\site-packages\\statsmodels\\tsa\\base\\tsa_model.py:165: ValueWarning: No frequency information was provided, so inferred frequency 10L will be used.\n",
      "  % freq, ValueWarning)\n",
      "C:\\Users\\t-bhchha\\AppData\\Roaming\\Python\\Python37\\site-packages\\statsmodels\\tsa\\base\\tsa_model.py:165: ValueWarning: No frequency information was provided, so inferred frequency 10L will be used.\n",
      "  % freq, ValueWarning)\n",
      "C:\\Users\\t-bhchha\\AppData\\Roaming\\Python\\Python37\\site-packages\\statsmodels\\tsa\\base\\tsa_model.py:165: ValueWarning: No frequency information was provided, so inferred frequency 10L will be used.\n",
      "  % freq, ValueWarning)\n",
      "C:\\Users\\t-bhchha\\AppData\\Roaming\\Python\\Python37\\site-packages\\statsmodels\\tsa\\base\\tsa_model.py:165: ValueWarning: No frequency information was provided, so inferred frequency 10L will be used.\n",
      "  % freq, ValueWarning)\n",
      "C:\\Users\\t-bhchha\\AppData\\Roaming\\Python\\Python37\\site-packages\\statsmodels\\base\\model.py:512: ConvergenceWarning: Maximum Likelihood optimization failed to converge. Check mle_retvals\n",
      "  \"Check mle_retvals\", ConvergenceWarning)\n",
      "C:\\Users\\t-bhchha\\AppData\\Roaming\\Python\\Python37\\site-packages\\statsmodels\\tsa\\base\\tsa_model.py:165: ValueWarning: No frequency information was provided, so inferred frequency 10L will be used.\n",
      "  % freq, ValueWarning)\n",
      "C:\\Users\\t-bhchha\\AppData\\Roaming\\Python\\Python37\\site-packages\\statsmodels\\tsa\\base\\tsa_model.py:165: ValueWarning: No frequency information was provided, so inferred frequency 10L will be used.\n",
      "  % freq, ValueWarning)\n",
      "C:\\Users\\t-bhchha\\AppData\\Roaming\\Python\\Python37\\site-packages\\statsmodels\\tsa\\base\\tsa_model.py:165: ValueWarning: No frequency information was provided, so inferred frequency 10L will be used.\n",
      "  % freq, ValueWarning)\n",
      "C:\\Users\\t-bhchha\\AppData\\Roaming\\Python\\Python37\\site-packages\\statsmodels\\tsa\\base\\tsa_model.py:165: ValueWarning: No frequency information was provided, so inferred frequency 10L will be used.\n",
      "  % freq, ValueWarning)\n",
      "C:\\Users\\t-bhchha\\AppData\\Roaming\\Python\\Python37\\site-packages\\statsmodels\\tsa\\base\\tsa_model.py:165: ValueWarning: No frequency information was provided, so inferred frequency 10L will be used.\n",
      "  % freq, ValueWarning)\n",
      "C:\\Users\\t-bhchha\\AppData\\Roaming\\Python\\Python37\\site-packages\\statsmodels\\tsa\\base\\tsa_model.py:165: ValueWarning: No frequency information was provided, so inferred frequency 10L will be used.\n",
      "  % freq, ValueWarning)\n"
     ]
    },
    {
     "name": "stdout",
     "output_type": "stream",
     "text": [
      "ARIMA(1, 1, 1)x(0, 1, 1, 12)12 - AIC:1034.9806835989366\n",
      "ARIMA(1, 1, 1)x(0, 2, 0, 12)12 - AIC:184.79853825931588\n",
      "ARIMA(1, 1, 1)x(1, 0, 0, 12)12 - AIC:207.16734539007032\n",
      "ARIMA(1, 1, 1)x(1, 0, 1, 12)12 - AIC:205.64469693013734\n",
      "ARIMA(1, 1, 1)x(1, 1, 0, 12)12 - AIC:159.87914161485966\n"
     ]
    },
    {
     "name": "stderr",
     "output_type": "stream",
     "text": [
      "C:\\Users\\t-bhchha\\AppData\\Roaming\\Python\\Python37\\site-packages\\statsmodels\\tsa\\base\\tsa_model.py:165: ValueWarning: No frequency information was provided, so inferred frequency 10L will be used.\n",
      "  % freq, ValueWarning)\n",
      "C:\\Users\\t-bhchha\\AppData\\Roaming\\Python\\Python37\\site-packages\\statsmodels\\tsa\\base\\tsa_model.py:165: ValueWarning: No frequency information was provided, so inferred frequency 10L will be used.\n",
      "  % freq, ValueWarning)\n",
      "C:\\Users\\t-bhchha\\AppData\\Roaming\\Python\\Python37\\site-packages\\statsmodels\\tsa\\base\\tsa_model.py:165: ValueWarning: No frequency information was provided, so inferred frequency 10L will be used.\n",
      "  % freq, ValueWarning)\n"
     ]
    },
    {
     "name": "stdout",
     "output_type": "stream",
     "text": [
      "ARIMA(1, 1, 1)x(1, 1, 1, 12)12 - AIC:152.83650135289017\n"
     ]
    },
    {
     "name": "stderr",
     "output_type": "stream",
     "text": [
      "C:\\Users\\t-bhchha\\AppData\\Roaming\\Python\\Python37\\site-packages\\statsmodels\\tsa\\base\\tsa_model.py:165: ValueWarning: No frequency information was provided, so inferred frequency 10L will be used.\n",
      "  % freq, ValueWarning)\n",
      "C:\\Users\\t-bhchha\\AppData\\Roaming\\Python\\Python37\\site-packages\\statsmodels\\tsa\\base\\tsa_model.py:165: ValueWarning: No frequency information was provided, so inferred frequency 10L will be used.\n",
      "  % freq, ValueWarning)\n"
     ]
    },
    {
     "name": "stdout",
     "output_type": "stream",
     "text": [
      "ARIMA(1, 1, 1)x(1, 2, 0, 12)12 - AIC:98.01722952325233\n",
      "ARIMA(1, 1, 1)x(2, 0, 0, 12)12 - AIC:138.26356093567873\n"
     ]
    },
    {
     "name": "stderr",
     "output_type": "stream",
     "text": [
      "C:\\Users\\t-bhchha\\AppData\\Roaming\\Python\\Python37\\site-packages\\statsmodels\\tsa\\base\\tsa_model.py:165: ValueWarning: No frequency information was provided, so inferred frequency 10L will be used.\n",
      "  % freq, ValueWarning)\n",
      "C:\\Users\\t-bhchha\\AppData\\Roaming\\Python\\Python37\\site-packages\\statsmodels\\tsa\\base\\tsa_model.py:165: ValueWarning: No frequency information was provided, so inferred frequency 10L will be used.\n",
      "  % freq, ValueWarning)\n",
      "C:\\Users\\t-bhchha\\AppData\\Roaming\\Python\\Python37\\site-packages\\statsmodels\\tsa\\base\\tsa_model.py:165: ValueWarning: No frequency information was provided, so inferred frequency 10L will be used.\n",
      "  % freq, ValueWarning)\n",
      "C:\\Users\\t-bhchha\\AppData\\Roaming\\Python\\Python37\\site-packages\\statsmodels\\tsa\\base\\tsa_model.py:165: ValueWarning: No frequency information was provided, so inferred frequency 10L will be used.\n",
      "  % freq, ValueWarning)\n"
     ]
    },
    {
     "name": "stdout",
     "output_type": "stream",
     "text": [
      "ARIMA(1, 1, 1)x(2, 0, 1, 12)12 - AIC:139.6939986872074\n"
     ]
    },
    {
     "name": "stderr",
     "output_type": "stream",
     "text": [
      "C:\\Users\\t-bhchha\\AppData\\Roaming\\Python\\Python37\\site-packages\\statsmodels\\tsa\\base\\tsa_model.py:165: ValueWarning: No frequency information was provided, so inferred frequency 10L will be used.\n",
      "  % freq, ValueWarning)\n",
      "C:\\Users\\t-bhchha\\AppData\\Roaming\\Python\\Python37\\site-packages\\statsmodels\\tsa\\base\\tsa_model.py:165: ValueWarning: No frequency information was provided, so inferred frequency 10L will be used.\n",
      "  % freq, ValueWarning)\n"
     ]
    },
    {
     "name": "stdout",
     "output_type": "stream",
     "text": [
      "ARIMA(1, 1, 1)x(2, 1, 0, 12)12 - AIC:73.5934318804845\n"
     ]
    },
    {
     "name": "stderr",
     "output_type": "stream",
     "text": [
      "C:\\Users\\t-bhchha\\AppData\\Roaming\\Python\\Python37\\site-packages\\statsmodels\\tsa\\base\\tsa_model.py:165: ValueWarning: No frequency information was provided, so inferred frequency 10L will be used.\n",
      "  % freq, ValueWarning)\n"
     ]
    },
    {
     "name": "stdout",
     "output_type": "stream",
     "text": [
      "ARIMA(1, 1, 1)x(2, 1, 1, 12)12 - AIC:74.69070842339949\n",
      "ARIMA(1, 1, 1)x(2, 2, 0, 12)12 - AIC:10.0\n",
      "ARIMA(1, 1, 2)x(0, 0, 0, 12)12 - AIC:276.73329377164356\n",
      "ARIMA(1, 1, 2)x(0, 0, 1, 12)12 - AIC:201.5194007105888\n"
     ]
    },
    {
     "name": "stderr",
     "output_type": "stream",
     "text": [
      "C:\\Users\\t-bhchha\\AppData\\Roaming\\Python\\Python37\\site-packages\\statsmodels\\tsa\\base\\tsa_model.py:165: ValueWarning: No frequency information was provided, so inferred frequency 10L will be used.\n",
      "  % freq, ValueWarning)\n",
      "C:\\Users\\t-bhchha\\AppData\\Roaming\\Python\\Python37\\site-packages\\statsmodels\\tsa\\base\\tsa_model.py:165: ValueWarning: No frequency information was provided, so inferred frequency 10L will be used.\n",
      "  % freq, ValueWarning)\n",
      "C:\\Users\\t-bhchha\\AppData\\Roaming\\Python\\Python37\\site-packages\\statsmodels\\tsa\\base\\tsa_model.py:165: ValueWarning: No frequency information was provided, so inferred frequency 10L will be used.\n",
      "  % freq, ValueWarning)\n",
      "C:\\Users\\t-bhchha\\AppData\\Roaming\\Python\\Python37\\site-packages\\statsmodels\\tsa\\base\\tsa_model.py:165: ValueWarning: No frequency information was provided, so inferred frequency 10L will be used.\n",
      "  % freq, ValueWarning)\n",
      "C:\\Users\\t-bhchha\\AppData\\Roaming\\Python\\Python37\\site-packages\\statsmodels\\tsa\\base\\tsa_model.py:165: ValueWarning: No frequency information was provided, so inferred frequency 10L will be used.\n",
      "  % freq, ValueWarning)\n",
      "C:\\Users\\t-bhchha\\AppData\\Roaming\\Python\\Python37\\site-packages\\statsmodels\\tsa\\base\\tsa_model.py:165: ValueWarning: No frequency information was provided, so inferred frequency 10L will be used.\n",
      "  % freq, ValueWarning)\n",
      "C:\\Users\\t-bhchha\\AppData\\Roaming\\Python\\Python37\\site-packages\\statsmodels\\tsa\\base\\tsa_model.py:165: ValueWarning: No frequency information was provided, so inferred frequency 10L will be used.\n",
      "  % freq, ValueWarning)\n",
      "C:\\Users\\t-bhchha\\AppData\\Roaming\\Python\\Python37\\site-packages\\statsmodels\\tsa\\base\\tsa_model.py:165: ValueWarning: No frequency information was provided, so inferred frequency 10L will be used.\n",
      "  % freq, ValueWarning)\n",
      "C:\\Users\\t-bhchha\\AppData\\Roaming\\Python\\Python37\\site-packages\\statsmodels\\tsa\\base\\tsa_model.py:165: ValueWarning: No frequency information was provided, so inferred frequency 10L will be used.\n",
      "  % freq, ValueWarning)\n"
     ]
    },
    {
     "name": "stdout",
     "output_type": "stream",
     "text": [
      "ARIMA(1, 1, 2)x(0, 1, 0, 12)12 - AIC:235.77467624348026\n",
      "ARIMA(1, 1, 2)x(0, 1, 1, 12)12 - AIC:1031.0678678884697\n",
      "ARIMA(1, 1, 2)x(0, 2, 0, 12)12 - AIC:180.47417324659492\n",
      "ARIMA(1, 1, 2)x(1, 0, 0, 12)12 - AIC:209.48031041807715\n"
     ]
    },
    {
     "name": "stderr",
     "output_type": "stream",
     "text": [
      "C:\\Users\\t-bhchha\\AppData\\Roaming\\Python\\Python37\\site-packages\\statsmodels\\tsa\\base\\tsa_model.py:165: ValueWarning: No frequency information was provided, so inferred frequency 10L will be used.\n",
      "  % freq, ValueWarning)\n",
      "C:\\Users\\t-bhchha\\AppData\\Roaming\\Python\\Python37\\site-packages\\statsmodels\\tsa\\base\\tsa_model.py:165: ValueWarning: No frequency information was provided, so inferred frequency 10L will be used.\n",
      "  % freq, ValueWarning)\n",
      "C:\\Users\\t-bhchha\\AppData\\Roaming\\Python\\Python37\\site-packages\\statsmodels\\tsa\\base\\tsa_model.py:165: ValueWarning: No frequency information was provided, so inferred frequency 10L will be used.\n",
      "  % freq, ValueWarning)\n",
      "C:\\Users\\t-bhchha\\AppData\\Roaming\\Python\\Python37\\site-packages\\statsmodels\\tsa\\base\\tsa_model.py:165: ValueWarning: No frequency information was provided, so inferred frequency 10L will be used.\n",
      "  % freq, ValueWarning)\n",
      "C:\\Users\\t-bhchha\\AppData\\Roaming\\Python\\Python37\\site-packages\\statsmodels\\tsa\\base\\tsa_model.py:165: ValueWarning: No frequency information was provided, so inferred frequency 10L will be used.\n",
      "  % freq, ValueWarning)\n",
      "C:\\Users\\t-bhchha\\AppData\\Roaming\\Python\\Python37\\site-packages\\statsmodels\\tsa\\base\\tsa_model.py:165: ValueWarning: No frequency information was provided, so inferred frequency 10L will be used.\n",
      "  % freq, ValueWarning)\n"
     ]
    },
    {
     "name": "stdout",
     "output_type": "stream",
     "text": [
      "ARIMA(1, 1, 2)x(1, 0, 1, 12)12 - AIC:201.3549356409124\n",
      "ARIMA(1, 1, 2)x(1, 1, 0, 12)12 - AIC:161.04461025031645\n"
     ]
    },
    {
     "name": "stderr",
     "output_type": "stream",
     "text": [
      "C:\\Users\\t-bhchha\\AppData\\Roaming\\Python\\Python37\\site-packages\\statsmodels\\tsa\\base\\tsa_model.py:165: ValueWarning: No frequency information was provided, so inferred frequency 10L will be used.\n",
      "  % freq, ValueWarning)\n",
      "C:\\Users\\t-bhchha\\AppData\\Roaming\\Python\\Python37\\site-packages\\statsmodels\\tsa\\base\\tsa_model.py:165: ValueWarning: No frequency information was provided, so inferred frequency 10L will be used.\n",
      "  % freq, ValueWarning)\n",
      "C:\\Users\\t-bhchha\\AppData\\Roaming\\Python\\Python37\\site-packages\\statsmodels\\tsa\\base\\tsa_model.py:165: ValueWarning: No frequency information was provided, so inferred frequency 10L will be used.\n",
      "  % freq, ValueWarning)\n"
     ]
    },
    {
     "name": "stdout",
     "output_type": "stream",
     "text": [
      "ARIMA(1, 1, 2)x(1, 1, 1, 12)12 - AIC:148.85343427631477\n"
     ]
    },
    {
     "name": "stderr",
     "output_type": "stream",
     "text": [
      "C:\\Users\\t-bhchha\\AppData\\Roaming\\Python\\Python37\\site-packages\\statsmodels\\tsa\\base\\tsa_model.py:165: ValueWarning: No frequency information was provided, so inferred frequency 10L will be used.\n",
      "  % freq, ValueWarning)\n",
      "C:\\Users\\t-bhchha\\AppData\\Roaming\\Python\\Python37\\site-packages\\statsmodels\\tsa\\base\\tsa_model.py:165: ValueWarning: No frequency information was provided, so inferred frequency 10L will be used.\n",
      "  % freq, ValueWarning)\n"
     ]
    },
    {
     "name": "stdout",
     "output_type": "stream",
     "text": [
      "ARIMA(1, 1, 2)x(1, 2, 0, 12)12 - AIC:97.22312564913025\n"
     ]
    },
    {
     "name": "stderr",
     "output_type": "stream",
     "text": [
      "C:\\Users\\t-bhchha\\AppData\\Roaming\\Python\\Python37\\site-packages\\statsmodels\\tsa\\base\\tsa_model.py:165: ValueWarning: No frequency information was provided, so inferred frequency 10L will be used.\n",
      "  % freq, ValueWarning)\n",
      "C:\\Users\\t-bhchha\\AppData\\Roaming\\Python\\Python37\\site-packages\\statsmodels\\tsa\\base\\tsa_model.py:165: ValueWarning: No frequency information was provided, so inferred frequency 10L will be used.\n",
      "  % freq, ValueWarning)\n",
      "C:\\Users\\t-bhchha\\AppData\\Roaming\\Python\\Python37\\site-packages\\statsmodels\\tsa\\base\\tsa_model.py:165: ValueWarning: No frequency information was provided, so inferred frequency 10L will be used.\n",
      "  % freq, ValueWarning)\n"
     ]
    },
    {
     "name": "stdout",
     "output_type": "stream",
     "text": [
      "ARIMA(1, 1, 2)x(2, 0, 0, 12)12 - AIC:135.70429128923257\n"
     ]
    },
    {
     "name": "stderr",
     "output_type": "stream",
     "text": [
      "C:\\Users\\t-bhchha\\AppData\\Roaming\\Python\\Python37\\site-packages\\statsmodels\\tsa\\base\\tsa_model.py:165: ValueWarning: No frequency information was provided, so inferred frequency 10L will be used.\n",
      "  % freq, ValueWarning)\n"
     ]
    },
    {
     "name": "stdout",
     "output_type": "stream",
     "text": [
      "ARIMA(1, 1, 2)x(2, 0, 1, 12)12 - AIC:135.8079479717431\n"
     ]
    },
    {
     "name": "stderr",
     "output_type": "stream",
     "text": [
      "C:\\Users\\t-bhchha\\AppData\\Roaming\\Python\\Python37\\site-packages\\statsmodels\\tsa\\base\\tsa_model.py:165: ValueWarning: No frequency information was provided, so inferred frequency 10L will be used.\n",
      "  % freq, ValueWarning)\n",
      "C:\\Users\\t-bhchha\\AppData\\Roaming\\Python\\Python37\\site-packages\\statsmodels\\tsa\\base\\tsa_model.py:165: ValueWarning: No frequency information was provided, so inferred frequency 10L will be used.\n",
      "  % freq, ValueWarning)\n"
     ]
    },
    {
     "name": "stdout",
     "output_type": "stream",
     "text": [
      "ARIMA(1, 1, 2)x(2, 1, 0, 12)12 - AIC:73.60876704028588\n"
     ]
    },
    {
     "name": "stderr",
     "output_type": "stream",
     "text": [
      "C:\\Users\\t-bhchha\\AppData\\Roaming\\Python\\Python37\\site-packages\\statsmodels\\tsa\\base\\tsa_model.py:165: ValueWarning: No frequency information was provided, so inferred frequency 10L will be used.\n",
      "  % freq, ValueWarning)\n"
     ]
    },
    {
     "name": "stdout",
     "output_type": "stream",
     "text": [
      "ARIMA(1, 1, 2)x(2, 1, 1, 12)12 - AIC:74.37119813256687\n",
      "ARIMA(1, 1, 2)x(2, 2, 0, 12)12 - AIC:12.0\n",
      "ARIMA(1, 2, 0)x(0, 0, 0, 12)12 - AIC:327.3142184351607\n"
     ]
    },
    {
     "name": "stderr",
     "output_type": "stream",
     "text": [
      "C:\\Users\\t-bhchha\\AppData\\Roaming\\Python\\Python37\\site-packages\\statsmodels\\tsa\\base\\tsa_model.py:165: ValueWarning: No frequency information was provided, so inferred frequency 10L will be used.\n",
      "  % freq, ValueWarning)\n",
      "C:\\Users\\t-bhchha\\AppData\\Roaming\\Python\\Python37\\site-packages\\statsmodels\\tsa\\base\\tsa_model.py:165: ValueWarning: No frequency information was provided, so inferred frequency 10L will be used.\n",
      "  % freq, ValueWarning)\n",
      "C:\\Users\\t-bhchha\\AppData\\Roaming\\Python\\Python37\\site-packages\\statsmodels\\tsa\\base\\tsa_model.py:165: ValueWarning: No frequency information was provided, so inferred frequency 10L will be used.\n",
      "  % freq, ValueWarning)\n",
      "C:\\Users\\t-bhchha\\AppData\\Roaming\\Python\\Python37\\site-packages\\statsmodels\\tsa\\base\\tsa_model.py:165: ValueWarning: No frequency information was provided, so inferred frequency 10L will be used.\n",
      "  % freq, ValueWarning)\n",
      "C:\\Users\\t-bhchha\\AppData\\Roaming\\Python\\Python37\\site-packages\\statsmodels\\tsa\\base\\tsa_model.py:165: ValueWarning: No frequency information was provided, so inferred frequency 10L will be used.\n",
      "  % freq, ValueWarning)\n",
      "C:\\Users\\t-bhchha\\AppData\\Roaming\\Python\\Python37\\site-packages\\statsmodels\\tsa\\base\\tsa_model.py:165: ValueWarning: No frequency information was provided, so inferred frequency 10L will be used.\n",
      "  % freq, ValueWarning)\n",
      "C:\\Users\\t-bhchha\\AppData\\Roaming\\Python\\Python37\\site-packages\\statsmodels\\base\\model.py:512: ConvergenceWarning: Maximum Likelihood optimization failed to converge. Check mle_retvals\n",
      "  \"Check mle_retvals\", ConvergenceWarning)\n",
      "C:\\Users\\t-bhchha\\AppData\\Roaming\\Python\\Python37\\site-packages\\statsmodels\\tsa\\base\\tsa_model.py:165: ValueWarning: No frequency information was provided, so inferred frequency 10L will be used.\n",
      "  % freq, ValueWarning)\n",
      "C:\\Users\\t-bhchha\\AppData\\Roaming\\Python\\Python37\\site-packages\\statsmodels\\tsa\\base\\tsa_model.py:165: ValueWarning: No frequency information was provided, so inferred frequency 10L will be used.\n",
      "  % freq, ValueWarning)\n",
      "C:\\Users\\t-bhchha\\AppData\\Roaming\\Python\\Python37\\site-packages\\statsmodels\\tsa\\base\\tsa_model.py:165: ValueWarning: No frequency information was provided, so inferred frequency 10L will be used.\n",
      "  % freq, ValueWarning)\n",
      "C:\\Users\\t-bhchha\\AppData\\Roaming\\Python\\Python37\\site-packages\\statsmodels\\tsa\\base\\tsa_model.py:165: ValueWarning: No frequency information was provided, so inferred frequency 10L will be used.\n",
      "  % freq, ValueWarning)\n",
      "C:\\Users\\t-bhchha\\AppData\\Roaming\\Python\\Python37\\site-packages\\statsmodels\\tsa\\base\\tsa_model.py:165: ValueWarning: No frequency information was provided, so inferred frequency 10L will be used.\n",
      "  % freq, ValueWarning)\n",
      "C:\\Users\\t-bhchha\\AppData\\Roaming\\Python\\Python37\\site-packages\\statsmodels\\tsa\\base\\tsa_model.py:165: ValueWarning: No frequency information was provided, so inferred frequency 10L will be used.\n",
      "  % freq, ValueWarning)\n",
      "C:\\Users\\t-bhchha\\AppData\\Roaming\\Python\\Python37\\site-packages\\statsmodels\\tsa\\base\\tsa_model.py:165: ValueWarning: No frequency information was provided, so inferred frequency 10L will be used.\n",
      "  % freq, ValueWarning)\n",
      "C:\\Users\\t-bhchha\\AppData\\Roaming\\Python\\Python37\\site-packages\\statsmodels\\tsa\\base\\tsa_model.py:165: ValueWarning: No frequency information was provided, so inferred frequency 10L will be used.\n",
      "  % freq, ValueWarning)\n",
      "C:\\Users\\t-bhchha\\AppData\\Roaming\\Python\\Python37\\site-packages\\statsmodels\\tsa\\base\\tsa_model.py:165: ValueWarning: No frequency information was provided, so inferred frequency 10L will be used.\n",
      "  % freq, ValueWarning)\n"
     ]
    },
    {
     "name": "stdout",
     "output_type": "stream",
     "text": [
      "ARIMA(1, 2, 0)x(0, 0, 1, 12)12 - AIC:1330.5043545825047\n",
      "ARIMA(1, 2, 0)x(0, 1, 0, 12)12 - AIC:276.03794968724867\n",
      "ARIMA(1, 2, 0)x(0, 2, 0, 12)12 - AIC:204.17157054444988\n",
      "ARIMA(1, 2, 0)x(1, 0, 0, 12)12 - AIC:240.74233756876197\n"
     ]
    },
    {
     "name": "stderr",
     "output_type": "stream",
     "text": [
      "C:\\Users\\t-bhchha\\AppData\\Roaming\\Python\\Python37\\site-packages\\statsmodels\\base\\model.py:512: ConvergenceWarning: Maximum Likelihood optimization failed to converge. Check mle_retvals\n",
      "  \"Check mle_retvals\", ConvergenceWarning)\n",
      "C:\\Users\\t-bhchha\\AppData\\Roaming\\Python\\Python37\\site-packages\\statsmodels\\tsa\\base\\tsa_model.py:165: ValueWarning: No frequency information was provided, so inferred frequency 10L will be used.\n",
      "  % freq, ValueWarning)\n",
      "C:\\Users\\t-bhchha\\AppData\\Roaming\\Python\\Python37\\site-packages\\statsmodels\\tsa\\base\\tsa_model.py:165: ValueWarning: No frequency information was provided, so inferred frequency 10L will be used.\n",
      "  % freq, ValueWarning)\n",
      "C:\\Users\\t-bhchha\\AppData\\Roaming\\Python\\Python37\\site-packages\\statsmodels\\tsa\\base\\tsa_model.py:165: ValueWarning: No frequency information was provided, so inferred frequency 10L will be used.\n",
      "  % freq, ValueWarning)\n",
      "C:\\Users\\t-bhchha\\AppData\\Roaming\\Python\\Python37\\site-packages\\statsmodels\\tsa\\base\\tsa_model.py:165: ValueWarning: No frequency information was provided, so inferred frequency 10L will be used.\n",
      "  % freq, ValueWarning)\n",
      "C:\\Users\\t-bhchha\\AppData\\Roaming\\Python\\Python37\\site-packages\\statsmodels\\tsa\\base\\tsa_model.py:165: ValueWarning: No frequency information was provided, so inferred frequency 10L will be used.\n",
      "  % freq, ValueWarning)\n"
     ]
    },
    {
     "name": "stdout",
     "output_type": "stream",
     "text": [
      "ARIMA(1, 2, 0)x(1, 0, 1, 12)12 - AIC:1365.278468649159\n",
      "ARIMA(1, 2, 0)x(1, 1, 0, 12)12 - AIC:174.87565402681744\n",
      "ARIMA(1, 2, 0)x(1, 2, 0, 12)12 - AIC:98.23997329988137\n",
      "ARIMA(1, 2, 0)x(2, 0, 0, 12)12 - AIC:153.58682753146383\n"
     ]
    },
    {
     "name": "stderr",
     "output_type": "stream",
     "text": [
      "C:\\Users\\t-bhchha\\AppData\\Roaming\\Python\\Python37\\site-packages\\statsmodels\\tsa\\base\\tsa_model.py:165: ValueWarning: No frequency information was provided, so inferred frequency 10L will be used.\n",
      "  % freq, ValueWarning)\n",
      "C:\\Users\\t-bhchha\\AppData\\Roaming\\Python\\Python37\\site-packages\\statsmodels\\tsa\\base\\tsa_model.py:165: ValueWarning: No frequency information was provided, so inferred frequency 10L will be used.\n",
      "  % freq, ValueWarning)\n",
      "C:\\Users\\t-bhchha\\AppData\\Roaming\\Python\\Python37\\site-packages\\statsmodels\\tsa\\base\\tsa_model.py:165: ValueWarning: No frequency information was provided, so inferred frequency 10L will be used.\n",
      "  % freq, ValueWarning)\n",
      "C:\\Users\\t-bhchha\\AppData\\Roaming\\Python\\Python37\\site-packages\\statsmodels\\tsa\\base\\tsa_model.py:165: ValueWarning: No frequency information was provided, so inferred frequency 10L will be used.\n",
      "  % freq, ValueWarning)\n",
      "C:\\Users\\t-bhchha\\AppData\\Roaming\\Python\\Python37\\site-packages\\statsmodels\\base\\model.py:512: ConvergenceWarning: Maximum Likelihood optimization failed to converge. Check mle_retvals\n",
      "  \"Check mle_retvals\", ConvergenceWarning)\n",
      "C:\\Users\\t-bhchha\\AppData\\Roaming\\Python\\Python37\\site-packages\\statsmodels\\tsa\\base\\tsa_model.py:165: ValueWarning: No frequency information was provided, so inferred frequency 10L will be used.\n",
      "  % freq, ValueWarning)\n",
      "C:\\Users\\t-bhchha\\AppData\\Roaming\\Python\\Python37\\site-packages\\statsmodels\\tsa\\base\\tsa_model.py:165: ValueWarning: No frequency information was provided, so inferred frequency 10L will be used.\n",
      "  % freq, ValueWarning)\n"
     ]
    },
    {
     "name": "stdout",
     "output_type": "stream",
     "text": [
      "ARIMA(1, 2, 0)x(2, 0, 1, 12)12 - AIC:896.0532914201017\n",
      "ARIMA(1, 2, 0)x(2, 1, 0, 12)12 - AIC:75.15855233004301\n",
      "ARIMA(1, 2, 1)x(0, 0, 0, 12)12 - AIC:292.2200401228306\n"
     ]
    },
    {
     "name": "stderr",
     "output_type": "stream",
     "text": [
      "C:\\Users\\t-bhchha\\AppData\\Roaming\\Python\\Python37\\site-packages\\statsmodels\\tsa\\base\\tsa_model.py:165: ValueWarning: No frequency information was provided, so inferred frequency 10L will be used.\n",
      "  % freq, ValueWarning)\n",
      "C:\\Users\\t-bhchha\\AppData\\Roaming\\Python\\Python37\\site-packages\\statsmodels\\tsa\\base\\tsa_model.py:165: ValueWarning: No frequency information was provided, so inferred frequency 10L will be used.\n",
      "  % freq, ValueWarning)\n",
      "C:\\Users\\t-bhchha\\AppData\\Roaming\\Python\\Python37\\site-packages\\statsmodels\\tsa\\base\\tsa_model.py:165: ValueWarning: No frequency information was provided, so inferred frequency 10L will be used.\n",
      "  % freq, ValueWarning)\n",
      "C:\\Users\\t-bhchha\\AppData\\Roaming\\Python\\Python37\\site-packages\\statsmodels\\tsa\\base\\tsa_model.py:165: ValueWarning: No frequency information was provided, so inferred frequency 10L will be used.\n",
      "  % freq, ValueWarning)\n",
      "C:\\Users\\t-bhchha\\AppData\\Roaming\\Python\\Python37\\site-packages\\statsmodels\\tsa\\base\\tsa_model.py:165: ValueWarning: No frequency information was provided, so inferred frequency 10L will be used.\n",
      "  % freq, ValueWarning)\n",
      "C:\\Users\\t-bhchha\\AppData\\Roaming\\Python\\Python37\\site-packages\\statsmodels\\tsa\\base\\tsa_model.py:165: ValueWarning: No frequency information was provided, so inferred frequency 10L will be used.\n",
      "  % freq, ValueWarning)\n",
      "C:\\Users\\t-bhchha\\AppData\\Roaming\\Python\\Python37\\site-packages\\statsmodels\\tsa\\base\\tsa_model.py:165: ValueWarning: No frequency information was provided, so inferred frequency 10L will be used.\n",
      "  % freq, ValueWarning)\n",
      "C:\\Users\\t-bhchha\\AppData\\Roaming\\Python\\Python37\\site-packages\\statsmodels\\base\\model.py:512: ConvergenceWarning: Maximum Likelihood optimization failed to converge. Check mle_retvals\n",
      "  \"Check mle_retvals\", ConvergenceWarning)\n",
      "C:\\Users\\t-bhchha\\AppData\\Roaming\\Python\\Python37\\site-packages\\statsmodels\\tsa\\base\\tsa_model.py:165: ValueWarning: No frequency information was provided, so inferred frequency 10L will be used.\n",
      "  % freq, ValueWarning)\n",
      "C:\\Users\\t-bhchha\\AppData\\Roaming\\Python\\Python37\\site-packages\\statsmodels\\tsa\\base\\tsa_model.py:165: ValueWarning: No frequency information was provided, so inferred frequency 10L will be used.\n",
      "  % freq, ValueWarning)\n",
      "C:\\Users\\t-bhchha\\AppData\\Roaming\\Python\\Python37\\site-packages\\statsmodels\\tsa\\base\\tsa_model.py:165: ValueWarning: No frequency information was provided, so inferred frequency 10L will be used.\n",
      "  % freq, ValueWarning)\n",
      "C:\\Users\\t-bhchha\\AppData\\Roaming\\Python\\Python37\\site-packages\\statsmodels\\tsa\\base\\tsa_model.py:165: ValueWarning: No frequency information was provided, so inferred frequency 10L will be used.\n",
      "  % freq, ValueWarning)\n",
      "C:\\Users\\t-bhchha\\AppData\\Roaming\\Python\\Python37\\site-packages\\statsmodels\\tsa\\base\\tsa_model.py:165: ValueWarning: No frequency information was provided, so inferred frequency 10L will be used.\n",
      "  % freq, ValueWarning)\n",
      "C:\\Users\\t-bhchha\\AppData\\Roaming\\Python\\Python37\\site-packages\\statsmodels\\tsa\\base\\tsa_model.py:165: ValueWarning: No frequency information was provided, so inferred frequency 10L will be used.\n",
      "  % freq, ValueWarning)\n",
      "C:\\Users\\t-bhchha\\AppData\\Roaming\\Python\\Python37\\site-packages\\statsmodels\\tsa\\base\\tsa_model.py:165: ValueWarning: No frequency information was provided, so inferred frequency 10L will be used.\n",
      "  % freq, ValueWarning)\n",
      "C:\\Users\\t-bhchha\\AppData\\Roaming\\Python\\Python37\\site-packages\\statsmodels\\tsa\\base\\tsa_model.py:165: ValueWarning: No frequency information was provided, so inferred frequency 10L will be used.\n",
      "  % freq, ValueWarning)\n"
     ]
    },
    {
     "name": "stdout",
     "output_type": "stream",
     "text": [
      "ARIMA(1, 2, 1)x(0, 0, 1, 12)12 - AIC:1019.6941697027129\n",
      "ARIMA(1, 2, 1)x(0, 1, 0, 12)12 - AIC:252.03213112974245\n",
      "ARIMA(1, 2, 1)x(0, 2, 0, 12)12 - AIC:186.85938551332194\n",
      "ARIMA(1, 2, 1)x(1, 0, 0, 12)12 - AIC:219.71851710380167"
     ]
    },
    {
     "name": "stderr",
     "output_type": "stream",
     "text": [
      "C:\\Users\\t-bhchha\\AppData\\Roaming\\Python\\Python37\\site-packages\\statsmodels\\tsa\\base\\tsa_model.py:165: ValueWarning: No frequency information was provided, so inferred frequency 10L will be used.\n",
      "  % freq, ValueWarning)\n",
      "C:\\Users\\t-bhchha\\AppData\\Roaming\\Python\\Python37\\site-packages\\statsmodels\\base\\model.py:512: ConvergenceWarning: Maximum Likelihood optimization failed to converge. Check mle_retvals\n",
      "  \"Check mle_retvals\", ConvergenceWarning)\n",
      "C:\\Users\\t-bhchha\\AppData\\Roaming\\Python\\Python37\\site-packages\\statsmodels\\tsa\\base\\tsa_model.py:165: ValueWarning: No frequency information was provided, so inferred frequency 10L will be used.\n",
      "  % freq, ValueWarning)\n",
      "C:\\Users\\t-bhchha\\AppData\\Roaming\\Python\\Python37\\site-packages\\statsmodels\\tsa\\base\\tsa_model.py:165: ValueWarning: No frequency information was provided, so inferred frequency 10L will be used.\n",
      "  % freq, ValueWarning)\n",
      "C:\\Users\\t-bhchha\\AppData\\Roaming\\Python\\Python37\\site-packages\\statsmodels\\tsa\\base\\tsa_model.py:165: ValueWarning: No frequency information was provided, so inferred frequency 10L will be used.\n",
      "  % freq, ValueWarning)\n",
      "C:\\Users\\t-bhchha\\AppData\\Roaming\\Python\\Python37\\site-packages\\statsmodels\\tsa\\base\\tsa_model.py:165: ValueWarning: No frequency information was provided, so inferred frequency 10L will be used.\n",
      "  % freq, ValueWarning)\n",
      "C:\\Users\\t-bhchha\\AppData\\Roaming\\Python\\Python37\\site-packages\\statsmodels\\tsa\\base\\tsa_model.py:165: ValueWarning: No frequency information was provided, so inferred frequency 10L will be used.\n",
      "  % freq, ValueWarning)\n"
     ]
    },
    {
     "name": "stdout",
     "output_type": "stream",
     "text": [
      "\n",
      "ARIMA(1, 2, 1)x(1, 0, 1, 12)12 - AIC:1033.0208425359028\n",
      "ARIMA(1, 2, 1)x(1, 1, 0, 12)12 - AIC:164.81177708673502\n",
      "ARIMA(1, 2, 1)x(1, 2, 0, 12)12 - AIC:96.511019464071\n",
      "ARIMA(1, 2, 1)x(2, 0, 0, 12)12 - AIC:143.76695735203228\n"
     ]
    },
    {
     "name": "stderr",
     "output_type": "stream",
     "text": [
      "C:\\Users\\t-bhchha\\AppData\\Roaming\\Python\\Python37\\site-packages\\statsmodels\\tsa\\base\\tsa_model.py:165: ValueWarning: No frequency information was provided, so inferred frequency 10L will be used.\n",
      "  % freq, ValueWarning)\n",
      "C:\\Users\\t-bhchha\\AppData\\Roaming\\Python\\Python37\\site-packages\\statsmodels\\tsa\\base\\tsa_model.py:165: ValueWarning: No frequency information was provided, so inferred frequency 10L will be used.\n",
      "  % freq, ValueWarning)\n",
      "C:\\Users\\t-bhchha\\AppData\\Roaming\\Python\\Python37\\site-packages\\statsmodels\\tsa\\base\\tsa_model.py:165: ValueWarning: No frequency information was provided, so inferred frequency 10L will be used.\n",
      "  % freq, ValueWarning)\n",
      "C:\\Users\\t-bhchha\\AppData\\Roaming\\Python\\Python37\\site-packages\\statsmodels\\tsa\\base\\tsa_model.py:165: ValueWarning: No frequency information was provided, so inferred frequency 10L will be used.\n",
      "  % freq, ValueWarning)\n",
      "C:\\Users\\t-bhchha\\AppData\\Roaming\\Python\\Python37\\site-packages\\statsmodels\\base\\model.py:512: ConvergenceWarning: Maximum Likelihood optimization failed to converge. Check mle_retvals\n",
      "  \"Check mle_retvals\", ConvergenceWarning)\n",
      "C:\\Users\\t-bhchha\\AppData\\Roaming\\Python\\Python37\\site-packages\\statsmodels\\tsa\\base\\tsa_model.py:165: ValueWarning: No frequency information was provided, so inferred frequency 10L will be used.\n",
      "  % freq, ValueWarning)\n",
      "C:\\Users\\t-bhchha\\AppData\\Roaming\\Python\\Python37\\site-packages\\statsmodels\\tsa\\base\\tsa_model.py:165: ValueWarning: No frequency information was provided, so inferred frequency 10L will be used.\n",
      "  % freq, ValueWarning)\n"
     ]
    },
    {
     "name": "stdout",
     "output_type": "stream",
     "text": [
      "ARIMA(1, 2, 1)x(2, 0, 1, 12)12 - AIC:951.0192147992221\n",
      "ARIMA(1, 2, 1)x(2, 1, 0, 12)12 - AIC:70.75452572083069\n",
      "ARIMA(1, 2, 2)x(0, 0, 0, 12)12 - AIC:275.4123905448875\n"
     ]
    },
    {
     "name": "stderr",
     "output_type": "stream",
     "text": [
      "C:\\Users\\t-bhchha\\AppData\\Roaming\\Python\\Python37\\site-packages\\statsmodels\\tsa\\base\\tsa_model.py:165: ValueWarning: No frequency information was provided, so inferred frequency 10L will be used.\n",
      "  % freq, ValueWarning)\n",
      "C:\\Users\\t-bhchha\\AppData\\Roaming\\Python\\Python37\\site-packages\\statsmodels\\tsa\\base\\tsa_model.py:165: ValueWarning: No frequency information was provided, so inferred frequency 10L will be used.\n",
      "  % freq, ValueWarning)\n",
      "C:\\Users\\t-bhchha\\AppData\\Roaming\\Python\\Python37\\site-packages\\statsmodels\\tsa\\base\\tsa_model.py:165: ValueWarning: No frequency information was provided, so inferred frequency 10L will be used.\n",
      "  % freq, ValueWarning)\n",
      "C:\\Users\\t-bhchha\\AppData\\Roaming\\Python\\Python37\\site-packages\\statsmodels\\tsa\\base\\tsa_model.py:165: ValueWarning: No frequency information was provided, so inferred frequency 10L will be used.\n",
      "  % freq, ValueWarning)\n",
      "C:\\Users\\t-bhchha\\AppData\\Roaming\\Python\\Python37\\site-packages\\statsmodels\\tsa\\base\\tsa_model.py:165: ValueWarning: No frequency information was provided, so inferred frequency 10L will be used.\n",
      "  % freq, ValueWarning)\n",
      "C:\\Users\\t-bhchha\\AppData\\Roaming\\Python\\Python37\\site-packages\\statsmodels\\tsa\\base\\tsa_model.py:165: ValueWarning: No frequency information was provided, so inferred frequency 10L will be used.\n",
      "  % freq, ValueWarning)\n",
      "C:\\Users\\t-bhchha\\AppData\\Roaming\\Python\\Python37\\site-packages\\statsmodels\\tsa\\base\\tsa_model.py:165: ValueWarning: No frequency information was provided, so inferred frequency 10L will be used.\n",
      "  % freq, ValueWarning)\n",
      "C:\\Users\\t-bhchha\\AppData\\Roaming\\Python\\Python37\\site-packages\\statsmodels\\base\\model.py:512: ConvergenceWarning: Maximum Likelihood optimization failed to converge. Check mle_retvals\n",
      "  \"Check mle_retvals\", ConvergenceWarning)\n",
      "C:\\Users\\t-bhchha\\AppData\\Roaming\\Python\\Python37\\site-packages\\statsmodels\\tsa\\base\\tsa_model.py:165: ValueWarning: No frequency information was provided, so inferred frequency 10L will be used.\n",
      "  % freq, ValueWarning)\n",
      "C:\\Users\\t-bhchha\\AppData\\Roaming\\Python\\Python37\\site-packages\\statsmodels\\tsa\\base\\tsa_model.py:165: ValueWarning: No frequency information was provided, so inferred frequency 10L will be used.\n",
      "  % freq, ValueWarning)\n",
      "C:\\Users\\t-bhchha\\AppData\\Roaming\\Python\\Python37\\site-packages\\statsmodels\\tsa\\base\\tsa_model.py:165: ValueWarning: No frequency information was provided, so inferred frequency 10L will be used.\n",
      "  % freq, ValueWarning)\n",
      "C:\\Users\\t-bhchha\\AppData\\Roaming\\Python\\Python37\\site-packages\\statsmodels\\tsa\\base\\tsa_model.py:165: ValueWarning: No frequency information was provided, so inferred frequency 10L will be used.\n",
      "  % freq, ValueWarning)\n",
      "C:\\Users\\t-bhchha\\AppData\\Roaming\\Python\\Python37\\site-packages\\statsmodels\\tsa\\base\\tsa_model.py:165: ValueWarning: No frequency information was provided, so inferred frequency 10L will be used.\n",
      "  % freq, ValueWarning)\n"
     ]
    },
    {
     "name": "stdout",
     "output_type": "stream",
     "text": [
      "ARIMA(1, 2, 2)x(0, 0, 1, 12)12 - AIC:907.5718311955278\n",
      "ARIMA(1, 2, 2)x(0, 1, 0, 12)12 - AIC:238.16076720832666\n",
      "ARIMA(1, 2, 2)x(0, 2, 0, 12)12 - AIC:179.45378672591116\n",
      "ARIMA(1, 2, 2)x(1, 0, 0, 12)12 - AIC:211.9418379842953\n"
     ]
    },
    {
     "name": "stderr",
     "output_type": "stream",
     "text": [
      "C:\\Users\\t-bhchha\\AppData\\Roaming\\Python\\Python37\\site-packages\\statsmodels\\tsa\\base\\tsa_model.py:165: ValueWarning: No frequency information was provided, so inferred frequency 10L will be used.\n",
      "  % freq, ValueWarning)\n",
      "C:\\Users\\t-bhchha\\AppData\\Roaming\\Python\\Python37\\site-packages\\statsmodels\\tsa\\base\\tsa_model.py:165: ValueWarning: No frequency information was provided, so inferred frequency 10L will be used.\n",
      "  % freq, ValueWarning)\n",
      "C:\\Users\\t-bhchha\\AppData\\Roaming\\Python\\Python37\\site-packages\\statsmodels\\tsa\\base\\tsa_model.py:165: ValueWarning: No frequency information was provided, so inferred frequency 10L will be used.\n",
      "  % freq, ValueWarning)\n",
      "C:\\Users\\t-bhchha\\AppData\\Roaming\\Python\\Python37\\site-packages\\statsmodels\\tsa\\base\\tsa_model.py:165: ValueWarning: No frequency information was provided, so inferred frequency 10L will be used.\n",
      "  % freq, ValueWarning)\n",
      "C:\\Users\\t-bhchha\\AppData\\Roaming\\Python\\Python37\\site-packages\\statsmodels\\base\\model.py:512: ConvergenceWarning: Maximum Likelihood optimization failed to converge. Check mle_retvals\n",
      "  \"Check mle_retvals\", ConvergenceWarning)\n",
      "C:\\Users\\t-bhchha\\AppData\\Roaming\\Python\\Python37\\site-packages\\statsmodels\\tsa\\base\\tsa_model.py:165: ValueWarning: No frequency information was provided, so inferred frequency 10L will be used.\n",
      "  % freq, ValueWarning)\n",
      "C:\\Users\\t-bhchha\\AppData\\Roaming\\Python\\Python37\\site-packages\\statsmodels\\tsa\\base\\tsa_model.py:165: ValueWarning: No frequency information was provided, so inferred frequency 10L will be used.\n",
      "  % freq, ValueWarning)\n"
     ]
    },
    {
     "name": "stdout",
     "output_type": "stream",
     "text": [
      "ARIMA(1, 2, 2)x(1, 0, 1, 12)12 - AIC:1037.361175015385\n",
      "ARIMA(1, 2, 2)x(1, 1, 0, 12)12 - AIC:161.63868826657878\n"
     ]
    },
    {
     "name": "stderr",
     "output_type": "stream",
     "text": [
      "C:\\Users\\t-bhchha\\AppData\\Roaming\\Python\\Python37\\site-packages\\statsmodels\\tsa\\base\\tsa_model.py:165: ValueWarning: No frequency information was provided, so inferred frequency 10L will be used.\n",
      "  % freq, ValueWarning)\n",
      "C:\\Users\\t-bhchha\\AppData\\Roaming\\Python\\Python37\\site-packages\\statsmodels\\tsa\\base\\tsa_model.py:165: ValueWarning: No frequency information was provided, so inferred frequency 10L will be used.\n",
      "  % freq, ValueWarning)\n",
      "C:\\Users\\t-bhchha\\AppData\\Roaming\\Python\\Python37\\site-packages\\statsmodels\\tsa\\base\\tsa_model.py:165: ValueWarning: No frequency information was provided, so inferred frequency 10L will be used.\n",
      "  % freq, ValueWarning)\n"
     ]
    },
    {
     "name": "stdout",
     "output_type": "stream",
     "text": [
      "ARIMA(1, 2, 2)x(1, 2, 0, 12)12 - AIC:97.35745354566002\n"
     ]
    },
    {
     "name": "stderr",
     "output_type": "stream",
     "text": [
      "C:\\Users\\t-bhchha\\AppData\\Roaming\\Python\\Python37\\site-packages\\statsmodels\\tsa\\base\\tsa_model.py:165: ValueWarning: No frequency information was provided, so inferred frequency 10L will be used.\n",
      "  % freq, ValueWarning)\n",
      "C:\\Users\\t-bhchha\\AppData\\Roaming\\Python\\Python37\\site-packages\\statsmodels\\tsa\\base\\tsa_model.py:165: ValueWarning: No frequency information was provided, so inferred frequency 10L will be used.\n",
      "  % freq, ValueWarning)\n",
      "C:\\Users\\t-bhchha\\AppData\\Roaming\\Python\\Python37\\site-packages\\statsmodels\\tsa\\base\\tsa_model.py:165: ValueWarning: No frequency information was provided, so inferred frequency 10L will be used.\n",
      "  % freq, ValueWarning)\n"
     ]
    },
    {
     "name": "stdout",
     "output_type": "stream",
     "text": [
      "ARIMA(1, 2, 2)x(2, 0, 0, 12)12 - AIC:139.7561613026457\n"
     ]
    },
    {
     "name": "stderr",
     "output_type": "stream",
     "text": [
      "C:\\Users\\t-bhchha\\AppData\\Roaming\\Python\\Python37\\site-packages\\statsmodels\\tsa\\base\\tsa_model.py:165: ValueWarning: No frequency information was provided, so inferred frequency 10L will be used.\n",
      "  % freq, ValueWarning)\n"
     ]
    },
    {
     "name": "stdout",
     "output_type": "stream",
     "text": [
      "ARIMA(1, 2, 2)x(2, 0, 1, 12)12 - AIC:892.1983289588526\n"
     ]
    },
    {
     "name": "stderr",
     "output_type": "stream",
     "text": [
      "C:\\Users\\t-bhchha\\AppData\\Roaming\\Python\\Python37\\site-packages\\statsmodels\\tsa\\base\\tsa_model.py:165: ValueWarning: No frequency information was provided, so inferred frequency 10L will be used.\n",
      "  % freq, ValueWarning)\n",
      "C:\\Users\\t-bhchha\\AppData\\Roaming\\Python\\Python37\\site-packages\\statsmodels\\tsa\\base\\tsa_model.py:165: ValueWarning: No frequency information was provided, so inferred frequency 10L will be used.\n",
      "  % freq, ValueWarning)\n"
     ]
    },
    {
     "name": "stdout",
     "output_type": "stream",
     "text": [
      "ARIMA(1, 2, 2)x(2, 1, 0, 12)12 - AIC:70.2380243581984\n",
      "ARIMA(2, 0, 0)x(0, 0, 0, 12)12 - AIC:305.44349775118724\n"
     ]
    },
    {
     "name": "stderr",
     "output_type": "stream",
     "text": [
      "C:\\Users\\t-bhchha\\AppData\\Roaming\\Python\\Python37\\site-packages\\statsmodels\\tsa\\base\\tsa_model.py:165: ValueWarning: No frequency information was provided, so inferred frequency 10L will be used.\n",
      "  % freq, ValueWarning)\n",
      "C:\\Users\\t-bhchha\\AppData\\Roaming\\Python\\Python37\\site-packages\\statsmodels\\tsa\\base\\tsa_model.py:165: ValueWarning: No frequency information was provided, so inferred frequency 10L will be used.\n",
      "  % freq, ValueWarning)\n",
      "C:\\Users\\t-bhchha\\AppData\\Roaming\\Python\\Python37\\site-packages\\statsmodels\\tsa\\base\\tsa_model.py:165: ValueWarning: No frequency information was provided, so inferred frequency 10L will be used.\n",
      "  % freq, ValueWarning)\n",
      "C:\\Users\\t-bhchha\\AppData\\Roaming\\Python\\Python37\\site-packages\\statsmodels\\tsa\\base\\tsa_model.py:165: ValueWarning: No frequency information was provided, so inferred frequency 10L will be used.\n",
      "  % freq, ValueWarning)\n",
      "C:\\Users\\t-bhchha\\AppData\\Roaming\\Python\\Python37\\site-packages\\statsmodels\\tsa\\base\\tsa_model.py:165: ValueWarning: No frequency information was provided, so inferred frequency 10L will be used.\n",
      "  % freq, ValueWarning)\n",
      "C:\\Users\\t-bhchha\\AppData\\Roaming\\Python\\Python37\\site-packages\\statsmodels\\tsa\\base\\tsa_model.py:165: ValueWarning: No frequency information was provided, so inferred frequency 10L will be used.\n",
      "  % freq, ValueWarning)\n",
      "C:\\Users\\t-bhchha\\AppData\\Roaming\\Python\\Python37\\site-packages\\statsmodels\\tsa\\base\\tsa_model.py:165: ValueWarning: No frequency information was provided, so inferred frequency 10L will be used.\n",
      "  % freq, ValueWarning)\n",
      "C:\\Users\\t-bhchha\\AppData\\Roaming\\Python\\Python37\\site-packages\\statsmodels\\base\\model.py:512: ConvergenceWarning: Maximum Likelihood optimization failed to converge. Check mle_retvals\n",
      "  \"Check mle_retvals\", ConvergenceWarning)\n"
     ]
    },
    {
     "name": "stdout",
     "output_type": "stream",
     "text": [
      "ARIMA(2, 0, 0)x(0, 0, 1, 12)12 - AIC:232.5106117484913\n",
      "ARIMA(2, 0, 0)x(0, 1, 0, 12)12 - AIC:247.66929185566806\n"
     ]
    },
    {
     "name": "stderr",
     "output_type": "stream",
     "text": [
      "C:\\Users\\t-bhchha\\AppData\\Roaming\\Python\\Python37\\site-packages\\statsmodels\\tsa\\base\\tsa_model.py:165: ValueWarning: No frequency information was provided, so inferred frequency 10L will be used.\n",
      "  % freq, ValueWarning)\n",
      "C:\\Users\\t-bhchha\\AppData\\Roaming\\Python\\Python37\\site-packages\\statsmodels\\tsa\\base\\tsa_model.py:165: ValueWarning: No frequency information was provided, so inferred frequency 10L will be used.\n",
      "  % freq, ValueWarning)\n",
      "C:\\Users\\t-bhchha\\AppData\\Roaming\\Python\\Python37\\site-packages\\statsmodels\\tsa\\base\\tsa_model.py:165: ValueWarning: No frequency information was provided, so inferred frequency 10L will be used.\n",
      "  % freq, ValueWarning)\n",
      "C:\\Users\\t-bhchha\\AppData\\Roaming\\Python\\Python37\\site-packages\\statsmodels\\base\\model.py:512: ConvergenceWarning: Maximum Likelihood optimization failed to converge. Check mle_retvals\n",
      "  \"Check mle_retvals\", ConvergenceWarning)\n",
      "C:\\Users\\t-bhchha\\AppData\\Roaming\\Python\\Python37\\site-packages\\statsmodels\\tsa\\base\\tsa_model.py:165: ValueWarning: No frequency information was provided, so inferred frequency 10L will be used.\n",
      "  % freq, ValueWarning)\n",
      "C:\\Users\\t-bhchha\\AppData\\Roaming\\Python\\Python37\\site-packages\\statsmodels\\tsa\\base\\tsa_model.py:165: ValueWarning: No frequency information was provided, so inferred frequency 10L will be used.\n",
      "  % freq, ValueWarning)\n",
      "C:\\Users\\t-bhchha\\AppData\\Roaming\\Python\\Python37\\site-packages\\statsmodels\\tsa\\base\\tsa_model.py:165: ValueWarning: No frequency information was provided, so inferred frequency 10L will be used.\n",
      "  % freq, ValueWarning)\n",
      "C:\\Users\\t-bhchha\\AppData\\Roaming\\Python\\Python37\\site-packages\\statsmodels\\tsa\\base\\tsa_model.py:165: ValueWarning: No frequency information was provided, so inferred frequency 10L will be used.\n",
      "  % freq, ValueWarning)\n",
      "C:\\Users\\t-bhchha\\AppData\\Roaming\\Python\\Python37\\site-packages\\statsmodels\\tsa\\base\\tsa_model.py:165: ValueWarning: No frequency information was provided, so inferred frequency 10L will be used.\n",
      "  % freq, ValueWarning)\n",
      "C:\\Users\\t-bhchha\\AppData\\Roaming\\Python\\Python37\\site-packages\\statsmodels\\tsa\\base\\tsa_model.py:165: ValueWarning: No frequency information was provided, so inferred frequency 10L will be used.\n",
      "  % freq, ValueWarning)\n",
      "C:\\Users\\t-bhchha\\AppData\\Roaming\\Python\\Python37\\site-packages\\statsmodels\\tsa\\base\\tsa_model.py:165: ValueWarning: No frequency information was provided, so inferred frequency 10L will be used.\n",
      "  % freq, ValueWarning)\n"
     ]
    },
    {
     "name": "stdout",
     "output_type": "stream",
     "text": [
      "ARIMA(2, 0, 0)x(0, 1, 1, 12)12 - AIC:1129.845709197928\n",
      "ARIMA(2, 0, 0)x(0, 2, 0, 12)12 - AIC:192.8104729662919\n",
      "ARIMA(2, 0, 0)x(1, 0, 0, 12)12 - AIC:220.88488654545873\n",
      "ARIMA(2, 0, 0)x(1, 0, 1, 12)12 - AIC:232.54328829946405\n"
     ]
    },
    {
     "name": "stderr",
     "output_type": "stream",
     "text": [
      "C:\\Users\\t-bhchha\\AppData\\Roaming\\Python\\Python37\\site-packages\\statsmodels\\tsa\\base\\tsa_model.py:165: ValueWarning: No frequency information was provided, so inferred frequency 10L will be used.\n",
      "  % freq, ValueWarning)\n",
      "C:\\Users\\t-bhchha\\AppData\\Roaming\\Python\\Python37\\site-packages\\statsmodels\\tsa\\base\\tsa_model.py:165: ValueWarning: No frequency information was provided, so inferred frequency 10L will be used.\n",
      "  % freq, ValueWarning)\n"
     ]
    },
    {
     "name": "stdout",
     "output_type": "stream",
     "text": [
      "ARIMA(2, 0, 0)x(1, 1, 0, 12)12 - AIC:154.42370732047237\n"
     ]
    },
    {
     "name": "stderr",
     "output_type": "stream",
     "text": [
      "C:\\Users\\t-bhchha\\AppData\\Roaming\\Python\\Python37\\site-packages\\statsmodels\\base\\model.py:512: ConvergenceWarning: Maximum Likelihood optimization failed to converge. Check mle_retvals\n",
      "  \"Check mle_retvals\", ConvergenceWarning)\n",
      "C:\\Users\\t-bhchha\\AppData\\Roaming\\Python\\Python37\\site-packages\\statsmodels\\tsa\\base\\tsa_model.py:165: ValueWarning: No frequency information was provided, so inferred frequency 10L will be used.\n",
      "  % freq, ValueWarning)\n",
      "C:\\Users\\t-bhchha\\AppData\\Roaming\\Python\\Python37\\site-packages\\statsmodels\\tsa\\base\\tsa_model.py:165: ValueWarning: No frequency information was provided, so inferred frequency 10L will be used.\n",
      "  % freq, ValueWarning)\n"
     ]
    },
    {
     "name": "stdout",
     "output_type": "stream",
     "text": [
      "ARIMA(2, 0, 0)x(1, 1, 1, 12)12 - AIC:991.5050928986323\n",
      "ARIMA(2, 0, 0)x(1, 2, 0, 12)12 - AIC:87.0681785933938\n",
      "ARIMA(2, 0, 0)x(2, 0, 0, 12)12 - AIC:145.20691000399978\n"
     ]
    },
    {
     "name": "stderr",
     "output_type": "stream",
     "text": [
      "C:\\Users\\t-bhchha\\AppData\\Roaming\\Python\\Python37\\site-packages\\statsmodels\\tsa\\base\\tsa_model.py:165: ValueWarning: No frequency information was provided, so inferred frequency 10L will be used.\n",
      "  % freq, ValueWarning)\n",
      "C:\\Users\\t-bhchha\\AppData\\Roaming\\Python\\Python37\\site-packages\\statsmodels\\tsa\\base\\tsa_model.py:165: ValueWarning: No frequency information was provided, so inferred frequency 10L will be used.\n",
      "  % freq, ValueWarning)\n",
      "C:\\Users\\t-bhchha\\AppData\\Roaming\\Python\\Python37\\site-packages\\statsmodels\\tsa\\base\\tsa_model.py:165: ValueWarning: No frequency information was provided, so inferred frequency 10L will be used.\n",
      "  % freq, ValueWarning)\n",
      "C:\\Users\\t-bhchha\\AppData\\Roaming\\Python\\Python37\\site-packages\\statsmodels\\tsa\\base\\tsa_model.py:165: ValueWarning: No frequency information was provided, so inferred frequency 10L will be used.\n",
      "  % freq, ValueWarning)\n"
     ]
    },
    {
     "name": "stdout",
     "output_type": "stream",
     "text": [
      "ARIMA(2, 0, 0)x(2, 0, 1, 12)12 - AIC:146.6699804368179\n"
     ]
    },
    {
     "name": "stderr",
     "output_type": "stream",
     "text": [
      "C:\\Users\\t-bhchha\\AppData\\Roaming\\Python\\Python37\\site-packages\\statsmodels\\tsa\\base\\tsa_model.py:165: ValueWarning: No frequency information was provided, so inferred frequency 10L will be used.\n",
      "  % freq, ValueWarning)\n",
      "C:\\Users\\t-bhchha\\AppData\\Roaming\\Python\\Python37\\site-packages\\statsmodels\\tsa\\base\\tsa_model.py:165: ValueWarning: No frequency information was provided, so inferred frequency 10L will be used.\n",
      "  % freq, ValueWarning)\n"
     ]
    },
    {
     "name": "stdout",
     "output_type": "stream",
     "text": [
      "ARIMA(2, 0, 0)x(2, 1, 0, 12)12 - AIC:71.1264908997122\n"
     ]
    },
    {
     "name": "stderr",
     "output_type": "stream",
     "text": [
      "C:\\Users\\t-bhchha\\AppData\\Roaming\\Python\\Python37\\site-packages\\statsmodels\\tsa\\base\\tsa_model.py:165: ValueWarning: No frequency information was provided, so inferred frequency 10L will be used.\n",
      "  % freq, ValueWarning)\n"
     ]
    },
    {
     "name": "stdout",
     "output_type": "stream",
     "text": [
      "ARIMA(2, 0, 0)x(2, 1, 1, 12)12 - AIC:70.80893059637188\n",
      "ARIMA(2, 0, 0)x(2, 2, 0, 12)12 - AIC:10.0\n",
      "ARIMA(2, 0, 1)x(0, 0, 0, 12)12 - AIC:289.1139298358894\n"
     ]
    },
    {
     "name": "stderr",
     "output_type": "stream",
     "text": [
      "C:\\Users\\t-bhchha\\AppData\\Roaming\\Python\\Python37\\site-packages\\statsmodels\\tsa\\base\\tsa_model.py:165: ValueWarning: No frequency information was provided, so inferred frequency 10L will be used.\n",
      "  % freq, ValueWarning)\n",
      "C:\\Users\\t-bhchha\\AppData\\Roaming\\Python\\Python37\\site-packages\\statsmodels\\tsa\\base\\tsa_model.py:165: ValueWarning: No frequency information was provided, so inferred frequency 10L will be used.\n",
      "  % freq, ValueWarning)\n",
      "C:\\Users\\t-bhchha\\AppData\\Roaming\\Python\\Python37\\site-packages\\statsmodels\\tsa\\base\\tsa_model.py:165: ValueWarning: No frequency information was provided, so inferred frequency 10L will be used.\n",
      "  % freq, ValueWarning)\n",
      "C:\\Users\\t-bhchha\\AppData\\Roaming\\Python\\Python37\\site-packages\\statsmodels\\tsa\\base\\tsa_model.py:165: ValueWarning: No frequency information was provided, so inferred frequency 10L will be used.\n",
      "  % freq, ValueWarning)\n",
      "C:\\Users\\t-bhchha\\AppData\\Roaming\\Python\\Python37\\site-packages\\statsmodels\\tsa\\base\\tsa_model.py:165: ValueWarning: No frequency information was provided, so inferred frequency 10L will be used.\n",
      "  % freq, ValueWarning)\n",
      "C:\\Users\\t-bhchha\\AppData\\Roaming\\Python\\Python37\\site-packages\\statsmodels\\tsa\\base\\tsa_model.py:165: ValueWarning: No frequency information was provided, so inferred frequency 10L will be used.\n",
      "  % freq, ValueWarning)\n",
      "C:\\Users\\t-bhchha\\AppData\\Roaming\\Python\\Python37\\site-packages\\statsmodels\\base\\model.py:512: ConvergenceWarning: Maximum Likelihood optimization failed to converge. Check mle_retvals\n",
      "  \"Check mle_retvals\", ConvergenceWarning)\n",
      "C:\\Users\\t-bhchha\\AppData\\Roaming\\Python\\Python37\\site-packages\\statsmodels\\tsa\\base\\tsa_model.py:165: ValueWarning: No frequency information was provided, so inferred frequency 10L will be used.\n",
      "  % freq, ValueWarning)\n",
      "C:\\Users\\t-bhchha\\AppData\\Roaming\\Python\\Python37\\site-packages\\statsmodels\\tsa\\base\\tsa_model.py:165: ValueWarning: No frequency information was provided, so inferred frequency 10L will be used.\n",
      "  % freq, ValueWarning)\n",
      "C:\\Users\\t-bhchha\\AppData\\Roaming\\Python\\Python37\\site-packages\\statsmodels\\tsa\\base\\tsa_model.py:165: ValueWarning: No frequency information was provided, so inferred frequency 10L will be used.\n",
      "  % freq, ValueWarning)\n"
     ]
    },
    {
     "name": "stdout",
     "output_type": "stream",
     "text": [
      "ARIMA(2, 0, 1)x(0, 0, 1, 12)12 - AIC:226.24080879614831\n",
      "ARIMA(2, 0, 1)x(0, 1, 0, 12)12 - AIC:244.92148084901052\n"
     ]
    },
    {
     "name": "stderr",
     "output_type": "stream",
     "text": [
      "C:\\Users\\t-bhchha\\AppData\\Roaming\\Python\\Python37\\site-packages\\statsmodels\\base\\model.py:512: ConvergenceWarning: Maximum Likelihood optimization failed to converge. Check mle_retvals\n",
      "  \"Check mle_retvals\", ConvergenceWarning)\n",
      "C:\\Users\\t-bhchha\\AppData\\Roaming\\Python\\Python37\\site-packages\\statsmodels\\tsa\\base\\tsa_model.py:165: ValueWarning: No frequency information was provided, so inferred frequency 10L will be used.\n",
      "  % freq, ValueWarning)\n",
      "C:\\Users\\t-bhchha\\AppData\\Roaming\\Python\\Python37\\site-packages\\statsmodels\\tsa\\base\\tsa_model.py:165: ValueWarning: No frequency information was provided, so inferred frequency 10L will be used.\n",
      "  % freq, ValueWarning)\n"
     ]
    },
    {
     "name": "stdout",
     "output_type": "stream",
     "text": [
      "ARIMA(2, 0, 1)x(0, 1, 1, 12)12 - AIC:1102.4926396644482\n",
      "ARIMA(2, 0, 1)x(0, 2, 0, 12)12 - AIC:194.7045012250806\n",
      "ARIMA(2, 0, 1)x(1, 0, 0, 12)12 - AIC:211.31593181958345\n"
     ]
    },
    {
     "name": "stderr",
     "output_type": "stream",
     "text": [
      "C:\\Users\\t-bhchha\\AppData\\Roaming\\Python\\Python37\\site-packages\\statsmodels\\tsa\\base\\tsa_model.py:165: ValueWarning: No frequency information was provided, so inferred frequency 10L will be used.\n",
      "  % freq, ValueWarning)\n",
      "C:\\Users\\t-bhchha\\AppData\\Roaming\\Python\\Python37\\site-packages\\statsmodels\\tsa\\base\\tsa_model.py:165: ValueWarning: No frequency information was provided, so inferred frequency 10L will be used.\n",
      "  % freq, ValueWarning)\n",
      "C:\\Users\\t-bhchha\\AppData\\Roaming\\Python\\Python37\\site-packages\\statsmodels\\tsa\\base\\tsa_model.py:165: ValueWarning: No frequency information was provided, so inferred frequency 10L will be used.\n",
      "  % freq, ValueWarning)\n",
      "C:\\Users\\t-bhchha\\AppData\\Roaming\\Python\\Python37\\site-packages\\statsmodels\\tsa\\base\\tsa_model.py:165: ValueWarning: No frequency information was provided, so inferred frequency 10L will be used.\n",
      "  % freq, ValueWarning)\n",
      "C:\\Users\\t-bhchha\\AppData\\Roaming\\Python\\Python37\\site-packages\\statsmodels\\base\\model.py:512: ConvergenceWarning: Maximum Likelihood optimization failed to converge. Check mle_retvals\n",
      "  \"Check mle_retvals\", ConvergenceWarning)\n",
      "C:\\Users\\t-bhchha\\AppData\\Roaming\\Python\\Python37\\site-packages\\statsmodels\\tsa\\base\\tsa_model.py:165: ValueWarning: No frequency information was provided, so inferred frequency 10L will be used.\n",
      "  % freq, ValueWarning)\n",
      "C:\\Users\\t-bhchha\\AppData\\Roaming\\Python\\Python37\\site-packages\\statsmodels\\tsa\\base\\tsa_model.py:165: ValueWarning: No frequency information was provided, so inferred frequency 10L will be used.\n",
      "  % freq, ValueWarning)\n",
      "C:\\Users\\t-bhchha\\AppData\\Roaming\\Python\\Python37\\site-packages\\statsmodels\\tsa\\base\\tsa_model.py:165: ValueWarning: No frequency information was provided, so inferred frequency 10L will be used.\n",
      "  % freq, ValueWarning)\n"
     ]
    },
    {
     "name": "stdout",
     "output_type": "stream",
     "text": [
      "ARIMA(2, 0, 1)x(1, 0, 1, 12)12 - AIC:214.3000621328946\n",
      "ARIMA(2, 0, 1)x(1, 1, 0, 12)12 - AIC:156.37225284656463\n"
     ]
    },
    {
     "name": "stderr",
     "output_type": "stream",
     "text": [
      "C:\\Users\\t-bhchha\\AppData\\Roaming\\Python\\Python37\\site-packages\\statsmodels\\base\\model.py:512: ConvergenceWarning: Maximum Likelihood optimization failed to converge. Check mle_retvals\n",
      "  \"Check mle_retvals\", ConvergenceWarning)\n",
      "C:\\Users\\t-bhchha\\AppData\\Roaming\\Python\\Python37\\site-packages\\statsmodels\\tsa\\base\\tsa_model.py:165: ValueWarning: No frequency information was provided, so inferred frequency 10L will be used.\n",
      "  % freq, ValueWarning)\n",
      "C:\\Users\\t-bhchha\\AppData\\Roaming\\Python\\Python37\\site-packages\\statsmodels\\tsa\\base\\tsa_model.py:165: ValueWarning: No frequency information was provided, so inferred frequency 10L will be used.\n",
      "  % freq, ValueWarning)\n"
     ]
    },
    {
     "name": "stdout",
     "output_type": "stream",
     "text": [
      "ARIMA(2, 0, 1)x(1, 1, 1, 12)12 - AIC:1000.5417640753958\n",
      "ARIMA(2, 0, 1)x(1, 2, 0, 12)12 - AIC:88.83323441929225\n"
     ]
    },
    {
     "name": "stderr",
     "output_type": "stream",
     "text": [
      "C:\\Users\\t-bhchha\\AppData\\Roaming\\Python\\Python37\\site-packages\\statsmodels\\tsa\\base\\tsa_model.py:165: ValueWarning: No frequency information was provided, so inferred frequency 10L will be used.\n",
      "  % freq, ValueWarning)\n",
      "C:\\Users\\t-bhchha\\AppData\\Roaming\\Python\\Python37\\site-packages\\statsmodels\\tsa\\base\\tsa_model.py:165: ValueWarning: No frequency information was provided, so inferred frequency 10L will be used.\n",
      "  % freq, ValueWarning)\n",
      "C:\\Users\\t-bhchha\\AppData\\Roaming\\Python\\Python37\\site-packages\\statsmodels\\tsa\\base\\tsa_model.py:165: ValueWarning: No frequency information was provided, so inferred frequency 10L will be used.\n",
      "  % freq, ValueWarning)\n"
     ]
    },
    {
     "name": "stdout",
     "output_type": "stream",
     "text": [
      "ARIMA(2, 0, 1)x(2, 0, 0, 12)12 - AIC:138.15020887720456\n"
     ]
    },
    {
     "name": "stderr",
     "output_type": "stream",
     "text": [
      "C:\\Users\\t-bhchha\\AppData\\Roaming\\Python\\Python37\\site-packages\\statsmodels\\tsa\\base\\tsa_model.py:165: ValueWarning: No frequency information was provided, so inferred frequency 10L will be used.\n",
      "  % freq, ValueWarning)\n",
      "C:\\Users\\t-bhchha\\AppData\\Roaming\\Python\\Python37\\site-packages\\statsmodels\\base\\model.py:512: ConvergenceWarning: Maximum Likelihood optimization failed to converge. Check mle_retvals\n",
      "  \"Check mle_retvals\", ConvergenceWarning)\n",
      "C:\\Users\\t-bhchha\\AppData\\Roaming\\Python\\Python37\\site-packages\\statsmodels\\tsa\\base\\tsa_model.py:165: ValueWarning: No frequency information was provided, so inferred frequency 10L will be used.\n",
      "  % freq, ValueWarning)\n",
      "C:\\Users\\t-bhchha\\AppData\\Roaming\\Python\\Python37\\site-packages\\statsmodels\\tsa\\base\\tsa_model.py:165: ValueWarning: No frequency information was provided, so inferred frequency 10L will be used.\n",
      "  % freq, ValueWarning)\n"
     ]
    },
    {
     "name": "stdout",
     "output_type": "stream",
     "text": [
      "ARIMA(2, 0, 1)x(2, 0, 1, 12)12 - AIC:139.4344543295581\n",
      "ARIMA(2, 0, 1)x(2, 1, 0, 12)12 - AIC:73.02528736234976\n"
     ]
    },
    {
     "name": "stderr",
     "output_type": "stream",
     "text": [
      "C:\\Users\\t-bhchha\\AppData\\Roaming\\Python\\Python37\\site-packages\\statsmodels\\tsa\\base\\tsa_model.py:165: ValueWarning: No frequency information was provided, so inferred frequency 10L will be used.\n",
      "  % freq, ValueWarning)\n"
     ]
    },
    {
     "name": "stdout",
     "output_type": "stream",
     "text": [
      "ARIMA(2, 0, 1)x(2, 1, 1, 12)12 - AIC:69.74620631664857\n",
      "ARIMA(2, 0, 1)x(2, 2, 0, 12)12 - AIC:12.0\n"
     ]
    },
    {
     "name": "stderr",
     "output_type": "stream",
     "text": [
      "C:\\Users\\t-bhchha\\AppData\\Roaming\\Python\\Python37\\site-packages\\statsmodels\\tsa\\base\\tsa_model.py:165: ValueWarning: No frequency information was provided, so inferred frequency 10L will be used.\n",
      "  % freq, ValueWarning)\n",
      "C:\\Users\\t-bhchha\\AppData\\Roaming\\Python\\Python37\\site-packages\\statsmodels\\tsa\\base\\tsa_model.py:165: ValueWarning: No frequency information was provided, so inferred frequency 10L will be used.\n",
      "  % freq, ValueWarning)\n",
      "C:\\Users\\t-bhchha\\AppData\\Roaming\\Python\\Python37\\site-packages\\statsmodels\\tsa\\base\\tsa_model.py:165: ValueWarning: No frequency information was provided, so inferred frequency 10L will be used.\n",
      "  % freq, ValueWarning)\n",
      "C:\\Users\\t-bhchha\\AppData\\Roaming\\Python\\Python37\\site-packages\\statsmodels\\tsa\\base\\tsa_model.py:165: ValueWarning: No frequency information was provided, so inferred frequency 10L will be used.\n",
      "  % freq, ValueWarning)\n",
      "C:\\Users\\t-bhchha\\AppData\\Roaming\\Python\\Python37\\site-packages\\statsmodels\\tsa\\base\\tsa_model.py:165: ValueWarning: No frequency information was provided, so inferred frequency 10L will be used.\n",
      "  % freq, ValueWarning)\n"
     ]
    },
    {
     "name": "stdout",
     "output_type": "stream",
     "text": [
      "ARIMA(2, 0, 2)x(0, 0, 0, 12)12 - AIC:281.46522274228545\n"
     ]
    },
    {
     "name": "stderr",
     "output_type": "stream",
     "text": [
      "C:\\Users\\t-bhchha\\AppData\\Roaming\\Python\\Python37\\site-packages\\statsmodels\\tsa\\base\\tsa_model.py:165: ValueWarning: No frequency information was provided, so inferred frequency 10L will be used.\n",
      "  % freq, ValueWarning)\n",
      "C:\\Users\\t-bhchha\\AppData\\Roaming\\Python\\Python37\\site-packages\\statsmodels\\base\\model.py:512: ConvergenceWarning: Maximum Likelihood optimization failed to converge. Check mle_retvals\n",
      "  \"Check mle_retvals\", ConvergenceWarning)\n",
      "C:\\Users\\t-bhchha\\AppData\\Roaming\\Python\\Python37\\site-packages\\statsmodels\\tsa\\base\\tsa_model.py:165: ValueWarning: No frequency information was provided, so inferred frequency 10L will be used.\n",
      "  % freq, ValueWarning)\n",
      "C:\\Users\\t-bhchha\\AppData\\Roaming\\Python\\Python37\\site-packages\\statsmodels\\tsa\\base\\tsa_model.py:165: ValueWarning: No frequency information was provided, so inferred frequency 10L will be used.\n",
      "  % freq, ValueWarning)\n",
      "C:\\Users\\t-bhchha\\AppData\\Roaming\\Python\\Python37\\site-packages\\statsmodels\\tsa\\base\\tsa_model.py:165: ValueWarning: No frequency information was provided, so inferred frequency 10L will be used.\n",
      "  % freq, ValueWarning)\n"
     ]
    },
    {
     "name": "stdout",
     "output_type": "stream",
     "text": [
      "ARIMA(2, 0, 2)x(0, 0, 1, 12)12 - AIC:223.18405498283474\n",
      "ARIMA(2, 0, 2)x(0, 1, 0, 12)12 - AIC:236.27286020593968\n"
     ]
    },
    {
     "name": "stderr",
     "output_type": "stream",
     "text": [
      "C:\\Users\\t-bhchha\\AppData\\Roaming\\Python\\Python37\\site-packages\\statsmodels\\base\\model.py:512: ConvergenceWarning: Maximum Likelihood optimization failed to converge. Check mle_retvals\n",
      "  \"Check mle_retvals\", ConvergenceWarning)\n",
      "C:\\Users\\t-bhchha\\AppData\\Roaming\\Python\\Python37\\site-packages\\statsmodels\\tsa\\base\\tsa_model.py:165: ValueWarning: No frequency information was provided, so inferred frequency 10L will be used.\n",
      "  % freq, ValueWarning)\n",
      "C:\\Users\\t-bhchha\\AppData\\Roaming\\Python\\Python37\\site-packages\\statsmodels\\tsa\\base\\tsa_model.py:165: ValueWarning: No frequency information was provided, so inferred frequency 10L will be used.\n",
      "  % freq, ValueWarning)\n"
     ]
    },
    {
     "name": "stdout",
     "output_type": "stream",
     "text": [
      "ARIMA(2, 0, 2)x(0, 1, 1, 12)12 - AIC:1034.5307015732087\n",
      "ARIMA(2, 0, 2)x(0, 2, 0, 12)12 - AIC:180.76120275453627\n"
     ]
    },
    {
     "name": "stderr",
     "output_type": "stream",
     "text": [
      "C:\\Users\\t-bhchha\\AppData\\Roaming\\Python\\Python37\\site-packages\\statsmodels\\tsa\\base\\tsa_model.py:165: ValueWarning: No frequency information was provided, so inferred frequency 10L will be used.\n",
      "  % freq, ValueWarning)\n",
      "C:\\Users\\t-bhchha\\AppData\\Roaming\\Python\\Python37\\site-packages\\statsmodels\\tsa\\base\\tsa_model.py:165: ValueWarning: No frequency information was provided, so inferred frequency 10L will be used.\n",
      "  % freq, ValueWarning)\n",
      "C:\\Users\\t-bhchha\\AppData\\Roaming\\Python\\Python37\\site-packages\\statsmodels\\tsa\\base\\tsa_model.py:165: ValueWarning: No frequency information was provided, so inferred frequency 10L will be used.\n",
      "  % freq, ValueWarning)\n",
      "C:\\Users\\t-bhchha\\AppData\\Roaming\\Python\\Python37\\site-packages\\statsmodels\\base\\model.py:512: ConvergenceWarning: Maximum Likelihood optimization failed to converge. Check mle_retvals\n",
      "  \"Check mle_retvals\", ConvergenceWarning)\n",
      "C:\\Users\\t-bhchha\\AppData\\Roaming\\Python\\Python37\\site-packages\\statsmodels\\tsa\\base\\tsa_model.py:165: ValueWarning: No frequency information was provided, so inferred frequency 10L will be used.\n",
      "  % freq, ValueWarning)\n"
     ]
    },
    {
     "name": "stdout",
     "output_type": "stream",
     "text": [
      "ARIMA(2, 0, 2)x(1, 0, 0, 12)12 - AIC:211.4640158007646\n",
      "ARIMA(2, 0, 2)x(1, 0, 1, 12)12 - AIC:223.96006991127098\n"
     ]
    },
    {
     "name": "stderr",
     "output_type": "stream",
     "text": [
      "C:\\Users\\t-bhchha\\AppData\\Roaming\\Python\\Python37\\site-packages\\statsmodels\\tsa\\base\\tsa_model.py:165: ValueWarning: No frequency information was provided, so inferred frequency 10L will be used.\n",
      "  % freq, ValueWarning)\n",
      "C:\\Users\\t-bhchha\\AppData\\Roaming\\Python\\Python37\\site-packages\\statsmodels\\tsa\\base\\tsa_model.py:165: ValueWarning: No frequency information was provided, so inferred frequency 10L will be used.\n",
      "  % freq, ValueWarning)\n"
     ]
    },
    {
     "name": "stdout",
     "output_type": "stream",
     "text": [
      "ARIMA(2, 0, 2)x(1, 1, 0, 12)12 - AIC:151.79311644338273\n"
     ]
    },
    {
     "name": "stderr",
     "output_type": "stream",
     "text": [
      "C:\\Users\\t-bhchha\\AppData\\Roaming\\Python\\Python37\\site-packages\\statsmodels\\tsa\\base\\tsa_model.py:165: ValueWarning: No frequency information was provided, so inferred frequency 10L will be used.\n",
      "  % freq, ValueWarning)\n",
      "C:\\Users\\t-bhchha\\AppData\\Roaming\\Python\\Python37\\site-packages\\statsmodels\\base\\model.py:512: ConvergenceWarning: Maximum Likelihood optimization failed to converge. Check mle_retvals\n",
      "  \"Check mle_retvals\", ConvergenceWarning)\n",
      "C:\\Users\\t-bhchha\\AppData\\Roaming\\Python\\Python37\\site-packages\\statsmodels\\tsa\\base\\tsa_model.py:165: ValueWarning: No frequency information was provided, so inferred frequency 10L will be used.\n",
      "  % freq, ValueWarning)\n",
      "C:\\Users\\t-bhchha\\AppData\\Roaming\\Python\\Python37\\site-packages\\statsmodels\\tsa\\base\\tsa_model.py:165: ValueWarning: No frequency information was provided, so inferred frequency 10L will be used.\n",
      "  % freq, ValueWarning)\n"
     ]
    },
    {
     "name": "stdout",
     "output_type": "stream",
     "text": [
      "ARIMA(2, 0, 2)x(1, 1, 1, 12)12 - AIC:936.9043660568789\n",
      "ARIMA(2, 0, 2)x(1, 2, 0, 12)12 - AIC:87.70314302714733\n"
     ]
    },
    {
     "name": "stderr",
     "output_type": "stream",
     "text": [
      "C:\\Users\\t-bhchha\\AppData\\Roaming\\Python\\Python37\\site-packages\\statsmodels\\tsa\\base\\tsa_model.py:165: ValueWarning: No frequency information was provided, so inferred frequency 10L will be used.\n",
      "  % freq, ValueWarning)\n",
      "C:\\Users\\t-bhchha\\AppData\\Roaming\\Python\\Python37\\site-packages\\statsmodels\\tsa\\base\\tsa_model.py:165: ValueWarning: No frequency information was provided, so inferred frequency 10L will be used.\n",
      "  % freq, ValueWarning)\n",
      "C:\\Users\\t-bhchha\\AppData\\Roaming\\Python\\Python37\\site-packages\\statsmodels\\tsa\\base\\tsa_model.py:165: ValueWarning: No frequency information was provided, so inferred frequency 10L will be used.\n",
      "  % freq, ValueWarning)\n",
      "C:\\Users\\t-bhchha\\AppData\\Roaming\\Python\\Python37\\site-packages\\statsmodels\\base\\model.py:512: ConvergenceWarning: Maximum Likelihood optimization failed to converge. Check mle_retvals\n",
      "  \"Check mle_retvals\", ConvergenceWarning)\n",
      "C:\\Users\\t-bhchha\\AppData\\Roaming\\Python\\Python37\\site-packages\\statsmodels\\tsa\\base\\tsa_model.py:165: ValueWarning: No frequency information was provided, so inferred frequency 10L will be used.\n",
      "  % freq, ValueWarning)\n"
     ]
    },
    {
     "name": "stdout",
     "output_type": "stream",
     "text": [
      "ARIMA(2, 0, 2)x(2, 0, 0, 12)12 - AIC:138.5234101040912\n"
     ]
    },
    {
     "name": "stderr",
     "output_type": "stream",
     "text": [
      "C:\\Users\\t-bhchha\\AppData\\Roaming\\Python\\Python37\\site-packages\\statsmodels\\base\\model.py:512: ConvergenceWarning: Maximum Likelihood optimization failed to converge. Check mle_retvals\n",
      "  \"Check mle_retvals\", ConvergenceWarning)\n",
      "C:\\Users\\t-bhchha\\AppData\\Roaming\\Python\\Python37\\site-packages\\statsmodels\\tsa\\base\\tsa_model.py:165: ValueWarning: No frequency information was provided, so inferred frequency 10L will be used.\n",
      "  % freq, ValueWarning)\n",
      "C:\\Users\\t-bhchha\\AppData\\Roaming\\Python\\Python37\\site-packages\\statsmodels\\tsa\\base\\tsa_model.py:165: ValueWarning: No frequency information was provided, so inferred frequency 10L will be used.\n",
      "  % freq, ValueWarning)\n"
     ]
    },
    {
     "name": "stdout",
     "output_type": "stream",
     "text": [
      "ARIMA(2, 0, 2)x(2, 0, 1, 12)12 - AIC:137.12262963353635\n",
      "ARIMA(2, 0, 2)x(2, 1, 0, 12)12 - AIC:69.95630853418268\n"
     ]
    },
    {
     "name": "stderr",
     "output_type": "stream",
     "text": [
      "C:\\Users\\t-bhchha\\AppData\\Roaming\\Python\\Python37\\site-packages\\statsmodels\\tsa\\base\\tsa_model.py:165: ValueWarning: No frequency information was provided, so inferred frequency 10L will be used.\n",
      "  % freq, ValueWarning)\n",
      "C:\\Users\\t-bhchha\\AppData\\Roaming\\Python\\Python37\\site-packages\\statsmodels\\base\\model.py:512: ConvergenceWarning: Maximum Likelihood optimization failed to converge. Check mle_retvals\n",
      "  \"Check mle_retvals\", ConvergenceWarning)\n",
      "C:\\Users\\t-bhchha\\AppData\\Roaming\\Python\\Python37\\site-packages\\statsmodels\\tsa\\base\\tsa_model.py:165: ValueWarning: No frequency information was provided, so inferred frequency 10L will be used.\n",
      "  % freq, ValueWarning)\n",
      "C:\\Users\\t-bhchha\\AppData\\Roaming\\Python\\Python37\\site-packages\\statsmodels\\tsa\\base\\tsa_model.py:165: ValueWarning: No frequency information was provided, so inferred frequency 10L will be used.\n",
      "  % freq, ValueWarning)\n",
      "C:\\Users\\t-bhchha\\AppData\\Roaming\\Python\\Python37\\site-packages\\statsmodels\\tsa\\base\\tsa_model.py:165: ValueWarning: No frequency information was provided, so inferred frequency 10L will be used.\n",
      "  % freq, ValueWarning)\n",
      "C:\\Users\\t-bhchha\\AppData\\Roaming\\Python\\Python37\\site-packages\\statsmodels\\tsa\\base\\tsa_model.py:165: ValueWarning: No frequency information was provided, so inferred frequency 10L will be used.\n",
      "  % freq, ValueWarning)\n",
      "C:\\Users\\t-bhchha\\AppData\\Roaming\\Python\\Python37\\site-packages\\statsmodels\\tsa\\base\\tsa_model.py:165: ValueWarning: No frequency information was provided, so inferred frequency 10L will be used.\n",
      "  % freq, ValueWarning)\n",
      "C:\\Users\\t-bhchha\\AppData\\Roaming\\Python\\Python37\\site-packages\\statsmodels\\tsa\\base\\tsa_model.py:165: ValueWarning: No frequency information was provided, so inferred frequency 10L will be used.\n",
      "  % freq, ValueWarning)\n"
     ]
    },
    {
     "name": "stdout",
     "output_type": "stream",
     "text": [
      "ARIMA(2, 0, 2)x(2, 1, 1, 12)12 - AIC:72.08881488734268\n",
      "ARIMA(2, 0, 2)x(2, 2, 0, 12)12 - AIC:14.0\n",
      "ARIMA(2, 1, 0)x(0, 0, 0, 12)12 - AIC:287.88108813169833\n",
      "ARIMA(2, 1, 0)x(0, 0, 1, 12)12 - AIC:217.78592776512207\n",
      "ARIMA(2, 1, 0)x(0, 1, 0, 12)12 - AIC:250.8683377597777\n"
     ]
    },
    {
     "name": "stderr",
     "output_type": "stream",
     "text": [
      "C:\\Users\\t-bhchha\\AppData\\Roaming\\Python\\Python37\\site-packages\\statsmodels\\tsa\\base\\tsa_model.py:165: ValueWarning: No frequency information was provided, so inferred frequency 10L will be used.\n",
      "  % freq, ValueWarning)\n",
      "C:\\Users\\t-bhchha\\AppData\\Roaming\\Python\\Python37\\site-packages\\statsmodels\\tsa\\base\\tsa_model.py:165: ValueWarning: No frequency information was provided, so inferred frequency 10L will be used.\n",
      "  % freq, ValueWarning)\n",
      "C:\\Users\\t-bhchha\\AppData\\Roaming\\Python\\Python37\\site-packages\\statsmodels\\tsa\\base\\tsa_model.py:165: ValueWarning: No frequency information was provided, so inferred frequency 10L will be used.\n",
      "  % freq, ValueWarning)\n",
      "C:\\Users\\t-bhchha\\AppData\\Roaming\\Python\\Python37\\site-packages\\statsmodels\\base\\model.py:512: ConvergenceWarning: Maximum Likelihood optimization failed to converge. Check mle_retvals\n",
      "  \"Check mle_retvals\", ConvergenceWarning)\n",
      "C:\\Users\\t-bhchha\\AppData\\Roaming\\Python\\Python37\\site-packages\\statsmodels\\tsa\\base\\tsa_model.py:165: ValueWarning: No frequency information was provided, so inferred frequency 10L will be used.\n",
      "  % freq, ValueWarning)\n",
      "C:\\Users\\t-bhchha\\AppData\\Roaming\\Python\\Python37\\site-packages\\statsmodels\\tsa\\base\\tsa_model.py:165: ValueWarning: No frequency information was provided, so inferred frequency 10L will be used.\n",
      "  % freq, ValueWarning)\n",
      "C:\\Users\\t-bhchha\\AppData\\Roaming\\Python\\Python37\\site-packages\\statsmodels\\tsa\\base\\tsa_model.py:165: ValueWarning: No frequency information was provided, so inferred frequency 10L will be used.\n",
      "  % freq, ValueWarning)\n",
      "C:\\Users\\t-bhchha\\AppData\\Roaming\\Python\\Python37\\site-packages\\statsmodels\\tsa\\base\\tsa_model.py:165: ValueWarning: No frequency information was provided, so inferred frequency 10L will be used.\n",
      "  % freq, ValueWarning)\n",
      "C:\\Users\\t-bhchha\\AppData\\Roaming\\Python\\Python37\\site-packages\\statsmodels\\tsa\\base\\tsa_model.py:165: ValueWarning: No frequency information was provided, so inferred frequency 10L will be used.\n",
      "  % freq, ValueWarning)\n",
      "C:\\Users\\t-bhchha\\AppData\\Roaming\\Python\\Python37\\site-packages\\statsmodels\\tsa\\base\\tsa_model.py:165: ValueWarning: No frequency information was provided, so inferred frequency 10L will be used.\n",
      "  % freq, ValueWarning)\n",
      "C:\\Users\\t-bhchha\\AppData\\Roaming\\Python\\Python37\\site-packages\\statsmodels\\tsa\\base\\tsa_model.py:165: ValueWarning: No frequency information was provided, so inferred frequency 10L will be used.\n",
      "  % freq, ValueWarning)\n",
      "C:\\Users\\t-bhchha\\AppData\\Roaming\\Python\\Python37\\site-packages\\statsmodels\\tsa\\base\\tsa_model.py:165: ValueWarning: No frequency information was provided, so inferred frequency 10L will be used.\n",
      "  % freq, ValueWarning)\n",
      "C:\\Users\\t-bhchha\\AppData\\Roaming\\Python\\Python37\\site-packages\\statsmodels\\tsa\\base\\tsa_model.py:165: ValueWarning: No frequency information was provided, so inferred frequency 10L will be used.\n",
      "  % freq, ValueWarning)\n"
     ]
    },
    {
     "name": "stdout",
     "output_type": "stream",
     "text": [
      "ARIMA(2, 1, 0)x(0, 1, 1, 12)12 - AIC:1084.4294965495899\n",
      "ARIMA(2, 1, 0)x(0, 2, 0, 12)12 - AIC:188.86665920313877\n",
      "ARIMA(2, 1, 0)x(1, 0, 0, 12)12 - AIC:210.01185004601317\n",
      "ARIMA(2, 1, 0)x(1, 0, 1, 12)12 - AIC:211.92944316643278\n",
      "ARIMA(2, 1, 0)x(1, 1, 0, 12)12 - AIC:158.37413466823898\n",
      "ARIMA(2, 1, 0)x(1, 1, 1, 12)12 - AIC:154.40751301738862\n"
     ]
    },
    {
     "name": "stderr",
     "output_type": "stream",
     "text": [
      "C:\\Users\\t-bhchha\\AppData\\Roaming\\Python\\Python37\\site-packages\\statsmodels\\tsa\\base\\tsa_model.py:165: ValueWarning: No frequency information was provided, so inferred frequency 10L will be used.\n",
      "  % freq, ValueWarning)\n",
      "C:\\Users\\t-bhchha\\AppData\\Roaming\\Python\\Python37\\site-packages\\statsmodels\\tsa\\base\\tsa_model.py:165: ValueWarning: No frequency information was provided, so inferred frequency 10L will be used.\n",
      "  % freq, ValueWarning)\n"
     ]
    },
    {
     "name": "stdout",
     "output_type": "stream",
     "text": [
      "ARIMA(2, 1, 0)x(1, 2, 0, 12)12 - AIC:84.42588655845597\n",
      "ARIMA(2, 1, 0)x(2, 0, 0, 12)12 - AIC:134.17255506739912\n"
     ]
    },
    {
     "name": "stderr",
     "output_type": "stream",
     "text": [
      "C:\\Users\\t-bhchha\\AppData\\Roaming\\Python\\Python37\\site-packages\\statsmodels\\tsa\\base\\tsa_model.py:165: ValueWarning: No frequency information was provided, so inferred frequency 10L will be used.\n",
      "  % freq, ValueWarning)\n",
      "C:\\Users\\t-bhchha\\AppData\\Roaming\\Python\\Python37\\site-packages\\statsmodels\\tsa\\base\\tsa_model.py:165: ValueWarning: No frequency information was provided, so inferred frequency 10L will be used.\n",
      "  % freq, ValueWarning)\n",
      "C:\\Users\\t-bhchha\\AppData\\Roaming\\Python\\Python37\\site-packages\\statsmodels\\tsa\\base\\tsa_model.py:165: ValueWarning: No frequency information was provided, so inferred frequency 10L will be used.\n",
      "  % freq, ValueWarning)\n",
      "C:\\Users\\t-bhchha\\AppData\\Roaming\\Python\\Python37\\site-packages\\statsmodels\\tsa\\base\\tsa_model.py:165: ValueWarning: No frequency information was provided, so inferred frequency 10L will be used.\n",
      "  % freq, ValueWarning)\n"
     ]
    },
    {
     "name": "stdout",
     "output_type": "stream",
     "text": [
      "ARIMA(2, 1, 0)x(2, 0, 1, 12)12 - AIC:135.4942462106207\n"
     ]
    },
    {
     "name": "stderr",
     "output_type": "stream",
     "text": [
      "C:\\Users\\t-bhchha\\AppData\\Roaming\\Python\\Python37\\site-packages\\statsmodels\\tsa\\base\\tsa_model.py:165: ValueWarning: No frequency information was provided, so inferred frequency 10L will be used.\n",
      "  % freq, ValueWarning)\n",
      "C:\\Users\\t-bhchha\\AppData\\Roaming\\Python\\Python37\\site-packages\\statsmodels\\tsa\\base\\tsa_model.py:165: ValueWarning: No frequency information was provided, so inferred frequency 10L will be used.\n",
      "  % freq, ValueWarning)\n"
     ]
    },
    {
     "name": "stdout",
     "output_type": "stream",
     "text": [
      "ARIMA(2, 1, 0)x(2, 1, 0, 12)12 - AIC:64.8608650316173\n"
     ]
    },
    {
     "name": "stderr",
     "output_type": "stream",
     "text": [
      "C:\\Users\\t-bhchha\\AppData\\Roaming\\Python\\Python37\\site-packages\\statsmodels\\tsa\\base\\tsa_model.py:165: ValueWarning: No frequency information was provided, so inferred frequency 10L will be used.\n",
      "  % freq, ValueWarning)\n"
     ]
    },
    {
     "name": "stdout",
     "output_type": "stream",
     "text": [
      "ARIMA(2, 1, 0)x(2, 1, 1, 12)12 - AIC:66.60715362463\n",
      "ARIMA(2, 1, 0)x(2, 2, 0, 12)12 - AIC:10.0\n",
      "ARIMA(2, 1, 1)x(0, 0, 0, 12)12 - AIC:281.71445012507337\n",
      "ARIMA(2, 1, 1)x(0, 0, 1, 12)12 - AIC:203.4937469272819"
     ]
    },
    {
     "name": "stderr",
     "output_type": "stream",
     "text": [
      "C:\\Users\\t-bhchha\\AppData\\Roaming\\Python\\Python37\\site-packages\\statsmodels\\tsa\\base\\tsa_model.py:165: ValueWarning: No frequency information was provided, so inferred frequency 10L will be used.\n",
      "  % freq, ValueWarning)\n",
      "C:\\Users\\t-bhchha\\AppData\\Roaming\\Python\\Python37\\site-packages\\statsmodels\\tsa\\base\\tsa_model.py:165: ValueWarning: No frequency information was provided, so inferred frequency 10L will be used.\n",
      "  % freq, ValueWarning)\n",
      "C:\\Users\\t-bhchha\\AppData\\Roaming\\Python\\Python37\\site-packages\\statsmodels\\tsa\\base\\tsa_model.py:165: ValueWarning: No frequency information was provided, so inferred frequency 10L will be used.\n",
      "  % freq, ValueWarning)\n",
      "C:\\Users\\t-bhchha\\AppData\\Roaming\\Python\\Python37\\site-packages\\statsmodels\\tsa\\base\\tsa_model.py:165: ValueWarning: No frequency information was provided, so inferred frequency 10L will be used.\n",
      "  % freq, ValueWarning)\n",
      "C:\\Users\\t-bhchha\\AppData\\Roaming\\Python\\Python37\\site-packages\\statsmodels\\tsa\\base\\tsa_model.py:165: ValueWarning: No frequency information was provided, so inferred frequency 10L will be used.\n",
      "  % freq, ValueWarning)\n",
      "C:\\Users\\t-bhchha\\AppData\\Roaming\\Python\\Python37\\site-packages\\statsmodels\\tsa\\base\\tsa_model.py:165: ValueWarning: No frequency information was provided, so inferred frequency 10L will be used.\n",
      "  % freq, ValueWarning)\n",
      "C:\\Users\\t-bhchha\\AppData\\Roaming\\Python\\Python37\\site-packages\\statsmodels\\tsa\\base\\tsa_model.py:165: ValueWarning: No frequency information was provided, so inferred frequency 10L will be used.\n",
      "  % freq, ValueWarning)\n",
      "C:\\Users\\t-bhchha\\AppData\\Roaming\\Python\\Python37\\site-packages\\statsmodels\\tsa\\base\\tsa_model.py:165: ValueWarning: No frequency information was provided, so inferred frequency 10L will be used.\n",
      "  % freq, ValueWarning)\n"
     ]
    },
    {
     "name": "stdout",
     "output_type": "stream",
     "text": [
      "\n",
      "ARIMA(2, 1, 1)x(0, 1, 0, 12)12 - AIC:241.43059605461616\n",
      "ARIMA(2, 1, 1)x(0, 1, 1, 12)12 - AIC:1732.7022370645186\n"
     ]
    },
    {
     "name": "stderr",
     "output_type": "stream",
     "text": [
      "C:\\Users\\t-bhchha\\AppData\\Roaming\\Python\\Python37\\site-packages\\statsmodels\\tsa\\base\\tsa_model.py:165: ValueWarning: No frequency information was provided, so inferred frequency 10L will be used.\n",
      "  % freq, ValueWarning)\n",
      "C:\\Users\\t-bhchha\\AppData\\Roaming\\Python\\Python37\\site-packages\\statsmodels\\tsa\\base\\tsa_model.py:165: ValueWarning: No frequency information was provided, so inferred frequency 10L will be used.\n",
      "  % freq, ValueWarning)\n",
      "C:\\Users\\t-bhchha\\AppData\\Roaming\\Python\\Python37\\site-packages\\statsmodels\\tsa\\base\\tsa_model.py:165: ValueWarning: No frequency information was provided, so inferred frequency 10L will be used.\n",
      "  % freq, ValueWarning)\n"
     ]
    },
    {
     "name": "stdout",
     "output_type": "stream",
     "text": [
      "ARIMA(2, 1, 1)x(0, 2, 0, 12)12 - AIC:186.03837922150353\n",
      "ARIMA(2, 1, 1)x(1, 0, 0, 12)12 - AIC:203.17187465946844\n",
      "ARIMA(2, 1, 1)x(1, 0, 1, 12)12 - AIC:205.05658763164\n"
     ]
    },
    {
     "name": "stderr",
     "output_type": "stream",
     "text": [
      "C:\\Users\\t-bhchha\\AppData\\Roaming\\Python\\Python37\\site-packages\\statsmodels\\tsa\\base\\tsa_model.py:165: ValueWarning: No frequency information was provided, so inferred frequency 10L will be used.\n",
      "  % freq, ValueWarning)\n",
      "C:\\Users\\t-bhchha\\AppData\\Roaming\\Python\\Python37\\site-packages\\statsmodels\\tsa\\base\\tsa_model.py:165: ValueWarning: No frequency information was provided, so inferred frequency 10L will be used.\n",
      "  % freq, ValueWarning)\n",
      "C:\\Users\\t-bhchha\\AppData\\Roaming\\Python\\Python37\\site-packages\\statsmodels\\tsa\\base\\tsa_model.py:165: ValueWarning: No frequency information was provided, so inferred frequency 10L will be used.\n",
      "  % freq, ValueWarning)\n",
      "C:\\Users\\t-bhchha\\AppData\\Roaming\\Python\\Python37\\site-packages\\statsmodels\\tsa\\base\\tsa_model.py:165: ValueWarning: No frequency information was provided, so inferred frequency 10L will be used.\n",
      "  % freq, ValueWarning)\n",
      "C:\\Users\\t-bhchha\\AppData\\Roaming\\Python\\Python37\\site-packages\\statsmodels\\tsa\\base\\tsa_model.py:165: ValueWarning: No frequency information was provided, so inferred frequency 10L will be used.\n",
      "  % freq, ValueWarning)\n",
      "C:\\Users\\t-bhchha\\AppData\\Roaming\\Python\\Python37\\site-packages\\statsmodels\\tsa\\base\\tsa_model.py:165: ValueWarning: No frequency information was provided, so inferred frequency 10L will be used.\n",
      "  % freq, ValueWarning)\n"
     ]
    },
    {
     "name": "stdout",
     "output_type": "stream",
     "text": [
      "ARIMA(2, 1, 1)x(1, 1, 0, 12)12 - AIC:152.93230613499375\n"
     ]
    },
    {
     "name": "stderr",
     "output_type": "stream",
     "text": [
      "C:\\Users\\t-bhchha\\AppData\\Roaming\\Python\\Python37\\site-packages\\statsmodels\\tsa\\base\\tsa_model.py:165: ValueWarning: No frequency information was provided, so inferred frequency 10L will be used.\n",
      "  % freq, ValueWarning)\n"
     ]
    },
    {
     "name": "stdout",
     "output_type": "stream",
     "text": [
      "ARIMA(2, 1, 1)x(1, 1, 1, 12)12 - AIC:154.63054136736858\n"
     ]
    },
    {
     "name": "stderr",
     "output_type": "stream",
     "text": [
      "C:\\Users\\t-bhchha\\AppData\\Roaming\\Python\\Python37\\site-packages\\statsmodels\\tsa\\base\\tsa_model.py:165: ValueWarning: No frequency information was provided, so inferred frequency 10L will be used.\n",
      "  % freq, ValueWarning)\n",
      "C:\\Users\\t-bhchha\\AppData\\Roaming\\Python\\Python37\\site-packages\\statsmodels\\tsa\\base\\tsa_model.py:165: ValueWarning: No frequency information was provided, so inferred frequency 10L will be used.\n",
      "  % freq, ValueWarning)\n"
     ]
    },
    {
     "name": "stdout",
     "output_type": "stream",
     "text": [
      "ARIMA(2, 1, 1)x(1, 2, 0, 12)12 - AIC:83.67041222473372\n",
      "ARIMA(2, 1, 1)x(2, 0, 0, 12)12 - AIC:131.10915244296223\n"
     ]
    },
    {
     "name": "stderr",
     "output_type": "stream",
     "text": [
      "C:\\Users\\t-bhchha\\AppData\\Roaming\\Python\\Python37\\site-packages\\statsmodels\\tsa\\base\\tsa_model.py:165: ValueWarning: No frequency information was provided, so inferred frequency 10L will be used.\n",
      "  % freq, ValueWarning)\n",
      "C:\\Users\\t-bhchha\\AppData\\Roaming\\Python\\Python37\\site-packages\\statsmodels\\tsa\\base\\tsa_model.py:165: ValueWarning: No frequency information was provided, so inferred frequency 10L will be used.\n",
      "  % freq, ValueWarning)\n",
      "C:\\Users\\t-bhchha\\AppData\\Roaming\\Python\\Python37\\site-packages\\statsmodels\\tsa\\base\\tsa_model.py:165: ValueWarning: No frequency information was provided, so inferred frequency 10L will be used.\n",
      "  % freq, ValueWarning)\n",
      "C:\\Users\\t-bhchha\\AppData\\Roaming\\Python\\Python37\\site-packages\\statsmodels\\tsa\\base\\tsa_model.py:165: ValueWarning: No frequency information was provided, so inferred frequency 10L will be used.\n",
      "  % freq, ValueWarning)\n"
     ]
    },
    {
     "name": "stdout",
     "output_type": "stream",
     "text": [
      "ARIMA(2, 1, 1)x(2, 0, 1, 12)12 - AIC:131.27008210211523\n"
     ]
    },
    {
     "name": "stderr",
     "output_type": "stream",
     "text": [
      "C:\\Users\\t-bhchha\\AppData\\Roaming\\Python\\Python37\\site-packages\\statsmodels\\tsa\\base\\tsa_model.py:165: ValueWarning: No frequency information was provided, so inferred frequency 10L will be used.\n",
      "  % freq, ValueWarning)\n",
      "C:\\Users\\t-bhchha\\AppData\\Roaming\\Python\\Python37\\site-packages\\statsmodels\\tsa\\base\\tsa_model.py:165: ValueWarning: No frequency information was provided, so inferred frequency 10L will be used.\n",
      "  % freq, ValueWarning)\n"
     ]
    },
    {
     "name": "stdout",
     "output_type": "stream",
     "text": [
      "ARIMA(2, 1, 1)x(2, 1, 0, 12)12 - AIC:63.92982704897944\n"
     ]
    },
    {
     "name": "stderr",
     "output_type": "stream",
     "text": [
      "C:\\Users\\t-bhchha\\AppData\\Roaming\\Python\\Python37\\site-packages\\statsmodels\\tsa\\base\\tsa_model.py:165: ValueWarning: No frequency information was provided, so inferred frequency 10L will be used.\n",
      "  % freq, ValueWarning)\n",
      "C:\\Users\\t-bhchha\\AppData\\Roaming\\Python\\Python37\\site-packages\\statsmodels\\base\\model.py:512: ConvergenceWarning: Maximum Likelihood optimization failed to converge. Check mle_retvals\n",
      "  \"Check mle_retvals\", ConvergenceWarning)\n",
      "C:\\Users\\t-bhchha\\AppData\\Roaming\\Python\\Python37\\site-packages\\statsmodels\\tsa\\base\\tsa_model.py:165: ValueWarning: No frequency information was provided, so inferred frequency 10L will be used.\n",
      "  % freq, ValueWarning)\n",
      "C:\\Users\\t-bhchha\\AppData\\Roaming\\Python\\Python37\\site-packages\\statsmodels\\tsa\\base\\tsa_model.py:165: ValueWarning: No frequency information was provided, so inferred frequency 10L will be used.\n",
      "  % freq, ValueWarning)\n",
      "C:\\Users\\t-bhchha\\AppData\\Roaming\\Python\\Python37\\site-packages\\statsmodels\\tsa\\base\\tsa_model.py:165: ValueWarning: No frequency information was provided, so inferred frequency 10L will be used.\n",
      "  % freq, ValueWarning)\n",
      "C:\\Users\\t-bhchha\\AppData\\Roaming\\Python\\Python37\\site-packages\\statsmodels\\tsa\\base\\tsa_model.py:165: ValueWarning: No frequency information was provided, so inferred frequency 10L will be used.\n",
      "  % freq, ValueWarning)\n",
      "C:\\Users\\t-bhchha\\AppData\\Roaming\\Python\\Python37\\site-packages\\statsmodels\\tsa\\base\\tsa_model.py:165: ValueWarning: No frequency information was provided, so inferred frequency 10L will be used.\n",
      "  % freq, ValueWarning)\n"
     ]
    },
    {
     "name": "stdout",
     "output_type": "stream",
     "text": [
      "ARIMA(2, 1, 1)x(2, 1, 1, 12)12 - AIC:65.06935524641548\n",
      "ARIMA(2, 1, 1)x(2, 2, 0, 12)12 - AIC:12.0\n",
      "ARIMA(2, 1, 2)x(0, 0, 0, 12)12 - AIC:270.757093807164\n"
     ]
    },
    {
     "name": "stderr",
     "output_type": "stream",
     "text": [
      "C:\\Users\\t-bhchha\\AppData\\Roaming\\Python\\Python37\\site-packages\\statsmodels\\tsa\\base\\tsa_model.py:165: ValueWarning: No frequency information was provided, so inferred frequency 10L will be used.\n",
      "  % freq, ValueWarning)\n",
      "C:\\Users\\t-bhchha\\AppData\\Roaming\\Python\\Python37\\site-packages\\statsmodels\\tsa\\base\\tsa_model.py:165: ValueWarning: No frequency information was provided, so inferred frequency 10L will be used.\n",
      "  % freq, ValueWarning)\n",
      "C:\\Users\\t-bhchha\\AppData\\Roaming\\Python\\Python37\\site-packages\\statsmodels\\tsa\\base\\tsa_model.py:165: ValueWarning: No frequency information was provided, so inferred frequency 10L will be used.\n",
      "  % freq, ValueWarning)\n",
      "C:\\Users\\t-bhchha\\AppData\\Roaming\\Python\\Python37\\site-packages\\statsmodels\\tsa\\base\\tsa_model.py:165: ValueWarning: No frequency information was provided, so inferred frequency 10L will be used.\n",
      "  % freq, ValueWarning)\n"
     ]
    },
    {
     "name": "stdout",
     "output_type": "stream",
     "text": [
      "ARIMA(2, 1, 2)x(0, 0, 1, 12)12 - AIC:200.4298708710696\n",
      "ARIMA(2, 1, 2)x(0, 1, 0, 12)12 - AIC:238.3189154168219\n"
     ]
    },
    {
     "name": "stderr",
     "output_type": "stream",
     "text": [
      "C:\\Users\\t-bhchha\\AppData\\Roaming\\Python\\Python37\\site-packages\\statsmodels\\base\\model.py:512: ConvergenceWarning: Maximum Likelihood optimization failed to converge. Check mle_retvals\n",
      "  \"Check mle_retvals\", ConvergenceWarning)\n",
      "C:\\Users\\t-bhchha\\AppData\\Roaming\\Python\\Python37\\site-packages\\statsmodels\\tsa\\base\\tsa_model.py:165: ValueWarning: No frequency information was provided, so inferred frequency 10L will be used.\n",
      "  % freq, ValueWarning)\n",
      "C:\\Users\\t-bhchha\\AppData\\Roaming\\Python\\Python37\\site-packages\\statsmodels\\tsa\\base\\tsa_model.py:165: ValueWarning: No frequency information was provided, so inferred frequency 10L will be used.\n",
      "  % freq, ValueWarning)\n"
     ]
    },
    {
     "name": "stdout",
     "output_type": "stream",
     "text": [
      "ARIMA(2, 1, 2)x(0, 1, 1, 12)12 - AIC:1210.6402417381728\n",
      "ARIMA(2, 1, 2)x(0, 2, 0, 12)12 - AIC:180.9348117625705\n",
      "ARIMA(2, 1, 2)x(1, 0, 0, 12)12 - AIC:205.0965007374558\n"
     ]
    },
    {
     "name": "stderr",
     "output_type": "stream",
     "text": [
      "C:\\Users\\t-bhchha\\AppData\\Roaming\\Python\\Python37\\site-packages\\statsmodels\\tsa\\base\\tsa_model.py:165: ValueWarning: No frequency information was provided, so inferred frequency 10L will be used.\n",
      "  % freq, ValueWarning)\n",
      "C:\\Users\\t-bhchha\\AppData\\Roaming\\Python\\Python37\\site-packages\\statsmodels\\tsa\\base\\tsa_model.py:165: ValueWarning: No frequency information was provided, so inferred frequency 10L will be used.\n",
      "  % freq, ValueWarning)\n",
      "C:\\Users\\t-bhchha\\AppData\\Roaming\\Python\\Python37\\site-packages\\statsmodels\\tsa\\base\\tsa_model.py:165: ValueWarning: No frequency information was provided, so inferred frequency 10L will be used.\n",
      "  % freq, ValueWarning)\n",
      "C:\\Users\\t-bhchha\\AppData\\Roaming\\Python\\Python37\\site-packages\\statsmodels\\tsa\\base\\tsa_model.py:165: ValueWarning: No frequency information was provided, so inferred frequency 10L will be used.\n",
      "  % freq, ValueWarning)\n"
     ]
    },
    {
     "name": "stdout",
     "output_type": "stream",
     "text": [
      "ARIMA(2, 1, 2)x(1, 0, 1, 12)12 - AIC:200.84710593787167\n"
     ]
    },
    {
     "name": "stderr",
     "output_type": "stream",
     "text": [
      "C:\\Users\\t-bhchha\\AppData\\Roaming\\Python\\Python37\\site-packages\\statsmodels\\tsa\\base\\tsa_model.py:165: ValueWarning: No frequency information was provided, so inferred frequency 10L will be used.\n",
      "  % freq, ValueWarning)\n",
      "C:\\Users\\t-bhchha\\AppData\\Roaming\\Python\\Python37\\site-packages\\statsmodels\\tsa\\base\\tsa_model.py:165: ValueWarning: No frequency information was provided, so inferred frequency 10L will be used.\n",
      "  % freq, ValueWarning)\n"
     ]
    },
    {
     "name": "stdout",
     "output_type": "stream",
     "text": [
      "ARIMA(2, 1, 2)x(1, 1, 0, 12)12 - AIC:154.9258318824404\n"
     ]
    },
    {
     "name": "stderr",
     "output_type": "stream",
     "text": [
      "C:\\Users\\t-bhchha\\AppData\\Roaming\\Python\\Python37\\site-packages\\statsmodels\\tsa\\base\\tsa_model.py:165: ValueWarning: No frequency information was provided, so inferred frequency 10L will be used.\n",
      "  % freq, ValueWarning)\n",
      "C:\\Users\\t-bhchha\\AppData\\Roaming\\Python\\Python37\\site-packages\\statsmodels\\base\\model.py:512: ConvergenceWarning: Maximum Likelihood optimization failed to converge. Check mle_retvals\n",
      "  \"Check mle_retvals\", ConvergenceWarning)\n",
      "C:\\Users\\t-bhchha\\AppData\\Roaming\\Python\\Python37\\site-packages\\statsmodels\\tsa\\base\\tsa_model.py:165: ValueWarning: No frequency information was provided, so inferred frequency 10L will be used.\n",
      "  % freq, ValueWarning)\n",
      "C:\\Users\\t-bhchha\\AppData\\Roaming\\Python\\Python37\\site-packages\\statsmodels\\tsa\\base\\tsa_model.py:165: ValueWarning: No frequency information was provided, so inferred frequency 10L will be used.\n",
      "  % freq, ValueWarning)\n"
     ]
    },
    {
     "name": "stdout",
     "output_type": "stream",
     "text": [
      "ARIMA(2, 1, 2)x(1, 1, 1, 12)12 - AIC:147.95952895309458\n",
      "ARIMA(2, 1, 2)x(1, 2, 0, 12)12 - AIC:85.37878774221915\n"
     ]
    },
    {
     "name": "stderr",
     "output_type": "stream",
     "text": [
      "C:\\Users\\t-bhchha\\AppData\\Roaming\\Python\\Python37\\site-packages\\statsmodels\\tsa\\base\\tsa_model.py:165: ValueWarning: No frequency information was provided, so inferred frequency 10L will be used.\n",
      "  % freq, ValueWarning)\n",
      "C:\\Users\\t-bhchha\\AppData\\Roaming\\Python\\Python37\\site-packages\\statsmodels\\tsa\\base\\tsa_model.py:165: ValueWarning: No frequency information was provided, so inferred frequency 10L will be used.\n",
      "  % freq, ValueWarning)\n",
      "C:\\Users\\t-bhchha\\AppData\\Roaming\\Python\\Python37\\site-packages\\statsmodels\\tsa\\base\\tsa_model.py:165: ValueWarning: No frequency information was provided, so inferred frequency 10L will be used.\n",
      "  % freq, ValueWarning)\n"
     ]
    },
    {
     "name": "stdout",
     "output_type": "stream",
     "text": [
      "ARIMA(2, 1, 2)x(2, 0, 0, 12)12 - AIC:130.52340809740582\n"
     ]
    },
    {
     "name": "stderr",
     "output_type": "stream",
     "text": [
      "C:\\Users\\t-bhchha\\AppData\\Roaming\\Python\\Python37\\site-packages\\statsmodels\\tsa\\base\\tsa_model.py:165: ValueWarning: No frequency information was provided, so inferred frequency 10L will be used.\n",
      "  % freq, ValueWarning)\n"
     ]
    },
    {
     "name": "stdout",
     "output_type": "stream",
     "text": [
      "ARIMA(2, 1, 2)x(2, 0, 1, 12)12 - AIC:127.1301282480776\n"
     ]
    },
    {
     "name": "stderr",
     "output_type": "stream",
     "text": [
      "C:\\Users\\t-bhchha\\AppData\\Roaming\\Python\\Python37\\site-packages\\statsmodels\\tsa\\base\\tsa_model.py:165: ValueWarning: No frequency information was provided, so inferred frequency 10L will be used.\n",
      "  % freq, ValueWarning)\n",
      "C:\\Users\\t-bhchha\\AppData\\Roaming\\Python\\Python37\\site-packages\\statsmodels\\tsa\\base\\tsa_model.py:165: ValueWarning: No frequency information was provided, so inferred frequency 10L will be used.\n",
      "  % freq, ValueWarning)\n"
     ]
    },
    {
     "name": "stdout",
     "output_type": "stream",
     "text": [
      "ARIMA(2, 1, 2)x(2, 1, 0, 12)12 - AIC:62.04760530932189\n"
     ]
    },
    {
     "name": "stderr",
     "output_type": "stream",
     "text": [
      "C:\\Users\\t-bhchha\\AppData\\Roaming\\Python\\Python37\\site-packages\\statsmodels\\tsa\\base\\tsa_model.py:165: ValueWarning: No frequency information was provided, so inferred frequency 10L will be used.\n",
      "  % freq, ValueWarning)\n"
     ]
    },
    {
     "name": "stdout",
     "output_type": "stream",
     "text": [
      "ARIMA(2, 1, 2)x(2, 1, 1, 12)12 - AIC:63.66486118208183\n",
      "ARIMA(2, 1, 2)x(2, 2, 0, 12)12 - AIC:14.0\n",
      "ARIMA(2, 2, 0)x(0, 0, 0, 12)12 - AIC:310.60417395766586\n"
     ]
    },
    {
     "name": "stderr",
     "output_type": "stream",
     "text": [
      "C:\\Users\\t-bhchha\\AppData\\Roaming\\Python\\Python37\\site-packages\\statsmodels\\tsa\\base\\tsa_model.py:165: ValueWarning: No frequency information was provided, so inferred frequency 10L will be used.\n",
      "  % freq, ValueWarning)\n",
      "C:\\Users\\t-bhchha\\AppData\\Roaming\\Python\\Python37\\site-packages\\statsmodels\\tsa\\base\\tsa_model.py:165: ValueWarning: No frequency information was provided, so inferred frequency 10L will be used.\n",
      "  % freq, ValueWarning)\n",
      "C:\\Users\\t-bhchha\\AppData\\Roaming\\Python\\Python37\\site-packages\\statsmodels\\tsa\\base\\tsa_model.py:165: ValueWarning: No frequency information was provided, so inferred frequency 10L will be used.\n",
      "  % freq, ValueWarning)\n",
      "C:\\Users\\t-bhchha\\AppData\\Roaming\\Python\\Python37\\site-packages\\statsmodels\\tsa\\base\\tsa_model.py:165: ValueWarning: No frequency information was provided, so inferred frequency 10L will be used.\n",
      "  % freq, ValueWarning)\n",
      "C:\\Users\\t-bhchha\\AppData\\Roaming\\Python\\Python37\\site-packages\\statsmodels\\tsa\\base\\tsa_model.py:165: ValueWarning: No frequency information was provided, so inferred frequency 10L will be used.\n",
      "  % freq, ValueWarning)\n",
      "C:\\Users\\t-bhchha\\AppData\\Roaming\\Python\\Python37\\site-packages\\statsmodels\\tsa\\base\\tsa_model.py:165: ValueWarning: No frequency information was provided, so inferred frequency 10L will be used.\n",
      "  % freq, ValueWarning)\n"
     ]
    },
    {
     "name": "stdout",
     "output_type": "stream",
     "text": [
      "ARIMA(2, 2, 0)x(0, 0, 1, 12)12 - AIC:1323.538950510105\n",
      "ARIMA(2, 2, 0)x(0, 1, 0, 12)12 - AIC:264.46198969176316\n",
      "ARIMA(2, 2, 0)x(0, 2, 0, 12)12 - AIC:191.83306295126428\n",
      "ARIMA(2, 2, 0)x(1, 0, 0, 12)12 - AIC:227.37908835739586\n",
      "ARIMA(2, 2, 0)x(1, 0, 1, 12)12 - AIC:1329.1530456459227\n"
     ]
    },
    {
     "name": "stderr",
     "output_type": "stream",
     "text": [
      "C:\\Users\\t-bhchha\\AppData\\Roaming\\Python\\Python37\\site-packages\\statsmodels\\tsa\\base\\tsa_model.py:165: ValueWarning: No frequency information was provided, so inferred frequency 10L will be used.\n",
      "  % freq, ValueWarning)\n",
      "C:\\Users\\t-bhchha\\AppData\\Roaming\\Python\\Python37\\site-packages\\statsmodels\\tsa\\base\\tsa_model.py:165: ValueWarning: No frequency information was provided, so inferred frequency 10L will be used.\n",
      "  % freq, ValueWarning)\n",
      "C:\\Users\\t-bhchha\\AppData\\Roaming\\Python\\Python37\\site-packages\\statsmodels\\tsa\\base\\tsa_model.py:165: ValueWarning: No frequency information was provided, so inferred frequency 10L will be used.\n",
      "  % freq, ValueWarning)\n",
      "C:\\Users\\t-bhchha\\AppData\\Roaming\\Python\\Python37\\site-packages\\statsmodels\\tsa\\base\\tsa_model.py:165: ValueWarning: No frequency information was provided, so inferred frequency 10L will be used.\n",
      "  % freq, ValueWarning)\n",
      "C:\\Users\\t-bhchha\\AppData\\Roaming\\Python\\Python37\\site-packages\\statsmodels\\tsa\\base\\tsa_model.py:165: ValueWarning: No frequency information was provided, so inferred frequency 10L will be used.\n",
      "  % freq, ValueWarning)\n",
      "C:\\Users\\t-bhchha\\AppData\\Roaming\\Python\\Python37\\site-packages\\statsmodels\\tsa\\base\\tsa_model.py:165: ValueWarning: No frequency information was provided, so inferred frequency 10L will be used.\n",
      "  % freq, ValueWarning)\n",
      "C:\\Users\\t-bhchha\\AppData\\Roaming\\Python\\Python37\\site-packages\\statsmodels\\tsa\\base\\tsa_model.py:165: ValueWarning: No frequency information was provided, so inferred frequency 10L will be used.\n",
      "  % freq, ValueWarning)\n",
      "C:\\Users\\t-bhchha\\AppData\\Roaming\\Python\\Python37\\site-packages\\statsmodels\\tsa\\base\\tsa_model.py:165: ValueWarning: No frequency information was provided, so inferred frequency 10L will be used.\n",
      "  % freq, ValueWarning)\n",
      "C:\\Users\\t-bhchha\\AppData\\Roaming\\Python\\Python37\\site-packages\\statsmodels\\tsa\\base\\tsa_model.py:165: ValueWarning: No frequency information was provided, so inferred frequency 10L will be used.\n",
      "  % freq, ValueWarning)\n",
      "C:\\Users\\t-bhchha\\AppData\\Roaming\\Python\\Python37\\site-packages\\statsmodels\\tsa\\base\\tsa_model.py:165: ValueWarning: No frequency information was provided, so inferred frequency 10L will be used.\n",
      "  % freq, ValueWarning)\n",
      "C:\\Users\\t-bhchha\\AppData\\Roaming\\Python\\Python37\\site-packages\\statsmodels\\tsa\\base\\tsa_model.py:165: ValueWarning: No frequency information was provided, so inferred frequency 10L will be used.\n",
      "  % freq, ValueWarning)\n",
      "C:\\Users\\t-bhchha\\AppData\\Roaming\\Python\\Python37\\site-packages\\statsmodels\\tsa\\base\\tsa_model.py:165: ValueWarning: No frequency information was provided, so inferred frequency 10L will be used.\n",
      "  % freq, ValueWarning)\n",
      "C:\\Users\\t-bhchha\\AppData\\Roaming\\Python\\Python37\\site-packages\\statsmodels\\tsa\\base\\tsa_model.py:165: ValueWarning: No frequency information was provided, so inferred frequency 10L will be used.\n",
      "  % freq, ValueWarning)\n",
      "C:\\Users\\t-bhchha\\AppData\\Roaming\\Python\\Python37\\site-packages\\statsmodels\\tsa\\base\\tsa_model.py:165: ValueWarning: No frequency information was provided, so inferred frequency 10L will be used.\n",
      "  % freq, ValueWarning)\n"
     ]
    },
    {
     "name": "stdout",
     "output_type": "stream",
     "text": [
      "ARIMA(2, 2, 0)x(1, 1, 0, 12)12 - AIC:167.12350628682464\n",
      "ARIMA(2, 2, 0)x(1, 2, 0, 12)12 - AIC:86.60125890727126\n",
      "ARIMA(2, 2, 0)x(2, 0, 0, 12)12 - AIC:142.8469877903568\n"
     ]
    },
    {
     "name": "stderr",
     "output_type": "stream",
     "text": [
      "C:\\Users\\t-bhchha\\AppData\\Roaming\\Python\\Python37\\site-packages\\statsmodels\\tsa\\base\\tsa_model.py:165: ValueWarning: No frequency information was provided, so inferred frequency 10L will be used.\n",
      "  % freq, ValueWarning)\n",
      "C:\\Users\\t-bhchha\\AppData\\Roaming\\Python\\Python37\\site-packages\\statsmodels\\tsa\\base\\tsa_model.py:165: ValueWarning: No frequency information was provided, so inferred frequency 10L will be used.\n",
      "  % freq, ValueWarning)\n",
      "C:\\Users\\t-bhchha\\AppData\\Roaming\\Python\\Python37\\site-packages\\statsmodels\\tsa\\base\\tsa_model.py:165: ValueWarning: No frequency information was provided, so inferred frequency 10L will be used.\n",
      "  % freq, ValueWarning)\n",
      "C:\\Users\\t-bhchha\\AppData\\Roaming\\Python\\Python37\\site-packages\\statsmodels\\tsa\\base\\tsa_model.py:165: ValueWarning: No frequency information was provided, so inferred frequency 10L will be used.\n",
      "  % freq, ValueWarning)\n"
     ]
    },
    {
     "name": "stdout",
     "output_type": "stream",
     "text": [
      "ARIMA(2, 2, 0)x(2, 0, 1, 12)12 - AIC:859.7325415222383\n"
     ]
    },
    {
     "name": "stderr",
     "output_type": "stream",
     "text": [
      "C:\\Users\\t-bhchha\\AppData\\Roaming\\Python\\Python37\\site-packages\\statsmodels\\tsa\\base\\tsa_model.py:165: ValueWarning: No frequency information was provided, so inferred frequency 10L will be used.\n",
      "  % freq, ValueWarning)\n",
      "C:\\Users\\t-bhchha\\AppData\\Roaming\\Python\\Python37\\site-packages\\statsmodels\\tsa\\base\\tsa_model.py:165: ValueWarning: No frequency information was provided, so inferred frequency 10L will be used.\n",
      "  % freq, ValueWarning)\n"
     ]
    },
    {
     "name": "stdout",
     "output_type": "stream",
     "text": [
      "ARIMA(2, 2, 0)x(2, 1, 0, 12)12 - AIC:66.39475772904593\n",
      "ARIMA(2, 2, 1)x(0, 0, 0, 12)12 - AIC:288.51115745593063\n"
     ]
    },
    {
     "name": "stderr",
     "output_type": "stream",
     "text": [
      "C:\\Users\\t-bhchha\\AppData\\Roaming\\Python\\Python37\\site-packages\\statsmodels\\tsa\\base\\tsa_model.py:165: ValueWarning: No frequency information was provided, so inferred frequency 10L will be used.\n",
      "  % freq, ValueWarning)\n",
      "C:\\Users\\t-bhchha\\AppData\\Roaming\\Python\\Python37\\site-packages\\statsmodels\\tsa\\base\\tsa_model.py:165: ValueWarning: No frequency information was provided, so inferred frequency 10L will be used.\n",
      "  % freq, ValueWarning)\n",
      "C:\\Users\\t-bhchha\\AppData\\Roaming\\Python\\Python37\\site-packages\\statsmodels\\tsa\\base\\tsa_model.py:165: ValueWarning: No frequency information was provided, so inferred frequency 10L will be used.\n",
      "  % freq, ValueWarning)\n",
      "C:\\Users\\t-bhchha\\AppData\\Roaming\\Python\\Python37\\site-packages\\statsmodels\\tsa\\base\\tsa_model.py:165: ValueWarning: No frequency information was provided, so inferred frequency 10L will be used.\n",
      "  % freq, ValueWarning)\n",
      "C:\\Users\\t-bhchha\\AppData\\Roaming\\Python\\Python37\\site-packages\\statsmodels\\tsa\\base\\tsa_model.py:165: ValueWarning: No frequency information was provided, so inferred frequency 10L will be used.\n",
      "  % freq, ValueWarning)\n",
      "C:\\Users\\t-bhchha\\AppData\\Roaming\\Python\\Python37\\site-packages\\statsmodels\\tsa\\base\\tsa_model.py:165: ValueWarning: No frequency information was provided, so inferred frequency 10L will be used.\n",
      "  % freq, ValueWarning)\n",
      "C:\\Users\\t-bhchha\\AppData\\Roaming\\Python\\Python37\\site-packages\\statsmodels\\tsa\\base\\tsa_model.py:165: ValueWarning: No frequency information was provided, so inferred frequency 10L will be used.\n",
      "  % freq, ValueWarning)\n",
      "C:\\Users\\t-bhchha\\AppData\\Roaming\\Python\\Python37\\site-packages\\statsmodels\\base\\model.py:512: ConvergenceWarning: Maximum Likelihood optimization failed to converge. Check mle_retvals\n",
      "  \"Check mle_retvals\", ConvergenceWarning)\n",
      "C:\\Users\\t-bhchha\\AppData\\Roaming\\Python\\Python37\\site-packages\\statsmodels\\tsa\\base\\tsa_model.py:165: ValueWarning: No frequency information was provided, so inferred frequency 10L will be used.\n",
      "  % freq, ValueWarning)\n",
      "C:\\Users\\t-bhchha\\AppData\\Roaming\\Python\\Python37\\site-packages\\statsmodels\\tsa\\base\\tsa_model.py:165: ValueWarning: No frequency information was provided, so inferred frequency 10L will be used.\n",
      "  % freq, ValueWarning)\n",
      "C:\\Users\\t-bhchha\\AppData\\Roaming\\Python\\Python37\\site-packages\\statsmodels\\tsa\\base\\tsa_model.py:165: ValueWarning: No frequency information was provided, so inferred frequency 10L will be used.\n",
      "  % freq, ValueWarning)\n",
      "C:\\Users\\t-bhchha\\AppData\\Roaming\\Python\\Python37\\site-packages\\statsmodels\\tsa\\base\\tsa_model.py:165: ValueWarning: No frequency information was provided, so inferred frequency 10L will be used.\n",
      "  % freq, ValueWarning)\n",
      "C:\\Users\\t-bhchha\\AppData\\Roaming\\Python\\Python37\\site-packages\\statsmodels\\tsa\\base\\tsa_model.py:165: ValueWarning: No frequency information was provided, so inferred frequency 10L will be used.\n",
      "  % freq, ValueWarning)\n"
     ]
    },
    {
     "name": "stdout",
     "output_type": "stream",
     "text": [
      "ARIMA(2, 2, 1)x(0, 0, 1, 12)12 - AIC:1294.1782781513436\n",
      "ARIMA(2, 2, 1)x(0, 1, 0, 12)12 - AIC:253.06616494885554\n",
      "ARIMA(2, 2, 1)x(0, 2, 0, 12)12 - AIC:188.85841316987674\n"
     ]
    },
    {
     "name": "stderr",
     "output_type": "stream",
     "text": [
      "C:\\Users\\t-bhchha\\AppData\\Roaming\\Python\\Python37\\site-packages\\statsmodels\\tsa\\base\\tsa_model.py:165: ValueWarning: No frequency information was provided, so inferred frequency 10L will be used.\n",
      "  % freq, ValueWarning)\n",
      "C:\\Users\\t-bhchha\\AppData\\Roaming\\Python\\Python37\\site-packages\\statsmodels\\tsa\\base\\tsa_model.py:165: ValueWarning: No frequency information was provided, so inferred frequency 10L will be used.\n",
      "  % freq, ValueWarning)\n",
      "C:\\Users\\t-bhchha\\AppData\\Roaming\\Python\\Python37\\site-packages\\statsmodels\\tsa\\base\\tsa_model.py:165: ValueWarning: No frequency information was provided, so inferred frequency 10L will be used.\n",
      "  % freq, ValueWarning)\n",
      "C:\\Users\\t-bhchha\\AppData\\Roaming\\Python\\Python37\\site-packages\\statsmodels\\tsa\\base\\tsa_model.py:165: ValueWarning: No frequency information was provided, so inferred frequency 10L will be used.\n",
      "  % freq, ValueWarning)\n"
     ]
    },
    {
     "name": "stdout",
     "output_type": "stream",
     "text": [
      "ARIMA(2, 2, 1)x(1, 0, 0, 12)12 - AIC:210.77375359303426\n"
     ]
    },
    {
     "name": "stderr",
     "output_type": "stream",
     "text": [
      "C:\\Users\\t-bhchha\\AppData\\Roaming\\Python\\Python37\\site-packages\\statsmodels\\base\\model.py:512: ConvergenceWarning: Maximum Likelihood optimization failed to converge. Check mle_retvals\n",
      "  \"Check mle_retvals\", ConvergenceWarning)\n",
      "C:\\Users\\t-bhchha\\AppData\\Roaming\\Python\\Python37\\site-packages\\statsmodels\\tsa\\base\\tsa_model.py:165: ValueWarning: No frequency information was provided, so inferred frequency 10L will be used.\n",
      "  % freq, ValueWarning)\n",
      "C:\\Users\\t-bhchha\\AppData\\Roaming\\Python\\Python37\\site-packages\\statsmodels\\tsa\\base\\tsa_model.py:165: ValueWarning: No frequency information was provided, so inferred frequency 10L will be used.\n",
      "  % freq, ValueWarning)\n",
      "C:\\Users\\t-bhchha\\AppData\\Roaming\\Python\\Python37\\site-packages\\statsmodels\\tsa\\base\\tsa_model.py:165: ValueWarning: No frequency information was provided, so inferred frequency 10L will be used.\n",
      "  % freq, ValueWarning)\n",
      "C:\\Users\\t-bhchha\\AppData\\Roaming\\Python\\Python37\\site-packages\\statsmodels\\tsa\\base\\tsa_model.py:165: ValueWarning: No frequency information was provided, so inferred frequency 10L will be used.\n",
      "  % freq, ValueWarning)\n",
      "C:\\Users\\t-bhchha\\AppData\\Roaming\\Python\\Python37\\site-packages\\statsmodels\\tsa\\base\\tsa_model.py:165: ValueWarning: No frequency information was provided, so inferred frequency 10L will be used.\n",
      "  % freq, ValueWarning)\n"
     ]
    },
    {
     "name": "stdout",
     "output_type": "stream",
     "text": [
      "ARIMA(2, 2, 1)x(1, 0, 1, 12)12 - AIC:1328.0172867147112\n",
      "ARIMA(2, 2, 1)x(1, 1, 0, 12)12 - AIC:157.53532136393346\n",
      "ARIMA(2, 2, 1)x(1, 2, 0, 12)12 - AIC:82.78304164726742\n",
      "ARIMA(2, 2, 1)x(2, 0, 0, 12)12 - AIC:134.80157830191615\n"
     ]
    },
    {
     "name": "stderr",
     "output_type": "stream",
     "text": [
      "C:\\Users\\t-bhchha\\AppData\\Roaming\\Python\\Python37\\site-packages\\statsmodels\\tsa\\base\\tsa_model.py:165: ValueWarning: No frequency information was provided, so inferred frequency 10L will be used.\n",
      "  % freq, ValueWarning)\n",
      "C:\\Users\\t-bhchha\\AppData\\Roaming\\Python\\Python37\\site-packages\\statsmodels\\tsa\\base\\tsa_model.py:165: ValueWarning: No frequency information was provided, so inferred frequency 10L will be used.\n",
      "  % freq, ValueWarning)\n",
      "C:\\Users\\t-bhchha\\AppData\\Roaming\\Python\\Python37\\site-packages\\statsmodels\\tsa\\base\\tsa_model.py:165: ValueWarning: No frequency information was provided, so inferred frequency 10L will be used.\n",
      "  % freq, ValueWarning)\n",
      "C:\\Users\\t-bhchha\\AppData\\Roaming\\Python\\Python37\\site-packages\\statsmodels\\tsa\\base\\tsa_model.py:165: ValueWarning: No frequency information was provided, so inferred frequency 10L will be used.\n",
      "  % freq, ValueWarning)\n",
      "C:\\Users\\t-bhchha\\AppData\\Roaming\\Python\\Python37\\site-packages\\statsmodels\\base\\model.py:512: ConvergenceWarning: Maximum Likelihood optimization failed to converge. Check mle_retvals\n",
      "  \"Check mle_retvals\", ConvergenceWarning)\n",
      "C:\\Users\\t-bhchha\\AppData\\Roaming\\Python\\Python37\\site-packages\\statsmodels\\tsa\\base\\tsa_model.py:165: ValueWarning: No frequency information was provided, so inferred frequency 10L will be used.\n",
      "  % freq, ValueWarning)\n",
      "C:\\Users\\t-bhchha\\AppData\\Roaming\\Python\\Python37\\site-packages\\statsmodels\\tsa\\base\\tsa_model.py:165: ValueWarning: No frequency information was provided, so inferred frequency 10L will be used.\n",
      "  % freq, ValueWarning)\n"
     ]
    },
    {
     "name": "stdout",
     "output_type": "stream",
     "text": [
      "ARIMA(2, 2, 1)x(2, 0, 1, 12)12 - AIC:900.6478466034017\n",
      "ARIMA(2, 2, 1)x(2, 1, 0, 12)12 - AIC:65.50180442635609\n",
      "ARIMA(2, 2, 2)x(0, 0, 0, 12)12 - AIC:276.68207261675974\n"
     ]
    },
    {
     "name": "stderr",
     "output_type": "stream",
     "text": [
      "C:\\Users\\t-bhchha\\AppData\\Roaming\\Python\\Python37\\site-packages\\statsmodels\\tsa\\base\\tsa_model.py:165: ValueWarning: No frequency information was provided, so inferred frequency 10L will be used.\n",
      "  % freq, ValueWarning)\n",
      "C:\\Users\\t-bhchha\\AppData\\Roaming\\Python\\Python37\\site-packages\\statsmodels\\tsa\\base\\tsa_model.py:165: ValueWarning: No frequency information was provided, so inferred frequency 10L will be used.\n",
      "  % freq, ValueWarning)\n",
      "C:\\Users\\t-bhchha\\AppData\\Roaming\\Python\\Python37\\site-packages\\statsmodels\\tsa\\base\\tsa_model.py:165: ValueWarning: No frequency information was provided, so inferred frequency 10L will be used.\n",
      "  % freq, ValueWarning)\n",
      "C:\\Users\\t-bhchha\\AppData\\Roaming\\Python\\Python37\\site-packages\\statsmodels\\tsa\\base\\tsa_model.py:165: ValueWarning: No frequency information was provided, so inferred frequency 10L will be used.\n",
      "  % freq, ValueWarning)\n",
      "C:\\Users\\t-bhchha\\AppData\\Roaming\\Python\\Python37\\site-packages\\statsmodels\\tsa\\base\\tsa_model.py:165: ValueWarning: No frequency information was provided, so inferred frequency 10L will be used.\n",
      "  % freq, ValueWarning)\n",
      "C:\\Users\\t-bhchha\\AppData\\Roaming\\Python\\Python37\\site-packages\\statsmodels\\tsa\\base\\tsa_model.py:165: ValueWarning: No frequency information was provided, so inferred frequency 10L will be used.\n",
      "  % freq, ValueWarning)\n",
      "C:\\Users\\t-bhchha\\AppData\\Roaming\\Python\\Python37\\site-packages\\statsmodels\\tsa\\base\\tsa_model.py:165: ValueWarning: No frequency information was provided, so inferred frequency 10L will be used.\n",
      "  % freq, ValueWarning)\n",
      "C:\\Users\\t-bhchha\\AppData\\Roaming\\Python\\Python37\\site-packages\\statsmodels\\base\\model.py:512: ConvergenceWarning: Maximum Likelihood optimization failed to converge. Check mle_retvals\n",
      "  \"Check mle_retvals\", ConvergenceWarning)\n",
      "C:\\Users\\t-bhchha\\AppData\\Roaming\\Python\\Python37\\site-packages\\statsmodels\\tsa\\base\\tsa_model.py:165: ValueWarning: No frequency information was provided, so inferred frequency 10L will be used.\n",
      "  % freq, ValueWarning)\n",
      "C:\\Users\\t-bhchha\\AppData\\Roaming\\Python\\Python37\\site-packages\\statsmodels\\tsa\\base\\tsa_model.py:165: ValueWarning: No frequency information was provided, so inferred frequency 10L will be used.\n",
      "  % freq, ValueWarning)\n",
      "C:\\Users\\t-bhchha\\AppData\\Roaming\\Python\\Python37\\site-packages\\statsmodels\\tsa\\base\\tsa_model.py:165: ValueWarning: No frequency information was provided, so inferred frequency 10L will be used.\n",
      "  % freq, ValueWarning)\n",
      "C:\\Users\\t-bhchha\\AppData\\Roaming\\Python\\Python37\\site-packages\\statsmodels\\tsa\\base\\tsa_model.py:165: ValueWarning: No frequency information was provided, so inferred frequency 10L will be used.\n",
      "  % freq, ValueWarning)\n",
      "C:\\Users\\t-bhchha\\AppData\\Roaming\\Python\\Python37\\site-packages\\statsmodels\\tsa\\base\\tsa_model.py:165: ValueWarning: No frequency information was provided, so inferred frequency 10L will be used.\n",
      "  % freq, ValueWarning)\n"
     ]
    },
    {
     "name": "stdout",
     "output_type": "stream",
     "text": [
      "ARIMA(2, 2, 2)x(0, 0, 1, 12)12 - AIC:1463.7803602329132\n",
      "ARIMA(2, 2, 2)x(0, 1, 0, 12)12 - AIC:239.78930830932788\n",
      "ARIMA(2, 2, 2)x(0, 2, 0, 12)12 - AIC:180.88448143845847\n",
      "ARIMA(2, 2, 2)x(1, 0, 0, 12)12 - AIC:207.84358679451637\n"
     ]
    },
    {
     "name": "stderr",
     "output_type": "stream",
     "text": [
      "C:\\Users\\t-bhchha\\AppData\\Roaming\\Python\\Python37\\site-packages\\statsmodels\\tsa\\base\\tsa_model.py:165: ValueWarning: No frequency information was provided, so inferred frequency 10L will be used.\n",
      "  % freq, ValueWarning)\n",
      "C:\\Users\\t-bhchha\\AppData\\Roaming\\Python\\Python37\\site-packages\\statsmodels\\tsa\\base\\tsa_model.py:165: ValueWarning: No frequency information was provided, so inferred frequency 10L will be used.\n",
      "  % freq, ValueWarning)\n",
      "C:\\Users\\t-bhchha\\AppData\\Roaming\\Python\\Python37\\site-packages\\statsmodels\\tsa\\base\\tsa_model.py:165: ValueWarning: No frequency information was provided, so inferred frequency 10L will be used.\n",
      "  % freq, ValueWarning)\n",
      "C:\\Users\\t-bhchha\\AppData\\Roaming\\Python\\Python37\\site-packages\\statsmodels\\tsa\\base\\tsa_model.py:165: ValueWarning: No frequency information was provided, so inferred frequency 10L will be used.\n",
      "  % freq, ValueWarning)\n",
      "C:\\Users\\t-bhchha\\AppData\\Roaming\\Python\\Python37\\site-packages\\statsmodels\\base\\model.py:512: ConvergenceWarning: Maximum Likelihood optimization failed to converge. Check mle_retvals\n",
      "  \"Check mle_retvals\", ConvergenceWarning)\n",
      "C:\\Users\\t-bhchha\\AppData\\Roaming\\Python\\Python37\\site-packages\\statsmodels\\tsa\\base\\tsa_model.py:165: ValueWarning: No frequency information was provided, so inferred frequency 10L will be used.\n",
      "  % freq, ValueWarning)\n",
      "C:\\Users\\t-bhchha\\AppData\\Roaming\\Python\\Python37\\site-packages\\statsmodels\\tsa\\base\\tsa_model.py:165: ValueWarning: No frequency information was provided, so inferred frequency 10L will be used.\n",
      "  % freq, ValueWarning)\n"
     ]
    },
    {
     "name": "stdout",
     "output_type": "stream",
     "text": [
      "ARIMA(2, 2, 2)x(1, 0, 1, 12)12 - AIC:1496.6800582274545\n",
      "ARIMA(2, 2, 2)x(1, 1, 0, 12)12 - AIC:155.5823148900944\n"
     ]
    },
    {
     "name": "stderr",
     "output_type": "stream",
     "text": [
      "C:\\Users\\t-bhchha\\AppData\\Roaming\\Python\\Python37\\site-packages\\statsmodels\\tsa\\base\\tsa_model.py:165: ValueWarning: No frequency information was provided, so inferred frequency 10L will be used.\n",
      "  % freq, ValueWarning)\n",
      "C:\\Users\\t-bhchha\\AppData\\Roaming\\Python\\Python37\\site-packages\\statsmodels\\tsa\\base\\tsa_model.py:165: ValueWarning: No frequency information was provided, so inferred frequency 10L will be used.\n",
      "  % freq, ValueWarning)\n",
      "C:\\Users\\t-bhchha\\AppData\\Roaming\\Python\\Python37\\site-packages\\statsmodels\\tsa\\base\\tsa_model.py:165: ValueWarning: No frequency information was provided, so inferred frequency 10L will be used.\n",
      "  % freq, ValueWarning)\n"
     ]
    },
    {
     "name": "stdout",
     "output_type": "stream",
     "text": [
      "ARIMA(2, 2, 2)x(1, 2, 0, 12)12 - AIC:82.67997425995252\n"
     ]
    },
    {
     "name": "stderr",
     "output_type": "stream",
     "text": [
      "C:\\Users\\t-bhchha\\AppData\\Roaming\\Python\\Python37\\site-packages\\statsmodels\\tsa\\base\\tsa_model.py:165: ValueWarning: No frequency information was provided, so inferred frequency 10L will be used.\n",
      "  % freq, ValueWarning)\n",
      "C:\\Users\\t-bhchha\\AppData\\Roaming\\Python\\Python37\\site-packages\\statsmodels\\tsa\\base\\tsa_model.py:165: ValueWarning: No frequency information was provided, so inferred frequency 10L will be used.\n",
      "  % freq, ValueWarning)\n",
      "C:\\Users\\t-bhchha\\AppData\\Roaming\\Python\\Python37\\site-packages\\statsmodels\\tsa\\base\\tsa_model.py:165: ValueWarning: No frequency information was provided, so inferred frequency 10L will be used.\n",
      "  % freq, ValueWarning)\n"
     ]
    },
    {
     "name": "stdout",
     "output_type": "stream",
     "text": [
      "ARIMA(2, 2, 2)x(2, 0, 0, 12)12 - AIC:131.90749998504862\n"
     ]
    },
    {
     "name": "stderr",
     "output_type": "stream",
     "text": [
      "C:\\Users\\t-bhchha\\AppData\\Roaming\\Python\\Python37\\site-packages\\statsmodels\\tsa\\base\\tsa_model.py:165: ValueWarning: No frequency information was provided, so inferred frequency 10L will be used.\n",
      "  % freq, ValueWarning)\n",
      "C:\\Users\\t-bhchha\\AppData\\Roaming\\Python\\Python37\\site-packages\\statsmodels\\base\\model.py:512: ConvergenceWarning: Maximum Likelihood optimization failed to converge. Check mle_retvals\n",
      "  \"Check mle_retvals\", ConvergenceWarning)\n",
      "C:\\Users\\t-bhchha\\AppData\\Roaming\\Python\\Python37\\site-packages\\statsmodels\\tsa\\base\\tsa_model.py:165: ValueWarning: No frequency information was provided, so inferred frequency 10L will be used.\n",
      "  % freq, ValueWarning)\n",
      "C:\\Users\\t-bhchha\\AppData\\Roaming\\Python\\Python37\\site-packages\\statsmodels\\tsa\\base\\tsa_model.py:165: ValueWarning: No frequency information was provided, so inferred frequency 10L will be used.\n",
      "  % freq, ValueWarning)\n"
     ]
    },
    {
     "name": "stdout",
     "output_type": "stream",
     "text": [
      "ARIMA(2, 2, 2)x(2, 0, 1, 12)12 - AIC:758.8079498816267\n",
      "ARIMA(2, 2, 2)x(2, 1, 0, 12)12 - AIC:65.88504705712921\n"
     ]
    },
    {
     "name": "stderr",
     "output_type": "stream",
     "text": [
      "C:\\Users\\t-bhchha\\AppData\\Roaming\\Python\\Python37\\site-packages\\statsmodels\\tsa\\base\\tsa_model.py:165: ValueWarning: No frequency information was provided, so inferred frequency 10L will be used.\n",
      "  % freq, ValueWarning)\n",
      "C:\\Users\\t-bhchha\\AppData\\Roaming\\Python\\Python37\\site-packages\\statsmodels\\tsa\\base\\tsa_model.py:165: ValueWarning: No frequency information was provided, so inferred frequency 10L will be used.\n",
      "  % freq, ValueWarning)\n",
      "C:\\Users\\t-bhchha\\AppData\\Roaming\\Python\\Python37\\site-packages\\statsmodels\\tsa\\base\\tsa_model.py:165: ValueWarning: No frequency information was provided, so inferred frequency 10L will be used.\n",
      "  % freq, ValueWarning)\n",
      "C:\\Users\\t-bhchha\\AppData\\Roaming\\Python\\Python37\\site-packages\\statsmodels\\tsa\\base\\tsa_model.py:165: ValueWarning: No frequency information was provided, so inferred frequency 10L will be used.\n",
      "  % freq, ValueWarning)\n",
      "C:\\Users\\t-bhchha\\AppData\\Roaming\\Python\\Python37\\site-packages\\statsmodels\\tsa\\base\\tsa_model.py:165: ValueWarning: No frequency information was provided, so inferred frequency 10L will be used.\n",
      "  % freq, ValueWarning)\n"
     ]
    }
   ],
   "source": [
    "for param in pdq:\n",
    "    for param_seasonal in seasonal_pdq:\n",
    "        try:\n",
    "            mod = sm.tsa.statespace.SARIMAX(y,order=param, seasonal_order=param_seasonal, enforce_stationarity=False, enforce_invertibility=False)\n",
    "\n",
    "            results = mod.fit()\n",
    "            print('ARIMA{}x{}12 - AIC:{}'.format(param, param_seasonal, results.aic))\n",
    "        except:\n",
    "            continue"
   ]
  },
  {
   "cell_type": "code",
   "execution_count": 12,
   "metadata": {},
   "outputs": [
    {
     "name": "stdout",
     "output_type": "stream",
     "text": [
      "==============================================================================\n",
      "                 coef    std err          z      P>|z|      [0.025      0.975]\n",
      "------------------------------------------------------------------------------\n",
      "ar.L1          0.2019      0.368      0.549      0.583      -0.519       0.923\n",
      "ma.L1         -1.0000   2191.680     -0.000      1.000   -4296.614    4294.614\n",
      "ar.S.L12      -0.3791      0.168     -2.254      0.024      -0.709      -0.049\n",
      "sigma2        29.7293   6.52e+04      0.000      1.000   -1.28e+05    1.28e+05\n",
      "==============================================================================\n"
     ]
    },
    {
     "name": "stderr",
     "output_type": "stream",
     "text": [
      "C:\\Users\\t-bhchha\\AppData\\Roaming\\Python\\Python37\\site-packages\\statsmodels\\tsa\\base\\tsa_model.py:165: ValueWarning: No frequency information was provided, so inferred frequency 10L will be used.\n",
      "  % freq, ValueWarning)\n"
     ]
    }
   ],
   "source": [
    "mod = sm.tsa.statespace.SARIMAX(y,\n",
    "                                order=(1, 1, 1),\n",
    "                                seasonal_order=(1, 1, 0, 12),\n",
    "                                enforce_stationarity=False,\n",
    "                                enforce_invertibility=False)\n",
    "results = mod.fit()\n",
    "print(results.summary().tables[1])"
   ]
  },
  {
   "cell_type": "code",
   "execution_count": 13,
   "metadata": {},
   "outputs": [
    {
     "data": {
      "image/png": "[encoded data removed]",
      "text/plain": [
       "<Figure size 1152x576 with 4 Axes>"
      ]
     },
     "metadata": {
      "needs_background": "light"
     },
     "output_type": "display_data"
    }
   ],
   "source": [
    "results.plot_diagnostics(figsize=(16, 8))\n",
    "plt.show()"
   ]
  },
  {
   "cell_type": "code",
   "execution_count": 19,
   "metadata": {},
   "outputs": [
    {
     "data": {
      "image/png": "[encoded data removed]",
      "text/plain": [
       "<Figure size 1008x504 with 1 Axes>"
      ]
     },
     "metadata": {
      "needs_background": "light"
     },
     "output_type": "display_data"
    }
   ],
   "source": [
    "pred = results.get_prediction(start='1970-01-01 00:26:02.370', dynamic=False)\n",
    "pred_ci = pred.conf_int()\n",
    "ax = y['1970':].plot(label='observed')\n",
    "pred.predicted_mean.plot(ax=ax, label='One-step ahead Forecast', alpha=.7, figsize=(14, 7))\n",
    "ax.fill_between(pred_ci.index,\n",
    "                pred_ci.iloc[:, 0],\n",
    "                pred_ci.iloc[:, 1], color='k', alpha=.2)\n",
    "ax.set_xlabel('Time')\n",
    "ax.set_ylabel('PM25 values')\n",
    "plt.legend()\n",
    "plt.show()"
   ]
  },
  {
   "cell_type": "code",
   "execution_count": 20,
   "metadata": {},
   "outputs": [
    {
     "name": "stdout",
     "output_type": "stream",
     "text": [
      "The Mean Squared Error of our forecasts is 25.09\n"
     ]
    }
   ],
   "source": [
    "y_forecasted = pred.predicted_mean\n",
    "y_truth = y['1970-01-01':]\n",
    "mse = ((y_forecasted - y_truth) ** 2).mean()\n",
    "print('The Mean Squared Error of our forecasts is {}'.format(round(mse, 2)))"
   ]
  },
  {
   "cell_type": "code",
   "execution_count": null,
   "metadata": {},
   "outputs": [],
   "source": []
  },
  {
   "cell_type": "code",
   "execution_count": null,
   "metadata": {},
   "outputs": [],
   "source": []
  },
  {
   "cell_type": "code",
   "execution_count": null,
   "metadata": {},
   "outputs": [],
   "source": []
  }
 ],
 "metadata": {
  "kernelspec": {
   "display_name": "Python 3",
   "language": "python",
   "name": "python3"
  },
  "language_info": {
   "codemirror_mode": {
    "name": "ipython",
    "version": 3
   },
   "file_extension": ".py",
   "mimetype": "text/x-python",
   "name": "python",
   "nbconvert_exporter": "python",
   "pygments_lexer": "ipython3",
   "version": "3.7.4"
  }
 },
 "nbformat": 4,
 "nbformat_minor": 2
}
